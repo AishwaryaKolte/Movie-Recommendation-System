{
 "cells": [
  {
   "cell_type": "markdown",
   "metadata": {},
   "source": [
    "# Content Based Recommendation"
   ]
  },
  {
   "cell_type": "markdown",
   "metadata": {},
   "source": [
    "### Recommendations are developed based on the similarities in product content. For instance, if a user reads a book of a certain category, a similar book is recommended based on its content. By representing texts mathematically, we can capture some key words in the product descriptions using text vectors through the Count Vector and TF-IDF methods, and identify other product descriptions that are similar."
   ]
  },
  {
   "cell_type": "code",
   "execution_count": 23,
   "metadata": {
    "execution": {
     "iopub.execute_input": "2023-11-09T17:08:01.852487Z",
     "iopub.status.busy": "2023-11-09T17:08:01.851757Z",
     "iopub.status.idle": "2023-11-09T17:08:02.479508Z",
     "shell.execute_reply": "2023-11-09T17:08:02.478339Z",
     "shell.execute_reply.started": "2023-11-09T17:08:01.852446Z"
    }
   },
   "outputs": [],
   "source": [
    "#importing libraries\n",
    "import pandas as pd\n",
    "from sklearn.feature_extraction.text import TfidfVectorizer\n",
    "from sklearn.metrics.pairwise import cosine_similarity"
   ]
  },
  {
   "cell_type": "markdown",
   "metadata": {},
   "source": [
    "# TF-IDF Matrix building "
   ]
  },
  {
   "cell_type": "code",
   "execution_count": 24,
   "metadata": {
    "execution": {
     "iopub.execute_input": "2023-11-09T17:08:02.481264Z",
     "iopub.status.busy": "2023-11-09T17:08:02.480914Z",
     "iopub.status.idle": "2023-11-09T17:08:03.404353Z",
     "shell.execute_reply": "2023-11-09T17:08:03.403183Z",
     "shell.execute_reply.started": "2023-11-09T17:08:02.481231Z"
    }
   },
   "outputs": [
    {
     "data": {
      "text/html": [
       "<div>\n",
       "<style scoped>\n",
       "    .dataframe tbody tr th:only-of-type {\n",
       "        vertical-align: middle;\n",
       "    }\n",
       "\n",
       "    .dataframe tbody tr th {\n",
       "        vertical-align: top;\n",
       "    }\n",
       "\n",
       "    .dataframe thead th {\n",
       "        text-align: right;\n",
       "    }\n",
       "</style>\n",
       "<table border=\"1\" class=\"dataframe\">\n",
       "  <thead>\n",
       "    <tr style=\"text-align: right;\">\n",
       "      <th></th>\n",
       "      <th>Invoice</th>\n",
       "      <th>StockCode</th>\n",
       "      <th>Description</th>\n",
       "      <th>Quantity</th>\n",
       "      <th>InvoiceDate</th>\n",
       "      <th>Price</th>\n",
       "      <th>Customer ID</th>\n",
       "      <th>Country</th>\n",
       "    </tr>\n",
       "  </thead>\n",
       "  <tbody>\n",
       "    <tr>\n",
       "      <th>0</th>\n",
       "      <td>536365</td>\n",
       "      <td>85123A</td>\n",
       "      <td>WHITE HANGING HEART T-LIGHT HOLDER</td>\n",
       "      <td>6</td>\n",
       "      <td>12/1/2010 8:26</td>\n",
       "      <td>2.55</td>\n",
       "      <td>17850.0</td>\n",
       "      <td>United Kingdom</td>\n",
       "    </tr>\n",
       "    <tr>\n",
       "      <th>1</th>\n",
       "      <td>536365</td>\n",
       "      <td>71053</td>\n",
       "      <td>WHITE METAL LANTERN</td>\n",
       "      <td>6</td>\n",
       "      <td>12/1/2010 8:26</td>\n",
       "      <td>3.39</td>\n",
       "      <td>17850.0</td>\n",
       "      <td>United Kingdom</td>\n",
       "    </tr>\n",
       "    <tr>\n",
       "      <th>2</th>\n",
       "      <td>536365</td>\n",
       "      <td>84406B</td>\n",
       "      <td>CREAM CUPID HEARTS COAT HANGER</td>\n",
       "      <td>8</td>\n",
       "      <td>12/1/2010 8:26</td>\n",
       "      <td>2.75</td>\n",
       "      <td>17850.0</td>\n",
       "      <td>United Kingdom</td>\n",
       "    </tr>\n",
       "    <tr>\n",
       "      <th>3</th>\n",
       "      <td>536365</td>\n",
       "      <td>84029G</td>\n",
       "      <td>KNITTED UNION FLAG HOT WATER BOTTLE</td>\n",
       "      <td>6</td>\n",
       "      <td>12/1/2010 8:26</td>\n",
       "      <td>3.39</td>\n",
       "      <td>17850.0</td>\n",
       "      <td>United Kingdom</td>\n",
       "    </tr>\n",
       "    <tr>\n",
       "      <th>4</th>\n",
       "      <td>536365</td>\n",
       "      <td>84029E</td>\n",
       "      <td>RED WOOLLY HOTTIE WHITE HEART.</td>\n",
       "      <td>6</td>\n",
       "      <td>12/1/2010 8:26</td>\n",
       "      <td>3.39</td>\n",
       "      <td>17850.0</td>\n",
       "      <td>United Kingdom</td>\n",
       "    </tr>\n",
       "  </tbody>\n",
       "</table>\n",
       "</div>"
      ],
      "text/plain": [
       "  Invoice StockCode                          Description  Quantity  \\\n",
       "0  536365    85123A   WHITE HANGING HEART T-LIGHT HOLDER         6   \n",
       "1  536365     71053                  WHITE METAL LANTERN         6   \n",
       "2  536365    84406B       CREAM CUPID HEARTS COAT HANGER         8   \n",
       "3  536365    84029G  KNITTED UNION FLAG HOT WATER BOTTLE         6   \n",
       "4  536365    84029E       RED WOOLLY HOTTIE WHITE HEART.         6   \n",
       "\n",
       "      InvoiceDate  Price  Customer ID         Country  \n",
       "0  12/1/2010 8:26   2.55      17850.0  United Kingdom  \n",
       "1  12/1/2010 8:26   3.39      17850.0  United Kingdom  \n",
       "2  12/1/2010 8:26   2.75      17850.0  United Kingdom  \n",
       "3  12/1/2010 8:26   3.39      17850.0  United Kingdom  \n",
       "4  12/1/2010 8:26   3.39      17850.0  United Kingdom  "
      ]
     },
     "execution_count": 24,
     "metadata": {},
     "output_type": "execute_result"
    }
   ],
   "source": [
    "movies = pd.read_csv(r'C:\\Users\\DELL\\Downloads\\The Movies Dataset\\movies_metadata.csv',\n",
    "                    usecols=[\"id\",\"overview\",\"title\",\"vote_average\",\"vote_count\",\"release_date\"],low_memory=False)"
   ]
  },
  {
   "cell_type": "code",
   "execution_count": 25,
   "metadata": {
    "execution": {
     "iopub.execute_input": "2023-11-09T17:08:03.406695Z",
     "iopub.status.busy": "2023-11-09T17:08:03.406029Z",
     "iopub.status.idle": "2023-11-09T17:08:03.549981Z",
     "shell.execute_reply": "2023-11-09T17:08:03.548351Z",
     "shell.execute_reply.started": "2023-11-09T17:08:03.406656Z"
    }
   },
   "outputs": [],
   "source": [
    "movies = movies.reset_index(drop=True)\n",
    "movies = movies.dropna()\n",
    "movies = movies.drop_duplicates()\n",
    "movies = movies.rename(columns={\"id\":\"movieId\"})\n",
    "movies[\"movieId\"] = movies[\"movieId\"].astype(\"int64\")"
   ]
  },
  {
   "cell_type": "code",
   "execution_count": 26,
   "metadata": {
    "execution": {
     "iopub.execute_input": "2023-11-09T17:08:03.553451Z",
     "iopub.status.busy": "2023-11-09T17:08:03.552545Z",
     "iopub.status.idle": "2023-11-09T17:08:03.564016Z",
     "shell.execute_reply": "2023-11-09T17:08:03.562762Z",
     "shell.execute_reply.started": "2023-11-09T17:08:03.553407Z"
    }
   },
   "outputs": [
    {
     "data": {
      "text/plain": [
       "0    Led by Woody, Andy's toys live happily in his ...\n",
       "1    When siblings Judy and Peter discover an encha...\n",
       "2    A family wedding reignites the ancient feud be...\n",
       "3    Cheated on, mistreated and stepped on, the wom...\n",
       "4    Just when George Banks has recovered from his ...\n",
       "Name: overview, dtype: object"
      ]
     },
     "execution_count": 26,
     "metadata": {},
     "output_type": "execute_result"
    }
   ],
   "source": [
    "#We will focus only on the overview from the dataset:\n",
    "movies[\"overview\"].head()"
   ]
  },
  {
   "cell_type": "code",
   "execution_count": 27,
   "metadata": {
    "execution": {
     "iopub.execute_input": "2023-11-09T17:08:03.566165Z",
     "iopub.status.busy": "2023-11-09T17:08:03.565791Z",
     "iopub.status.idle": "2023-11-09T17:08:03.577404Z",
     "shell.execute_reply": "2023-11-09T17:08:03.576023Z",
     "shell.execute_reply.started": "2023-11-09T17:08:03.566135Z"
    }
   },
   "outputs": [],
   "source": [
    "#We are using the TF-IDF method and setting up the model:\n",
    "tfidf = TfidfVectorizer(stop_words=\"english\", min_df = 4)\n",
    "#We removed commonly used words such as 'and', 'the', 'on', 'in', as they do not carry significant values."
   ]
  },
  {
   "cell_type": "code",
   "execution_count": 28,
   "metadata": {
    "execution": {
     "iopub.execute_input": "2023-11-09T17:08:03.586066Z",
     "iopub.status.busy": "2023-11-09T17:08:03.585693Z",
     "iopub.status.idle": "2023-11-09T17:08:03.602535Z",
     "shell.execute_reply": "2023-11-09T17:08:03.601313Z",
     "shell.execute_reply.started": "2023-11-09T17:08:03.586037Z"
    }
   },
   "outputs": [],
   "source": [
    "#We replaced NaN values with blanks as NaNs can cause issues in calculations:\n",
    "movies['overview'] = movies['overview'].fillna('')"
   ]
  },
  {
   "cell_type": "code",
   "execution_count": 29,
   "metadata": {
    "execution": {
     "iopub.execute_input": "2023-11-09T17:08:03.606909Z",
     "iopub.status.busy": "2023-11-09T17:08:03.606492Z",
     "iopub.status.idle": "2023-11-09T17:08:06.861781Z",
     "shell.execute_reply": "2023-11-09T17:08:06.860472Z",
     "shell.execute_reply.started": "2023-11-09T17:08:03.606870Z"
    }
   },
   "outputs": [],
   "source": [
    "#After fitting, we transform the data:\n",
    "tfidf_matrix = tfidf.fit_transform(movies['overview'])"
   ]
  },
  {
   "cell_type": "code",
   "execution_count": 30,
   "metadata": {
    "execution": {
     "iopub.execute_input": "2023-11-09T17:08:06.864080Z",
     "iopub.status.busy": "2023-11-09T17:08:06.863708Z",
     "iopub.status.idle": "2023-11-09T17:08:06.871259Z",
     "shell.execute_reply": "2023-11-09T17:08:06.870040Z",
     "shell.execute_reply.started": "2023-11-09T17:08:06.864049Z"
    }
   },
   "outputs": [
    {
     "data": {
      "text/plain": [
       "(44407, 23834)"
      ]
     },
     "execution_count": 30,
     "metadata": {},
     "output_type": "execute_result"
    }
   ],
   "source": [
    "#There are 45,466 movie reviews and 75,827 words:\n",
    "tfidf_matrix.shape"
   ]
  },
  {
   "cell_type": "markdown",
   "metadata": {},
   "source": [
    "# Cosine Similarity Matrix "
   ]
  },
  {
   "cell_type": "code",
   "execution_count": 31,
   "metadata": {
    "execution": {
     "iopub.execute_input": "2023-11-09T17:08:06.874120Z",
     "iopub.status.busy": "2023-11-09T17:08:06.873061Z",
     "iopub.status.idle": "2023-11-09T17:08:49.230826Z",
     "shell.execute_reply": "2023-11-09T17:08:49.229919Z",
     "shell.execute_reply.started": "2023-11-09T17:08:06.874063Z"
    }
   },
   "outputs": [
    {
     "data": {
      "text/plain": [
       "(44407, 44407)"
      ]
     },
     "execution_count": 31,
     "metadata": {},
     "output_type": "execute_result"
    }
   ],
   "source": [
    "#This is the part where we find which movies are similar to each other, mathematically speaking, using text vectors.\n",
    "cosine_sim = cosine_similarity(tfidf_matrix,\n",
    "                               tfidf_matrix)\n",
    "#The cosine_sim.shape gives us the similarities between documents.\n",
    "cosine_sim.shape"
   ]
  },
  {
   "cell_type": "markdown",
   "metadata": {},
   "source": [
    "# Making Recommendations Based on Similarities "
   ]
  },
  {
   "cell_type": "code",
   "execution_count": 33,
   "metadata": {
    "execution": {
     "iopub.execute_input": "2023-11-09T17:09:27.150262Z",
     "iopub.status.busy": "2023-11-09T17:09:27.149838Z",
     "iopub.status.idle": "2023-11-09T17:09:27.157010Z",
     "shell.execute_reply": "2023-11-09T17:09:27.155622Z",
     "shell.execute_reply.started": "2023-11-09T17:09:27.150231Z"
    }
   },
   "outputs": [],
   "source": [
    "#To evaluate the calculated scores, we retrieve the names.\n",
    "indices = pd.Series(movies.index, index=movies['title'])"
   ]
  },
  {
   "cell_type": "code",
   "execution_count": 34,
   "metadata": {
    "execution": {
     "iopub.execute_input": "2023-11-09T17:09:29.210397Z",
     "iopub.status.busy": "2023-11-09T17:09:29.209698Z",
     "iopub.status.idle": "2023-11-09T17:09:29.258370Z",
     "shell.execute_reply": "2023-11-09T17:09:29.257421Z",
     "shell.execute_reply.started": "2023-11-09T17:09:29.210361Z"
    }
   },
   "outputs": [
    {
     "data": {
      "text/plain": [
       "title\n",
       "Cinderella              11\n",
       "Hamlet                   9\n",
       "Beauty and the Beast     8\n",
       "Alice in Wonderland      8\n",
       "Les Misérables           8\n",
       "                        ..\n",
       "No Greater Love          1\n",
       "A Woman in Berlin        1\n",
       "Talhotblond              1\n",
       "Tortilla Flat            1\n",
       "Queerama                 1\n",
       "Name: count, Length: 41303, dtype: int64"
      ]
     },
     "execution_count": 34,
     "metadata": {},
     "output_type": "execute_result"
    }
   ],
   "source": [
    "#There are multiple instances of movies.\n",
    "indices.index.value_counts()"
   ]
  },
  {
   "cell_type": "code",
   "execution_count": 35,
   "metadata": {
    "execution": {
     "iopub.execute_input": "2023-11-09T17:09:29.990313Z",
     "iopub.status.busy": "2023-11-09T17:09:29.989653Z",
     "iopub.status.idle": "2023-11-09T17:09:30.008477Z",
     "shell.execute_reply": "2023-11-09T17:09:30.006996Z",
     "shell.execute_reply.started": "2023-11-09T17:09:29.990277Z"
    }
   },
   "outputs": [],
   "source": [
    "#We keep one of the duplicate movies and delete the others. We take the last one for freshness.\n",
    "indices = indices[~indices.index.duplicated(keep='last')]"
   ]
  },
  {
   "cell_type": "code",
   "execution_count": 36,
   "metadata": {
    "execution": {
     "iopub.execute_input": "2023-11-09T17:09:32.967413Z",
     "iopub.status.busy": "2023-11-09T17:09:32.966978Z",
     "iopub.status.idle": "2023-11-09T17:09:32.979594Z",
     "shell.execute_reply": "2023-11-09T17:09:32.978169Z",
     "shell.execute_reply.started": "2023-11-09T17:09:32.967379Z"
    }
   },
   "outputs": [],
   "source": [
    "#We note the index of the movie \"Sherlock Holmes\".\n",
    "movie_index = indices[\"Sherlock Holmes\"]"
   ]
  },
  {
   "cell_type": "code",
   "execution_count": 37,
   "metadata": {
    "execution": {
     "iopub.execute_input": "2023-11-09T17:09:33.269172Z",
     "iopub.status.busy": "2023-11-09T17:09:33.268628Z",
     "iopub.status.idle": "2023-11-09T17:09:33.278620Z",
     "shell.execute_reply": "2023-11-09T17:09:33.277196Z",
     "shell.execute_reply.started": "2023-11-09T17:09:33.269125Z"
    }
   },
   "outputs": [
    {
     "data": {
      "text/plain": [
       "array([0.00630183, 0.00923754, 0.        , ..., 0.        , 0.01089884,\n",
       "       0.        ])"
      ]
     },
     "execution_count": 37,
     "metadata": {},
     "output_type": "execute_result"
    }
   ],
   "source": [
    "#Accessing cosine_sim with the index of Sherlock Holmes.\n",
    "cosine_sim[movie_index]"
   ]
  },
  {
   "cell_type": "code",
   "execution_count": 38,
   "metadata": {
    "execution": {
     "iopub.execute_input": "2023-11-09T17:09:33.950639Z",
     "iopub.status.busy": "2023-11-09T17:09:33.950003Z",
     "iopub.status.idle": "2023-11-09T17:09:33.955616Z",
     "shell.execute_reply": "2023-11-09T17:09:33.954577Z",
     "shell.execute_reply.started": "2023-11-09T17:09:33.950604Z"
    }
   },
   "outputs": [],
   "source": [
    "#We create a dataframe called similarity_scores and retrieve the similar ones, evaluating them as scores.\n",
    "similarity_scores = pd.DataFrame(cosine_sim[movie_index],columns=[\"score\"])"
   ]
  },
  {
   "cell_type": "code",
   "execution_count": 40,
   "metadata": {
    "execution": {
     "iopub.execute_input": "2023-11-09T17:09:37.100887Z",
     "iopub.status.busy": "2023-11-09T17:09:37.100396Z",
     "iopub.status.idle": "2023-11-09T17:09:37.113100Z",
     "shell.execute_reply": "2023-11-09T17:09:37.112222Z",
     "shell.execute_reply.started": "2023-11-09T17:09:37.100847Z"
    }
   },
   "outputs": [],
   "source": [
    "#Fetching the top 10 movies with the highest scores. The first observation includes the movie itself, so we use 1 to 11.\n",
    "movie_indices = similarity_scores.sort_values(\"score\", ascending=False)[1:11].index"
   ]
  },
  {
   "cell_type": "code",
   "execution_count": 41,
   "metadata": {
    "execution": {
     "iopub.execute_input": "2023-11-09T17:09:37.621421Z",
     "iopub.status.busy": "2023-11-09T17:09:37.620117Z",
     "iopub.status.idle": "2023-11-09T17:09:37.631099Z",
     "shell.execute_reply": "2023-11-09T17:09:37.629935Z",
     "shell.execute_reply.started": "2023-11-09T17:09:37.621363Z"
    }
   },
   "outputs": [
    {
     "data": {
      "text/plain": [
       "35745    The Dog of Flanders\n",
       "16735    The Heart Elsewhere\n",
       "31594         We Can Do That\n",
       "30608      Drama of Jealousy\n",
       "25451             Marvellous\n",
       "44609             The Mitten\n",
       "21348      Darling Companion\n",
       "12104        The Dog Problem\n",
       "33454       The Empty Canvas\n",
       "42413         Death by Death\n",
       "Name: title, dtype: object"
      ]
     },
     "execution_count": 41,
     "metadata": {},
     "output_type": "execute_result"
    }
   ],
   "source": [
    "#Retrieving the titles of the movies with index information.\n",
    "movies['title'].iloc[movie_indices]"
   ]
  },
  {
   "cell_type": "code",
   "execution_count": 42,
   "metadata": {
    "execution": {
     "iopub.execute_input": "2023-11-09T17:09:38.296749Z",
     "iopub.status.busy": "2023-11-09T17:09:38.296355Z",
     "iopub.status.idle": "2023-11-09T17:09:38.305025Z",
     "shell.execute_reply": "2023-11-09T17:09:38.303890Z",
     "shell.execute_reply.started": "2023-11-09T17:09:38.296717Z"
    }
   },
   "outputs": [],
   "source": [
    "def content_based_recommender(title, cosine_sim, dataframe):\n",
    "    # making index\n",
    "    indices = pd.Series(dataframe.index, index=dataframe['title'])\n",
    "    indices = indices[~indices.index.duplicated(keep='last')]\n",
    "    # catch title's index\n",
    "    movie_index = indices[title]\n",
    "    # calculating similarty score to target\n",
    "    similarity_scores = pd.DataFrame(cosine_sim[movie_index], columns=[\"score\"])\n",
    "    # bring 10 movie\n",
    "    movie_indices = similarity_scores.sort_values(\"score\", ascending=False)[1:11].index\n",
    "    return dataframe['title'].iloc[movie_indices]"
   ]
  },
  {
   "cell_type": "code",
   "execution_count": 43,
   "metadata": {
    "execution": {
     "iopub.execute_input": "2023-11-09T17:09:41.340393Z",
     "iopub.status.busy": "2023-11-09T17:09:41.339977Z",
     "iopub.status.idle": "2023-11-09T17:09:41.369885Z",
     "shell.execute_reply": "2023-11-09T17:09:41.368754Z",
     "shell.execute_reply.started": "2023-11-09T17:09:41.340361Z"
    }
   },
   "outputs": [
    {
     "data": {
      "text/plain": [
       "27610                So Sweet, So Dead\n",
       "3534                             Lured\n",
       "21                             Copycat\n",
       "2069                            Frenzy\n",
       "20626       The Wandering Soul Murders\n",
       "7583             The Stendhal Syndrome\n",
       "28141               Mark Strikes Again\n",
       "23816    Tables Turned on the Gardener\n",
       "26944            Whistling in Brooklyn\n",
       "28203                Kommissarie Späck\n",
       "Name: title, dtype: object"
      ]
     },
     "execution_count": 43,
     "metadata": {},
     "output_type": "execute_result"
    }
   ],
   "source": [
    "content_based_recommender(\"The Matrix\", cosine_sim, movies)"
   ]
  },
  {
   "cell_type": "markdown",
   "metadata": {},
   "source": [
    "# Item-Based Collaborative Filtering"
   ]
  },
  {
   "cell_type": "markdown",
   "metadata": {},
   "source": [
    "### Recommendations are made based on item similarity.\n",
    "Example: Lets think viewer likes a particular movie. Based on the similarity in the structure of liked and disliked movies, another movie is recommended."
   ]
  },
  {
   "cell_type": "code",
   "execution_count": 45,
   "metadata": {
    "execution": {
     "iopub.execute_input": "2023-11-09T17:10:00.085784Z",
     "iopub.status.busy": "2023-11-09T17:10:00.085345Z",
     "iopub.status.idle": "2023-11-09T17:10:00.175512Z",
     "shell.execute_reply": "2023-11-09T17:10:00.174247Z",
     "shell.execute_reply.started": "2023-11-09T17:10:00.085748Z"
    }
   },
   "outputs": [],
   "source": [
    "rating = pd.read_csv(r\"C:\\Users\\DELL\\Downloads\\The Movies Dataset\\ratings.csv\")\n",
    "\n",
    "df = pd.merge(movies,rating, how=\"inner\", on=\"movieId\")"
   ]
  },
  {
   "cell_type": "code",
   "execution_count": 46,
   "metadata": {
    "execution": {
     "iopub.execute_input": "2023-11-09T17:10:01.735393Z",
     "iopub.status.busy": "2023-11-09T17:10:01.734156Z",
     "iopub.status.idle": "2023-11-09T17:10:01.754003Z",
     "shell.execute_reply": "2023-11-09T17:10:01.752579Z",
     "shell.execute_reply.started": "2023-11-09T17:10:01.735349Z"
    }
   },
   "outputs": [
    {
     "data": {
      "text/html": [
       "<div>\n",
       "<style scoped>\n",
       "    .dataframe tbody tr th:only-of-type {\n",
       "        vertical-align: middle;\n",
       "    }\n",
       "\n",
       "    .dataframe tbody tr th {\n",
       "        vertical-align: top;\n",
       "    }\n",
       "\n",
       "    .dataframe thead th {\n",
       "        text-align: right;\n",
       "    }\n",
       "</style>\n",
       "<table border=\"1\" class=\"dataframe\">\n",
       "  <thead>\n",
       "    <tr style=\"text-align: right;\">\n",
       "      <th></th>\n",
       "      <th>movieId</th>\n",
       "      <th>overview</th>\n",
       "      <th>release_date</th>\n",
       "      <th>title</th>\n",
       "      <th>vote_average</th>\n",
       "      <th>vote_count</th>\n",
       "      <th>userId</th>\n",
       "      <th>rating</th>\n",
       "      <th>timestamp</th>\n",
       "    </tr>\n",
       "  </thead>\n",
       "  <tbody>\n",
       "    <tr>\n",
       "      <th>0</th>\n",
       "      <td>949</td>\n",
       "      <td>Obsessive master thief, Neil McCauley leads a ...</td>\n",
       "      <td>1995-12-15</td>\n",
       "      <td>Heat</td>\n",
       "      <td>7.7</td>\n",
       "      <td>1886.0</td>\n",
       "      <td>23</td>\n",
       "      <td>3.5</td>\n",
       "      <td>1148721092</td>\n",
       "    </tr>\n",
       "    <tr>\n",
       "      <th>1</th>\n",
       "      <td>949</td>\n",
       "      <td>Obsessive master thief, Neil McCauley leads a ...</td>\n",
       "      <td>1995-12-15</td>\n",
       "      <td>Heat</td>\n",
       "      <td>7.7</td>\n",
       "      <td>1886.0</td>\n",
       "      <td>102</td>\n",
       "      <td>4.0</td>\n",
       "      <td>956598942</td>\n",
       "    </tr>\n",
       "    <tr>\n",
       "      <th>2</th>\n",
       "      <td>949</td>\n",
       "      <td>Obsessive master thief, Neil McCauley leads a ...</td>\n",
       "      <td>1995-12-15</td>\n",
       "      <td>Heat</td>\n",
       "      <td>7.7</td>\n",
       "      <td>1886.0</td>\n",
       "      <td>232</td>\n",
       "      <td>2.0</td>\n",
       "      <td>955092697</td>\n",
       "    </tr>\n",
       "    <tr>\n",
       "      <th>3</th>\n",
       "      <td>949</td>\n",
       "      <td>Obsessive master thief, Neil McCauley leads a ...</td>\n",
       "      <td>1995-12-15</td>\n",
       "      <td>Heat</td>\n",
       "      <td>7.7</td>\n",
       "      <td>1886.0</td>\n",
       "      <td>242</td>\n",
       "      <td>5.0</td>\n",
       "      <td>956688825</td>\n",
       "    </tr>\n",
       "    <tr>\n",
       "      <th>4</th>\n",
       "      <td>949</td>\n",
       "      <td>Obsessive master thief, Neil McCauley leads a ...</td>\n",
       "      <td>1995-12-15</td>\n",
       "      <td>Heat</td>\n",
       "      <td>7.7</td>\n",
       "      <td>1886.0</td>\n",
       "      <td>263</td>\n",
       "      <td>3.0</td>\n",
       "      <td>1117846575</td>\n",
       "    </tr>\n",
       "  </tbody>\n",
       "</table>\n",
       "</div>"
      ],
      "text/plain": [
       "   movieId                                           overview release_date  \\\n",
       "0      949  Obsessive master thief, Neil McCauley leads a ...   1995-12-15   \n",
       "1      949  Obsessive master thief, Neil McCauley leads a ...   1995-12-15   \n",
       "2      949  Obsessive master thief, Neil McCauley leads a ...   1995-12-15   \n",
       "3      949  Obsessive master thief, Neil McCauley leads a ...   1995-12-15   \n",
       "4      949  Obsessive master thief, Neil McCauley leads a ...   1995-12-15   \n",
       "\n",
       "  title  vote_average  vote_count  userId  rating   timestamp  \n",
       "0  Heat           7.7      1886.0      23     3.5  1148721092  \n",
       "1  Heat           7.7      1886.0     102     4.0   956598942  \n",
       "2  Heat           7.7      1886.0     232     2.0   955092697  \n",
       "3  Heat           7.7      1886.0     242     5.0   956688825  \n",
       "4  Heat           7.7      1886.0     263     3.0  1117846575  "
      ]
     },
     "execution_count": 46,
     "metadata": {},
     "output_type": "execute_result"
    }
   ],
   "source": [
    "df.head()"
   ]
  },
  {
   "cell_type": "code",
   "execution_count": 48,
   "metadata": {
    "execution": {
     "iopub.execute_input": "2023-11-09T17:13:53.667977Z",
     "iopub.status.busy": "2023-11-09T17:13:53.667543Z",
     "iopub.status.idle": "2023-11-09T17:13:53.721824Z",
     "shell.execute_reply": "2023-11-09T17:13:53.720528Z",
     "shell.execute_reply.started": "2023-11-09T17:13:53.667943Z"
    }
   },
   "outputs": [],
   "source": [
    "#For instance, a user has rated one movie, but has not rated numerous others, leading to a large number of cells representing the missing data, \n",
    "#resulting in performance issues. Various reductions must be made, such as excluding movies with fewer than 1000 ratings.\n",
    "\n",
    "#The resulting 'user_movie_df' dataframe will have users as the index, movie titles as the columns, and the corresponding ratings as the values\n",
    "user_movie_df = df.groupby([\"userId\",\"movieId\"])[\"rating\"].mean().unstack().notnull()"
   ]
  },
  {
   "cell_type": "code",
   "execution_count": 49,
   "metadata": {
    "execution": {
     "iopub.execute_input": "2023-11-09T17:14:02.767032Z",
     "iopub.status.busy": "2023-11-09T17:14:02.766570Z",
     "iopub.status.idle": "2023-11-09T17:14:02.804170Z",
     "shell.execute_reply": "2023-11-09T17:14:02.802593Z",
     "shell.execute_reply.started": "2023-11-09T17:14:02.766986Z"
    }
   },
   "outputs": [
    {
     "data": {
      "text/html": [
       "<div>\n",
       "<style scoped>\n",
       "    .dataframe tbody tr th:only-of-type {\n",
       "        vertical-align: middle;\n",
       "    }\n",
       "\n",
       "    .dataframe tbody tr th {\n",
       "        vertical-align: top;\n",
       "    }\n",
       "\n",
       "    .dataframe thead th {\n",
       "        text-align: right;\n",
       "    }\n",
       "</style>\n",
       "<table border=\"1\" class=\"dataframe\">\n",
       "  <thead>\n",
       "    <tr style=\"text-align: right;\">\n",
       "      <th>movieId</th>\n",
       "      <th>2</th>\n",
       "      <th>3</th>\n",
       "      <th>5</th>\n",
       "      <th>6</th>\n",
       "      <th>11</th>\n",
       "      <th>12</th>\n",
       "      <th>13</th>\n",
       "      <th>14</th>\n",
       "      <th>15</th>\n",
       "      <th>16</th>\n",
       "      <th>...</th>\n",
       "      <th>132961</th>\n",
       "      <th>133365</th>\n",
       "      <th>134158</th>\n",
       "      <th>134569</th>\n",
       "      <th>134881</th>\n",
       "      <th>140174</th>\n",
       "      <th>142507</th>\n",
       "      <th>148652</th>\n",
       "      <th>158238</th>\n",
       "      <th>160718</th>\n",
       "    </tr>\n",
       "    <tr>\n",
       "      <th>userId</th>\n",
       "      <th></th>\n",
       "      <th></th>\n",
       "      <th></th>\n",
       "      <th></th>\n",
       "      <th></th>\n",
       "      <th></th>\n",
       "      <th></th>\n",
       "      <th></th>\n",
       "      <th></th>\n",
       "      <th></th>\n",
       "      <th></th>\n",
       "      <th></th>\n",
       "      <th></th>\n",
       "      <th></th>\n",
       "      <th></th>\n",
       "      <th></th>\n",
       "      <th></th>\n",
       "      <th></th>\n",
       "      <th></th>\n",
       "      <th></th>\n",
       "      <th></th>\n",
       "    </tr>\n",
       "  </thead>\n",
       "  <tbody>\n",
       "    <tr>\n",
       "      <th>1</th>\n",
       "      <td>False</td>\n",
       "      <td>False</td>\n",
       "      <td>False</td>\n",
       "      <td>False</td>\n",
       "      <td>False</td>\n",
       "      <td>False</td>\n",
       "      <td>False</td>\n",
       "      <td>False</td>\n",
       "      <td>False</td>\n",
       "      <td>False</td>\n",
       "      <td>...</td>\n",
       "      <td>False</td>\n",
       "      <td>False</td>\n",
       "      <td>False</td>\n",
       "      <td>False</td>\n",
       "      <td>False</td>\n",
       "      <td>False</td>\n",
       "      <td>False</td>\n",
       "      <td>False</td>\n",
       "      <td>False</td>\n",
       "      <td>False</td>\n",
       "    </tr>\n",
       "    <tr>\n",
       "      <th>2</th>\n",
       "      <td>False</td>\n",
       "      <td>False</td>\n",
       "      <td>False</td>\n",
       "      <td>False</td>\n",
       "      <td>False</td>\n",
       "      <td>False</td>\n",
       "      <td>False</td>\n",
       "      <td>False</td>\n",
       "      <td>False</td>\n",
       "      <td>False</td>\n",
       "      <td>...</td>\n",
       "      <td>False</td>\n",
       "      <td>False</td>\n",
       "      <td>False</td>\n",
       "      <td>False</td>\n",
       "      <td>False</td>\n",
       "      <td>False</td>\n",
       "      <td>False</td>\n",
       "      <td>False</td>\n",
       "      <td>False</td>\n",
       "      <td>False</td>\n",
       "    </tr>\n",
       "    <tr>\n",
       "      <th>3</th>\n",
       "      <td>False</td>\n",
       "      <td>False</td>\n",
       "      <td>False</td>\n",
       "      <td>False</td>\n",
       "      <td>False</td>\n",
       "      <td>False</td>\n",
       "      <td>False</td>\n",
       "      <td>False</td>\n",
       "      <td>False</td>\n",
       "      <td>False</td>\n",
       "      <td>...</td>\n",
       "      <td>False</td>\n",
       "      <td>False</td>\n",
       "      <td>False</td>\n",
       "      <td>False</td>\n",
       "      <td>False</td>\n",
       "      <td>False</td>\n",
       "      <td>False</td>\n",
       "      <td>False</td>\n",
       "      <td>False</td>\n",
       "      <td>False</td>\n",
       "    </tr>\n",
       "    <tr>\n",
       "      <th>4</th>\n",
       "      <td>False</td>\n",
       "      <td>False</td>\n",
       "      <td>False</td>\n",
       "      <td>False</td>\n",
       "      <td>False</td>\n",
       "      <td>False</td>\n",
       "      <td>False</td>\n",
       "      <td>False</td>\n",
       "      <td>False</td>\n",
       "      <td>False</td>\n",
       "      <td>...</td>\n",
       "      <td>False</td>\n",
       "      <td>False</td>\n",
       "      <td>False</td>\n",
       "      <td>False</td>\n",
       "      <td>False</td>\n",
       "      <td>False</td>\n",
       "      <td>False</td>\n",
       "      <td>False</td>\n",
       "      <td>False</td>\n",
       "      <td>False</td>\n",
       "    </tr>\n",
       "    <tr>\n",
       "      <th>5</th>\n",
       "      <td>False</td>\n",
       "      <td>True</td>\n",
       "      <td>False</td>\n",
       "      <td>False</td>\n",
       "      <td>False</td>\n",
       "      <td>False</td>\n",
       "      <td>False</td>\n",
       "      <td>False</td>\n",
       "      <td>False</td>\n",
       "      <td>False</td>\n",
       "      <td>...</td>\n",
       "      <td>False</td>\n",
       "      <td>False</td>\n",
       "      <td>False</td>\n",
       "      <td>False</td>\n",
       "      <td>False</td>\n",
       "      <td>False</td>\n",
       "      <td>False</td>\n",
       "      <td>False</td>\n",
       "      <td>False</td>\n",
       "      <td>False</td>\n",
       "    </tr>\n",
       "  </tbody>\n",
       "</table>\n",
       "<p>5 rows × 2808 columns</p>\n",
       "</div>"
      ],
      "text/plain": [
       "movieId  2       3       5       6       11      12      13      14      \\\n",
       "userId                                                                    \n",
       "1         False   False   False   False   False   False   False   False   \n",
       "2         False   False   False   False   False   False   False   False   \n",
       "3         False   False   False   False   False   False   False   False   \n",
       "4         False   False   False   False   False   False   False   False   \n",
       "5         False    True   False   False   False   False   False   False   \n",
       "\n",
       "movieId  15      16      ...  132961  133365  134158  134569  134881  140174  \\\n",
       "userId                   ...                                                   \n",
       "1         False   False  ...   False   False   False   False   False   False   \n",
       "2         False   False  ...   False   False   False   False   False   False   \n",
       "3         False   False  ...   False   False   False   False   False   False   \n",
       "4         False   False  ...   False   False   False   False   False   False   \n",
       "5         False   False  ...   False   False   False   False   False   False   \n",
       "\n",
       "movieId  142507  148652  158238  160718  \n",
       "userId                                   \n",
       "1         False   False   False   False  \n",
       "2         False   False   False   False  \n",
       "3         False   False   False   False  \n",
       "4         False   False   False   False  \n",
       "5         False   False   False   False  \n",
       "\n",
       "[5 rows x 2808 columns]"
      ]
     },
     "execution_count": 49,
     "metadata": {},
     "output_type": "execute_result"
    }
   ],
   "source": [
    "user_movie_df.head()"
   ]
  },
  {
   "cell_type": "code",
   "execution_count": 50,
   "metadata": {
    "execution": {
     "iopub.execute_input": "2023-11-09T17:15:29.106425Z",
     "iopub.status.busy": "2023-11-09T17:15:29.105930Z",
     "iopub.status.idle": "2023-11-09T17:15:29.116544Z",
     "shell.execute_reply": "2023-11-09T17:15:29.115120Z",
     "shell.execute_reply.started": "2023-11-09T17:15:29.106390Z"
    }
   },
   "outputs": [
    {
     "data": {
      "text/plain": [
       "196"
      ]
     },
     "execution_count": 50,
     "metadata": {},
     "output_type": "execute_result"
    }
   ],
   "source": [
    "#taking sample randomly\n",
    "sample_movie = user_movie_df.sample(1,random_state=45).index[0]\n",
    "\n",
    "sample_movie"
   ]
  },
  {
   "cell_type": "code",
   "execution_count": 51,
   "metadata": {
    "execution": {
     "iopub.execute_input": "2023-11-09T17:17:42.529048Z",
     "iopub.status.busy": "2023-11-09T17:17:42.528603Z",
     "iopub.status.idle": "2023-11-09T17:17:42.534093Z",
     "shell.execute_reply": "2023-11-09T17:17:42.532879Z",
     "shell.execute_reply.started": "2023-11-09T17:17:42.529017Z"
    }
   },
   "outputs": [],
   "source": [
    "#filtering our sample's movies on user_movie_df\n",
    "filtered = user_movie_df[sample_movie]"
   ]
  },
  {
   "cell_type": "code",
   "execution_count": 52,
   "metadata": {
    "execution": {
     "iopub.execute_input": "2023-11-09T17:17:53.827253Z",
     "iopub.status.busy": "2023-11-09T17:17:53.826832Z",
     "iopub.status.idle": "2023-11-09T17:17:53.836034Z",
     "shell.execute_reply": "2023-11-09T17:17:53.834644Z",
     "shell.execute_reply.started": "2023-11-09T17:17:53.827219Z"
    }
   },
   "outputs": [],
   "source": [
    "#dropping the movies that our sample watched\n",
    "user_movie_df_wo = user_movie_df.drop(sample_movie,axis=1)"
   ]
  },
  {
   "cell_type": "code",
   "execution_count": 53,
   "metadata": {
    "execution": {
     "iopub.execute_input": "2023-11-09T17:18:02.884940Z",
     "iopub.status.busy": "2023-11-09T17:18:02.884134Z",
     "iopub.status.idle": "2023-11-09T17:18:03.809059Z",
     "shell.execute_reply": "2023-11-09T17:18:03.807771Z",
     "shell.execute_reply.started": "2023-11-09T17:18:02.884902Z"
    }
   },
   "outputs": [],
   "source": [
    "#checking correlation\n",
    "movies_similarity = user_movie_df_wo.corrwith(filtered)"
   ]
  },
  {
   "cell_type": "code",
   "execution_count": 54,
   "metadata": {
    "execution": {
     "iopub.execute_input": "2023-11-09T17:18:05.691326Z",
     "iopub.status.busy": "2023-11-09T17:18:05.690915Z",
     "iopub.status.idle": "2023-11-09T17:18:05.703858Z",
     "shell.execute_reply": "2023-11-09T17:18:05.702634Z",
     "shell.execute_reply.started": "2023-11-09T17:18:05.691294Z"
    }
   },
   "outputs": [
    {
     "data": {
      "text/plain": [
       "movieId\n",
       "160    0.388101\n",
       "172    0.359755\n",
       "435    0.346429\n",
       "173    0.342352\n",
       "316    0.331515\n",
       "253    0.331465\n",
       "22     0.326370\n",
       "317    0.324579\n",
       "165    0.324017\n",
       "592    0.321798\n",
       "198    0.321120\n",
       "145    0.321120\n",
       "587    0.315399\n",
       "329    0.313288\n",
       "292    0.307931\n",
       "204    0.296570\n",
       "153    0.295394\n",
       "344    0.292703\n",
       "379    0.289515\n",
       "426    0.287628\n",
       "dtype: float64"
      ]
     },
     "execution_count": 54,
     "metadata": {},
     "output_type": "execute_result"
    }
   ],
   "source": [
    "movies_similarity.sort_values(ascending=False).head(20)"
   ]
  },
  {
   "cell_type": "code",
   "execution_count": 55,
   "metadata": {
    "execution": {
     "iopub.execute_input": "2023-11-09T17:18:17.923139Z",
     "iopub.status.busy": "2023-11-09T17:18:17.922018Z",
     "iopub.status.idle": "2023-11-09T17:18:17.938149Z",
     "shell.execute_reply": "2023-11-09T17:18:17.936497Z",
     "shell.execute_reply.started": "2023-11-09T17:18:17.923096Z"
    }
   },
   "outputs": [
    {
     "data": {
      "text/html": [
       "<div>\n",
       "<style scoped>\n",
       "    .dataframe tbody tr th:only-of-type {\n",
       "        vertical-align: middle;\n",
       "    }\n",
       "\n",
       "    .dataframe tbody tr th {\n",
       "        vertical-align: top;\n",
       "    }\n",
       "\n",
       "    .dataframe thead th {\n",
       "        text-align: right;\n",
       "    }\n",
       "</style>\n",
       "<table border=\"1\" class=\"dataframe\">\n",
       "  <thead>\n",
       "    <tr style=\"text-align: right;\">\n",
       "      <th></th>\n",
       "      <th>movieId</th>\n",
       "      <th>movies_similarity</th>\n",
       "    </tr>\n",
       "  </thead>\n",
       "  <tbody>\n",
       "    <tr>\n",
       "      <th>0</th>\n",
       "      <td>160</td>\n",
       "      <td>0.388101</td>\n",
       "    </tr>\n",
       "    <tr>\n",
       "      <th>1</th>\n",
       "      <td>172</td>\n",
       "      <td>0.359755</td>\n",
       "    </tr>\n",
       "    <tr>\n",
       "      <th>2</th>\n",
       "      <td>435</td>\n",
       "      <td>0.346429</td>\n",
       "    </tr>\n",
       "    <tr>\n",
       "      <th>3</th>\n",
       "      <td>173</td>\n",
       "      <td>0.342352</td>\n",
       "    </tr>\n",
       "    <tr>\n",
       "      <th>4</th>\n",
       "      <td>316</td>\n",
       "      <td>0.331515</td>\n",
       "    </tr>\n",
       "  </tbody>\n",
       "</table>\n",
       "</div>"
      ],
      "text/plain": [
       "   movieId  movies_similarity\n",
       "0      160           0.388101\n",
       "1      172           0.359755\n",
       "2      435           0.346429\n",
       "3      173           0.342352\n",
       "4      316           0.331515"
      ]
     },
     "execution_count": 55,
     "metadata": {},
     "output_type": "execute_result"
    }
   ],
   "source": [
    "#similar movies\n",
    "movies_similarity = movies_similarity.sort_values(ascending=False).reset_index()\n",
    "movies_similarity.columns = [\"movieId\",\"movies_similarity\"]\n",
    "movies_similarity.head()"
   ]
  },
  {
   "cell_type": "code",
   "execution_count": 58,
   "metadata": {
    "execution": {
     "iopub.execute_input": "2023-11-09T17:18:38.395256Z",
     "iopub.status.busy": "2023-11-09T17:18:38.394803Z",
     "iopub.status.idle": "2023-11-09T17:18:38.403032Z",
     "shell.execute_reply": "2023-11-09T17:18:38.401753Z",
     "shell.execute_reply.started": "2023-11-09T17:18:38.395209Z"
    }
   },
   "outputs": [],
   "source": [
    "#filtering the movies\n",
    "filtered_movies = df[df['movieId'].isin([160, 172, 435, 173, 316])]"
   ]
  },
  {
   "cell_type": "code",
   "execution_count": 59,
   "metadata": {
    "execution": {
     "iopub.execute_input": "2023-11-09T17:18:39.948128Z",
     "iopub.status.busy": "2023-11-09T17:18:39.947432Z",
     "iopub.status.idle": "2023-11-09T17:18:39.957491Z",
     "shell.execute_reply": "2023-11-09T17:18:39.956037Z",
     "shell.execute_reply.started": "2023-11-09T17:18:39.948091Z"
    }
   },
   "outputs": [
    {
     "data": {
      "text/plain": [
       "title\n",
       "Grill Point                            145\n",
       "20,000 Leagues Under the Sea            70\n",
       "The Arrival of a Train at La Ciotat     63\n",
       "The Day After Tomorrow                  55\n",
       "Star Trek V: The Final Frontier         48\n",
       "Name: count, dtype: int64"
      ]
     },
     "execution_count": 59,
     "metadata": {},
     "output_type": "execute_result"
    }
   ],
   "source": [
    "filtered_movies['title'].value_counts()"
   ]
  },
  {
   "cell_type": "markdown",
   "metadata": {},
   "source": [
    "# User-Based Collaborative Filtering"
   ]
  },
  {
   "cell_type": "markdown",
   "metadata": {},
   "source": [
    "### Recommendations are made based on the similarities between users.\n",
    "\n",
    "Example: Access is provided to the movies watched by a user, and then to the movies watched by other users who have watched the same movies. By examining the correlation of the movies watched by other users but not by our initial user, the highest correlated movie is recommended."
   ]
  },
  {
   "cell_type": "code",
   "execution_count": 60,
   "metadata": {
    "execution": {
     "iopub.execute_input": "2023-11-09T17:20:53.842009Z",
     "iopub.status.busy": "2023-11-09T17:20:53.841611Z",
     "iopub.status.idle": "2023-11-09T17:20:53.860062Z",
     "shell.execute_reply": "2023-11-09T17:20:53.858614Z",
     "shell.execute_reply.started": "2023-11-09T17:20:53.841979Z"
    }
   },
   "outputs": [
    {
     "data": {
      "text/html": [
       "<div>\n",
       "<style scoped>\n",
       "    .dataframe tbody tr th:only-of-type {\n",
       "        vertical-align: middle;\n",
       "    }\n",
       "\n",
       "    .dataframe tbody tr th {\n",
       "        vertical-align: top;\n",
       "    }\n",
       "\n",
       "    .dataframe thead th {\n",
       "        text-align: right;\n",
       "    }\n",
       "</style>\n",
       "<table border=\"1\" class=\"dataframe\">\n",
       "  <thead>\n",
       "    <tr style=\"text-align: right;\">\n",
       "      <th></th>\n",
       "      <th>movieId</th>\n",
       "      <th>overview</th>\n",
       "      <th>release_date</th>\n",
       "      <th>title</th>\n",
       "      <th>vote_average</th>\n",
       "      <th>vote_count</th>\n",
       "      <th>userId</th>\n",
       "      <th>rating</th>\n",
       "      <th>timestamp</th>\n",
       "    </tr>\n",
       "  </thead>\n",
       "  <tbody>\n",
       "    <tr>\n",
       "      <th>0</th>\n",
       "      <td>949</td>\n",
       "      <td>Obsessive master thief, Neil McCauley leads a ...</td>\n",
       "      <td>1995-12-15</td>\n",
       "      <td>Heat</td>\n",
       "      <td>7.7</td>\n",
       "      <td>1886.0</td>\n",
       "      <td>23</td>\n",
       "      <td>3.5</td>\n",
       "      <td>1148721092</td>\n",
       "    </tr>\n",
       "    <tr>\n",
       "      <th>1</th>\n",
       "      <td>949</td>\n",
       "      <td>Obsessive master thief, Neil McCauley leads a ...</td>\n",
       "      <td>1995-12-15</td>\n",
       "      <td>Heat</td>\n",
       "      <td>7.7</td>\n",
       "      <td>1886.0</td>\n",
       "      <td>102</td>\n",
       "      <td>4.0</td>\n",
       "      <td>956598942</td>\n",
       "    </tr>\n",
       "    <tr>\n",
       "      <th>2</th>\n",
       "      <td>949</td>\n",
       "      <td>Obsessive master thief, Neil McCauley leads a ...</td>\n",
       "      <td>1995-12-15</td>\n",
       "      <td>Heat</td>\n",
       "      <td>7.7</td>\n",
       "      <td>1886.0</td>\n",
       "      <td>232</td>\n",
       "      <td>2.0</td>\n",
       "      <td>955092697</td>\n",
       "    </tr>\n",
       "    <tr>\n",
       "      <th>3</th>\n",
       "      <td>949</td>\n",
       "      <td>Obsessive master thief, Neil McCauley leads a ...</td>\n",
       "      <td>1995-12-15</td>\n",
       "      <td>Heat</td>\n",
       "      <td>7.7</td>\n",
       "      <td>1886.0</td>\n",
       "      <td>242</td>\n",
       "      <td>5.0</td>\n",
       "      <td>956688825</td>\n",
       "    </tr>\n",
       "    <tr>\n",
       "      <th>4</th>\n",
       "      <td>949</td>\n",
       "      <td>Obsessive master thief, Neil McCauley leads a ...</td>\n",
       "      <td>1995-12-15</td>\n",
       "      <td>Heat</td>\n",
       "      <td>7.7</td>\n",
       "      <td>1886.0</td>\n",
       "      <td>263</td>\n",
       "      <td>3.0</td>\n",
       "      <td>1117846575</td>\n",
       "    </tr>\n",
       "  </tbody>\n",
       "</table>\n",
       "</div>"
      ],
      "text/plain": [
       "   movieId                                           overview release_date  \\\n",
       "0      949  Obsessive master thief, Neil McCauley leads a ...   1995-12-15   \n",
       "1      949  Obsessive master thief, Neil McCauley leads a ...   1995-12-15   \n",
       "2      949  Obsessive master thief, Neil McCauley leads a ...   1995-12-15   \n",
       "3      949  Obsessive master thief, Neil McCauley leads a ...   1995-12-15   \n",
       "4      949  Obsessive master thief, Neil McCauley leads a ...   1995-12-15   \n",
       "\n",
       "  title  vote_average  vote_count  userId  rating   timestamp  \n",
       "0  Heat           7.7      1886.0      23     3.5  1148721092  \n",
       "1  Heat           7.7      1886.0     102     4.0   956598942  \n",
       "2  Heat           7.7      1886.0     232     2.0   955092697  \n",
       "3  Heat           7.7      1886.0     242     5.0   956688825  \n",
       "4  Heat           7.7      1886.0     263     3.0  1117846575  "
      ]
     },
     "execution_count": 60,
     "metadata": {},
     "output_type": "execute_result"
    }
   ],
   "source": [
    "df.head()"
   ]
  },
  {
   "cell_type": "code",
   "execution_count": 62,
   "metadata": {
    "execution": {
     "iopub.execute_input": "2023-11-09T17:22:36.726547Z",
     "iopub.status.busy": "2023-11-09T17:22:36.726070Z",
     "iopub.status.idle": "2023-11-09T17:22:36.734829Z",
     "shell.execute_reply": "2023-11-09T17:22:36.733116Z",
     "shell.execute_reply.started": "2023-11-09T17:22:36.726512Z"
    }
   },
   "outputs": [
    {
     "data": {
      "text/plain": [
       "(44823, 9)"
      ]
     },
     "execution_count": 62,
     "metadata": {},
     "output_type": "execute_result"
    }
   ],
   "source": [
    "#we have 44,823 rating\n",
    "df.shape"
   ]
  },
  {
   "cell_type": "code",
   "execution_count": 63,
   "metadata": {
    "execution": {
     "iopub.execute_input": "2023-11-09T17:22:54.358622Z",
     "iopub.status.busy": "2023-11-09T17:22:54.358224Z",
     "iopub.status.idle": "2023-11-09T17:22:54.371619Z",
     "shell.execute_reply": "2023-11-09T17:22:54.370074Z",
     "shell.execute_reply.started": "2023-11-09T17:22:54.358590Z"
    }
   },
   "outputs": [
    {
     "data": {
      "text/plain": [
       "2772"
      ]
     },
     "execution_count": 63,
     "metadata": {},
     "output_type": "execute_result"
    }
   ],
   "source": [
    "#we have 2772 movie\n",
    "df[\"title\"].nunique()"
   ]
  },
  {
   "cell_type": "code",
   "execution_count": 65,
   "metadata": {
    "execution": {
     "iopub.execute_input": "2023-11-09T17:23:31.120916Z",
     "iopub.status.busy": "2023-11-09T17:23:31.120503Z",
     "iopub.status.idle": "2023-11-09T17:23:31.140713Z",
     "shell.execute_reply": "2023-11-09T17:23:31.138874Z",
     "shell.execute_reply.started": "2023-11-09T17:23:31.120886Z"
    }
   },
   "outputs": [
    {
     "data": {
      "text/plain": [
       "title\n",
       "Terminator 3: Rise of the Machines    324\n",
       "The Million Dollar Hotel              311\n",
       "Solaris                               305\n",
       "The 39 Steps                          291\n",
       "Monsoon Wedding                       274\n",
       "                                     ... \n",
       "Things to Come                          1\n",
       "Portrait in Black                       1\n",
       "Les Visiteurs du Soir                   1\n",
       "The Warped Ones                         1\n",
       "The One-Man Band                        1\n",
       "Name: count, Length: 2772, dtype: int64"
      ]
     },
     "execution_count": 65,
     "metadata": {},
     "output_type": "execute_result"
    }
   ],
   "source": [
    "# number of the comments for each movie\n",
    "comments = df[\"title\"].value_counts()\n",
    "comments"
   ]
  },
  {
   "cell_type": "code",
   "execution_count": 66,
   "metadata": {
    "execution": {
     "iopub.execute_input": "2023-11-09T17:24:17.344264Z",
     "iopub.status.busy": "2023-11-09T17:24:17.343811Z",
     "iopub.status.idle": "2023-11-09T17:24:17.354221Z",
     "shell.execute_reply": "2023-11-09T17:24:17.352606Z",
     "shell.execute_reply.started": "2023-11-09T17:24:17.344227Z"
    }
   },
   "outputs": [
    {
     "data": {
      "text/plain": [
       "Index(['Hotel Rwanda', 'Double Trouble', 'The African Queen', 'Che: Part Two',\n",
       "       'Ronja Robbersdaughter', 'The Story of a Cheat', 'Jinxed!',\n",
       "       'Cruel Intentions 3', 'Enigma', 'Jekyll and Hyde ... Together Again',\n",
       "       ...\n",
       "       'The Model Couple', 'Arthur and the Revenge of Maltazard',\n",
       "       'Blue Like Jazz', 'Kismet', 'Erotic Nights of the Living Dead',\n",
       "       'Things to Come', 'Portrait in Black', 'Les Visiteurs du Soir',\n",
       "       'The Warped Ones', 'The One-Man Band'],\n",
       "      dtype='object', name='title', length=1429)"
      ]
     },
     "execution_count": 66,
     "metadata": {},
     "output_type": "execute_result"
    }
   ],
   "source": [
    "# taking movies which has lower than 5 \n",
    "rare_movies = comments[comments < 5].index\n",
    "\n",
    "rare_movies"
   ]
  },
  {
   "cell_type": "code",
   "execution_count": 68,
   "metadata": {
    "execution": {
     "iopub.execute_input": "2023-11-09T17:25:36.229738Z",
     "iopub.status.busy": "2023-11-09T17:25:36.229322Z",
     "iopub.status.idle": "2023-11-09T17:25:36.253499Z",
     "shell.execute_reply": "2023-11-09T17:25:36.252522Z",
     "shell.execute_reply.started": "2023-11-09T17:25:36.229698Z"
    }
   },
   "outputs": [],
   "source": [
    "#removing movies which is lower than 5\n",
    "clean_df = df[~df[\"title\"].isin(rare_movies)]"
   ]
  },
  {
   "cell_type": "code",
   "execution_count": 70,
   "metadata": {
    "execution": {
     "iopub.execute_input": "2023-11-09T17:25:56.671747Z",
     "iopub.status.busy": "2023-11-09T17:25:56.671351Z",
     "iopub.status.idle": "2023-11-09T17:25:56.709752Z",
     "shell.execute_reply": "2023-11-09T17:25:56.708510Z",
     "shell.execute_reply.started": "2023-11-09T17:25:56.671713Z"
    }
   },
   "outputs": [],
   "source": [
    "#building our user_tittle_df\n",
    "user_title_df = clean_df.groupby([\"userId\",\"title\"])[\"rating\"].mean().unstack().notnull()"
   ]
  },
  {
   "cell_type": "code",
   "execution_count": 71,
   "metadata": {
    "execution": {
     "iopub.execute_input": "2023-11-09T17:26:05.831049Z",
     "iopub.status.busy": "2023-11-09T17:26:05.830614Z",
     "iopub.status.idle": "2023-11-09T17:26:05.859197Z",
     "shell.execute_reply": "2023-11-09T17:26:05.858169Z",
     "shell.execute_reply.started": "2023-11-09T17:26:05.831014Z"
    }
   },
   "outputs": [
    {
     "data": {
      "text/html": [
       "<div>\n",
       "<style scoped>\n",
       "    .dataframe tbody tr th:only-of-type {\n",
       "        vertical-align: middle;\n",
       "    }\n",
       "\n",
       "    .dataframe tbody tr th {\n",
       "        vertical-align: top;\n",
       "    }\n",
       "\n",
       "    .dataframe thead th {\n",
       "        text-align: right;\n",
       "    }\n",
       "</style>\n",
       "<table border=\"1\" class=\"dataframe\">\n",
       "  <thead>\n",
       "    <tr style=\"text-align: right;\">\n",
       "      <th>title</th>\n",
       "      <th>10 Items or Less</th>\n",
       "      <th>10 Things I Hate About You</th>\n",
       "      <th>15 Minutes</th>\n",
       "      <th>1984</th>\n",
       "      <th>2 Days in Paris</th>\n",
       "      <th>20,000 Leagues Under the Sea</th>\n",
       "      <th>2001: A Space Odyssey</th>\n",
       "      <th>24 Hour Party People</th>\n",
       "      <th>25th Hour</th>\n",
       "      <th>28 Days Later</th>\n",
       "      <th>...</th>\n",
       "      <th>Young Adam</th>\n",
       "      <th>Young Frankenstein</th>\n",
       "      <th>Young and Innocent</th>\n",
       "      <th>Z</th>\n",
       "      <th>Zatoichi</th>\n",
       "      <th>Zazie dans le métro</th>\n",
       "      <th>Zodiac</th>\n",
       "      <th>eXistenZ</th>\n",
       "      <th>xXx</th>\n",
       "      <th>À nos amours</th>\n",
       "    </tr>\n",
       "    <tr>\n",
       "      <th>userId</th>\n",
       "      <th></th>\n",
       "      <th></th>\n",
       "      <th></th>\n",
       "      <th></th>\n",
       "      <th></th>\n",
       "      <th></th>\n",
       "      <th></th>\n",
       "      <th></th>\n",
       "      <th></th>\n",
       "      <th></th>\n",
       "      <th></th>\n",
       "      <th></th>\n",
       "      <th></th>\n",
       "      <th></th>\n",
       "      <th></th>\n",
       "      <th></th>\n",
       "      <th></th>\n",
       "      <th></th>\n",
       "      <th></th>\n",
       "      <th></th>\n",
       "      <th></th>\n",
       "    </tr>\n",
       "  </thead>\n",
       "  <tbody>\n",
       "    <tr>\n",
       "      <th>1</th>\n",
       "      <td>False</td>\n",
       "      <td>False</td>\n",
       "      <td>False</td>\n",
       "      <td>False</td>\n",
       "      <td>False</td>\n",
       "      <td>False</td>\n",
       "      <td>False</td>\n",
       "      <td>False</td>\n",
       "      <td>False</td>\n",
       "      <td>False</td>\n",
       "      <td>...</td>\n",
       "      <td>False</td>\n",
       "      <td>False</td>\n",
       "      <td>False</td>\n",
       "      <td>False</td>\n",
       "      <td>False</td>\n",
       "      <td>False</td>\n",
       "      <td>False</td>\n",
       "      <td>False</td>\n",
       "      <td>False</td>\n",
       "      <td>False</td>\n",
       "    </tr>\n",
       "    <tr>\n",
       "      <th>2</th>\n",
       "      <td>False</td>\n",
       "      <td>False</td>\n",
       "      <td>False</td>\n",
       "      <td>False</td>\n",
       "      <td>False</td>\n",
       "      <td>False</td>\n",
       "      <td>True</td>\n",
       "      <td>False</td>\n",
       "      <td>False</td>\n",
       "      <td>False</td>\n",
       "      <td>...</td>\n",
       "      <td>False</td>\n",
       "      <td>False</td>\n",
       "      <td>False</td>\n",
       "      <td>False</td>\n",
       "      <td>False</td>\n",
       "      <td>False</td>\n",
       "      <td>False</td>\n",
       "      <td>False</td>\n",
       "      <td>False</td>\n",
       "      <td>False</td>\n",
       "    </tr>\n",
       "    <tr>\n",
       "      <th>3</th>\n",
       "      <td>False</td>\n",
       "      <td>False</td>\n",
       "      <td>False</td>\n",
       "      <td>False</td>\n",
       "      <td>False</td>\n",
       "      <td>False</td>\n",
       "      <td>False</td>\n",
       "      <td>False</td>\n",
       "      <td>False</td>\n",
       "      <td>False</td>\n",
       "      <td>...</td>\n",
       "      <td>False</td>\n",
       "      <td>False</td>\n",
       "      <td>True</td>\n",
       "      <td>False</td>\n",
       "      <td>False</td>\n",
       "      <td>False</td>\n",
       "      <td>False</td>\n",
       "      <td>False</td>\n",
       "      <td>False</td>\n",
       "      <td>False</td>\n",
       "    </tr>\n",
       "    <tr>\n",
       "      <th>4</th>\n",
       "      <td>False</td>\n",
       "      <td>False</td>\n",
       "      <td>False</td>\n",
       "      <td>False</td>\n",
       "      <td>False</td>\n",
       "      <td>True</td>\n",
       "      <td>False</td>\n",
       "      <td>False</td>\n",
       "      <td>False</td>\n",
       "      <td>False</td>\n",
       "      <td>...</td>\n",
       "      <td>False</td>\n",
       "      <td>True</td>\n",
       "      <td>False</td>\n",
       "      <td>False</td>\n",
       "      <td>False</td>\n",
       "      <td>False</td>\n",
       "      <td>False</td>\n",
       "      <td>False</td>\n",
       "      <td>False</td>\n",
       "      <td>False</td>\n",
       "    </tr>\n",
       "    <tr>\n",
       "      <th>5</th>\n",
       "      <td>False</td>\n",
       "      <td>False</td>\n",
       "      <td>False</td>\n",
       "      <td>False</td>\n",
       "      <td>False</td>\n",
       "      <td>False</td>\n",
       "      <td>False</td>\n",
       "      <td>False</td>\n",
       "      <td>False</td>\n",
       "      <td>False</td>\n",
       "      <td>...</td>\n",
       "      <td>False</td>\n",
       "      <td>False</td>\n",
       "      <td>True</td>\n",
       "      <td>False</td>\n",
       "      <td>False</td>\n",
       "      <td>False</td>\n",
       "      <td>False</td>\n",
       "      <td>False</td>\n",
       "      <td>False</td>\n",
       "      <td>False</td>\n",
       "    </tr>\n",
       "  </tbody>\n",
       "</table>\n",
       "<p>5 rows × 1343 columns</p>\n",
       "</div>"
      ],
      "text/plain": [
       "title   10 Items or Less  10 Things I Hate About You  15 Minutes   1984  \\\n",
       "userId                                                                    \n",
       "1                  False                       False       False  False   \n",
       "2                  False                       False       False  False   \n",
       "3                  False                       False       False  False   \n",
       "4                  False                       False       False  False   \n",
       "5                  False                       False       False  False   \n",
       "\n",
       "title   2 Days in Paris  20,000 Leagues Under the Sea  2001: A Space Odyssey  \\\n",
       "userId                                                                         \n",
       "1                 False                         False                  False   \n",
       "2                 False                         False                   True   \n",
       "3                 False                         False                  False   \n",
       "4                 False                          True                  False   \n",
       "5                 False                         False                  False   \n",
       "\n",
       "title   24 Hour Party People  25th Hour  28 Days Later  ...  Young Adam  \\\n",
       "userId                                                  ...               \n",
       "1                      False      False          False  ...       False   \n",
       "2                      False      False          False  ...       False   \n",
       "3                      False      False          False  ...       False   \n",
       "4                      False      False          False  ...       False   \n",
       "5                      False      False          False  ...       False   \n",
       "\n",
       "title   Young Frankenstein  Young and Innocent      Z  Zatoichi  \\\n",
       "userId                                                            \n",
       "1                    False               False  False     False   \n",
       "2                    False               False  False     False   \n",
       "3                    False                True  False     False   \n",
       "4                     True               False  False     False   \n",
       "5                    False                True  False     False   \n",
       "\n",
       "title   Zazie dans le métro  Zodiac  eXistenZ    xXx  À nos amours  \n",
       "userId                                                              \n",
       "1                     False   False     False  False         False  \n",
       "2                     False   False     False  False         False  \n",
       "3                     False   False     False  False         False  \n",
       "4                     False   False     False  False         False  \n",
       "5                     False   False     False  False         False  \n",
       "\n",
       "[5 rows x 1343 columns]"
      ]
     },
     "execution_count": 71,
     "metadata": {},
     "output_type": "execute_result"
    }
   ],
   "source": [
    "user_title_df.head()"
   ]
  },
  {
   "cell_type": "code",
   "execution_count": 72,
   "metadata": {
    "execution": {
     "iopub.execute_input": "2023-11-09T17:26:28.411059Z",
     "iopub.status.busy": "2023-11-09T17:26:28.410653Z",
     "iopub.status.idle": "2023-11-09T17:26:28.418044Z",
     "shell.execute_reply": "2023-11-09T17:26:28.416844Z",
     "shell.execute_reply.started": "2023-11-09T17:26:28.411028Z"
    }
   },
   "outputs": [],
   "source": [
    "#taking sample randomly\n",
    "lucky_guy = user_title_df.sample(1,random_state=45).index[0]"
   ]
  },
  {
   "cell_type": "code",
   "execution_count": 73,
   "metadata": {
    "execution": {
     "iopub.execute_input": "2023-11-09T17:26:54.861594Z",
     "iopub.status.busy": "2023-11-09T17:26:54.861170Z",
     "iopub.status.idle": "2023-11-09T17:26:54.867705Z",
     "shell.execute_reply": "2023-11-09T17:26:54.866476Z",
     "shell.execute_reply.started": "2023-11-09T17:26:54.861561Z"
    }
   },
   "outputs": [],
   "source": [
    "#our lucky_guy's movies that he watch\n",
    "random_user_df = user_title_df[user_title_df.index == lucky_guy]"
   ]
  },
  {
   "cell_type": "code",
   "execution_count": 74,
   "metadata": {
    "execution": {
     "iopub.execute_input": "2023-11-09T17:27:19.676626Z",
     "iopub.status.busy": "2023-11-09T17:27:19.676174Z",
     "iopub.status.idle": "2023-11-09T17:27:19.683944Z",
     "shell.execute_reply": "2023-11-09T17:27:19.682484Z",
     "shell.execute_reply.started": "2023-11-09T17:27:19.676592Z"
    }
   },
   "outputs": [],
   "source": [
    "#the ones which our guy voted\n",
    "movies_watched = random_user_df.dropna(axis=1).columns.tolist()"
   ]
  },
  {
   "cell_type": "code",
   "execution_count": 75,
   "metadata": {
    "execution": {
     "iopub.execute_input": "2023-11-09T17:27:26.462605Z",
     "iopub.status.busy": "2023-11-09T17:27:26.461958Z",
     "iopub.status.idle": "2023-11-09T17:27:26.474509Z",
     "shell.execute_reply": "2023-11-09T17:27:26.473278Z",
     "shell.execute_reply.started": "2023-11-09T17:27:26.462559Z"
    }
   },
   "outputs": [],
   "source": [
    "movies_watched_df = user_title_df[movies_watched]"
   ]
  },
  {
   "cell_type": "code",
   "execution_count": 76,
   "metadata": {
    "execution": {
     "iopub.execute_input": "2023-11-09T17:28:03.179239Z",
     "iopub.status.busy": "2023-11-09T17:28:03.178809Z",
     "iopub.status.idle": "2023-11-09T17:28:03.190436Z",
     "shell.execute_reply": "2023-11-09T17:28:03.189249Z",
     "shell.execute_reply.started": "2023-11-09T17:28:03.179170Z"
    }
   },
   "outputs": [],
   "source": [
    "#number of the movies that other users watched same with our luckyguy\n",
    "user_movie_count = movies_watched_df.notnull().sum(axis=1)"
   ]
  },
  {
   "cell_type": "code",
   "execution_count": 77,
   "metadata": {
    "execution": {
     "iopub.execute_input": "2023-11-09T17:28:38.591057Z",
     "iopub.status.busy": "2023-11-09T17:28:38.590635Z",
     "iopub.status.idle": "2023-11-09T17:28:38.600790Z",
     "shell.execute_reply": "2023-11-09T17:28:38.599577Z",
     "shell.execute_reply.started": "2023-11-09T17:28:38.591024Z"
    }
   },
   "outputs": [
    {
     "data": {
      "text/plain": [
       "Index([  1,   2,   3,   4,   5,   6,   7,   8,   9,  10,\n",
       "       ...\n",
       "       662, 663, 664, 665, 666, 667, 668, 669, 670, 671],\n",
       "      dtype='int64', name='userId', length=671)"
      ]
     },
     "execution_count": 77,
     "metadata": {},
     "output_type": "execute_result"
    }
   ],
   "source": [
    "# users who watched same movies %60 with our guy \n",
    "users_same_movies = user_movie_count[user_movie_count > (movies_watched_df.shape[1] * 60 ) / 100].index\n",
    "\n",
    "users_same_movies"
   ]
  },
  {
   "cell_type": "code",
   "execution_count": 78,
   "metadata": {
    "execution": {
     "iopub.execute_input": "2023-11-09T17:28:58.355472Z",
     "iopub.status.busy": "2023-11-09T17:28:58.355009Z",
     "iopub.status.idle": "2023-11-09T17:28:58.390506Z",
     "shell.execute_reply": "2023-11-09T17:28:58.389600Z",
     "shell.execute_reply.started": "2023-11-09T17:28:58.355435Z"
    }
   },
   "outputs": [
    {
     "data": {
      "text/html": [
       "<div>\n",
       "<style scoped>\n",
       "    .dataframe tbody tr th:only-of-type {\n",
       "        vertical-align: middle;\n",
       "    }\n",
       "\n",
       "    .dataframe tbody tr th {\n",
       "        vertical-align: top;\n",
       "    }\n",
       "\n",
       "    .dataframe thead th {\n",
       "        text-align: right;\n",
       "    }\n",
       "</style>\n",
       "<table border=\"1\" class=\"dataframe\">\n",
       "  <thead>\n",
       "    <tr style=\"text-align: right;\">\n",
       "      <th>title</th>\n",
       "      <th>10 Items or Less</th>\n",
       "      <th>10 Things I Hate About You</th>\n",
       "      <th>15 Minutes</th>\n",
       "      <th>1984</th>\n",
       "      <th>2 Days in Paris</th>\n",
       "      <th>20,000 Leagues Under the Sea</th>\n",
       "      <th>2001: A Space Odyssey</th>\n",
       "      <th>24 Hour Party People</th>\n",
       "      <th>25th Hour</th>\n",
       "      <th>28 Days Later</th>\n",
       "      <th>...</th>\n",
       "      <th>Young Adam</th>\n",
       "      <th>Young Frankenstein</th>\n",
       "      <th>Young and Innocent</th>\n",
       "      <th>Z</th>\n",
       "      <th>Zatoichi</th>\n",
       "      <th>Zazie dans le métro</th>\n",
       "      <th>Zodiac</th>\n",
       "      <th>eXistenZ</th>\n",
       "      <th>xXx</th>\n",
       "      <th>À nos amours</th>\n",
       "    </tr>\n",
       "    <tr>\n",
       "      <th>userId</th>\n",
       "      <th></th>\n",
       "      <th></th>\n",
       "      <th></th>\n",
       "      <th></th>\n",
       "      <th></th>\n",
       "      <th></th>\n",
       "      <th></th>\n",
       "      <th></th>\n",
       "      <th></th>\n",
       "      <th></th>\n",
       "      <th></th>\n",
       "      <th></th>\n",
       "      <th></th>\n",
       "      <th></th>\n",
       "      <th></th>\n",
       "      <th></th>\n",
       "      <th></th>\n",
       "      <th></th>\n",
       "      <th></th>\n",
       "      <th></th>\n",
       "      <th></th>\n",
       "    </tr>\n",
       "  </thead>\n",
       "  <tbody>\n",
       "    <tr>\n",
       "      <th>1</th>\n",
       "      <td>False</td>\n",
       "      <td>False</td>\n",
       "      <td>False</td>\n",
       "      <td>False</td>\n",
       "      <td>False</td>\n",
       "      <td>False</td>\n",
       "      <td>False</td>\n",
       "      <td>False</td>\n",
       "      <td>False</td>\n",
       "      <td>False</td>\n",
       "      <td>...</td>\n",
       "      <td>False</td>\n",
       "      <td>False</td>\n",
       "      <td>False</td>\n",
       "      <td>False</td>\n",
       "      <td>False</td>\n",
       "      <td>False</td>\n",
       "      <td>False</td>\n",
       "      <td>False</td>\n",
       "      <td>False</td>\n",
       "      <td>False</td>\n",
       "    </tr>\n",
       "    <tr>\n",
       "      <th>2</th>\n",
       "      <td>False</td>\n",
       "      <td>False</td>\n",
       "      <td>False</td>\n",
       "      <td>False</td>\n",
       "      <td>False</td>\n",
       "      <td>False</td>\n",
       "      <td>True</td>\n",
       "      <td>False</td>\n",
       "      <td>False</td>\n",
       "      <td>False</td>\n",
       "      <td>...</td>\n",
       "      <td>False</td>\n",
       "      <td>False</td>\n",
       "      <td>False</td>\n",
       "      <td>False</td>\n",
       "      <td>False</td>\n",
       "      <td>False</td>\n",
       "      <td>False</td>\n",
       "      <td>False</td>\n",
       "      <td>False</td>\n",
       "      <td>False</td>\n",
       "    </tr>\n",
       "    <tr>\n",
       "      <th>3</th>\n",
       "      <td>False</td>\n",
       "      <td>False</td>\n",
       "      <td>False</td>\n",
       "      <td>False</td>\n",
       "      <td>False</td>\n",
       "      <td>False</td>\n",
       "      <td>False</td>\n",
       "      <td>False</td>\n",
       "      <td>False</td>\n",
       "      <td>False</td>\n",
       "      <td>...</td>\n",
       "      <td>False</td>\n",
       "      <td>False</td>\n",
       "      <td>True</td>\n",
       "      <td>False</td>\n",
       "      <td>False</td>\n",
       "      <td>False</td>\n",
       "      <td>False</td>\n",
       "      <td>False</td>\n",
       "      <td>False</td>\n",
       "      <td>False</td>\n",
       "    </tr>\n",
       "    <tr>\n",
       "      <th>4</th>\n",
       "      <td>False</td>\n",
       "      <td>False</td>\n",
       "      <td>False</td>\n",
       "      <td>False</td>\n",
       "      <td>False</td>\n",
       "      <td>True</td>\n",
       "      <td>False</td>\n",
       "      <td>False</td>\n",
       "      <td>False</td>\n",
       "      <td>False</td>\n",
       "      <td>...</td>\n",
       "      <td>False</td>\n",
       "      <td>True</td>\n",
       "      <td>False</td>\n",
       "      <td>False</td>\n",
       "      <td>False</td>\n",
       "      <td>False</td>\n",
       "      <td>False</td>\n",
       "      <td>False</td>\n",
       "      <td>False</td>\n",
       "      <td>False</td>\n",
       "    </tr>\n",
       "    <tr>\n",
       "      <th>5</th>\n",
       "      <td>False</td>\n",
       "      <td>False</td>\n",
       "      <td>False</td>\n",
       "      <td>False</td>\n",
       "      <td>False</td>\n",
       "      <td>False</td>\n",
       "      <td>False</td>\n",
       "      <td>False</td>\n",
       "      <td>False</td>\n",
       "      <td>False</td>\n",
       "      <td>...</td>\n",
       "      <td>False</td>\n",
       "      <td>False</td>\n",
       "      <td>True</td>\n",
       "      <td>False</td>\n",
       "      <td>False</td>\n",
       "      <td>False</td>\n",
       "      <td>False</td>\n",
       "      <td>False</td>\n",
       "      <td>False</td>\n",
       "      <td>False</td>\n",
       "    </tr>\n",
       "    <tr>\n",
       "      <th>...</th>\n",
       "      <td>...</td>\n",
       "      <td>...</td>\n",
       "      <td>...</td>\n",
       "      <td>...</td>\n",
       "      <td>...</td>\n",
       "      <td>...</td>\n",
       "      <td>...</td>\n",
       "      <td>...</td>\n",
       "      <td>...</td>\n",
       "      <td>...</td>\n",
       "      <td>...</td>\n",
       "      <td>...</td>\n",
       "      <td>...</td>\n",
       "      <td>...</td>\n",
       "      <td>...</td>\n",
       "      <td>...</td>\n",
       "      <td>...</td>\n",
       "      <td>...</td>\n",
       "      <td>...</td>\n",
       "      <td>...</td>\n",
       "      <td>...</td>\n",
       "    </tr>\n",
       "    <tr>\n",
       "      <th>667</th>\n",
       "      <td>False</td>\n",
       "      <td>False</td>\n",
       "      <td>False</td>\n",
       "      <td>False</td>\n",
       "      <td>False</td>\n",
       "      <td>False</td>\n",
       "      <td>False</td>\n",
       "      <td>False</td>\n",
       "      <td>False</td>\n",
       "      <td>False</td>\n",
       "      <td>...</td>\n",
       "      <td>False</td>\n",
       "      <td>False</td>\n",
       "      <td>False</td>\n",
       "      <td>False</td>\n",
       "      <td>False</td>\n",
       "      <td>False</td>\n",
       "      <td>False</td>\n",
       "      <td>False</td>\n",
       "      <td>False</td>\n",
       "      <td>False</td>\n",
       "    </tr>\n",
       "    <tr>\n",
       "      <th>668</th>\n",
       "      <td>False</td>\n",
       "      <td>False</td>\n",
       "      <td>False</td>\n",
       "      <td>False</td>\n",
       "      <td>False</td>\n",
       "      <td>False</td>\n",
       "      <td>False</td>\n",
       "      <td>False</td>\n",
       "      <td>False</td>\n",
       "      <td>False</td>\n",
       "      <td>...</td>\n",
       "      <td>False</td>\n",
       "      <td>False</td>\n",
       "      <td>False</td>\n",
       "      <td>False</td>\n",
       "      <td>False</td>\n",
       "      <td>False</td>\n",
       "      <td>False</td>\n",
       "      <td>False</td>\n",
       "      <td>False</td>\n",
       "      <td>False</td>\n",
       "    </tr>\n",
       "    <tr>\n",
       "      <th>669</th>\n",
       "      <td>False</td>\n",
       "      <td>False</td>\n",
       "      <td>False</td>\n",
       "      <td>False</td>\n",
       "      <td>False</td>\n",
       "      <td>False</td>\n",
       "      <td>False</td>\n",
       "      <td>False</td>\n",
       "      <td>False</td>\n",
       "      <td>False</td>\n",
       "      <td>...</td>\n",
       "      <td>False</td>\n",
       "      <td>False</td>\n",
       "      <td>False</td>\n",
       "      <td>False</td>\n",
       "      <td>False</td>\n",
       "      <td>False</td>\n",
       "      <td>False</td>\n",
       "      <td>False</td>\n",
       "      <td>False</td>\n",
       "      <td>False</td>\n",
       "    </tr>\n",
       "    <tr>\n",
       "      <th>670</th>\n",
       "      <td>False</td>\n",
       "      <td>False</td>\n",
       "      <td>False</td>\n",
       "      <td>False</td>\n",
       "      <td>False</td>\n",
       "      <td>False</td>\n",
       "      <td>False</td>\n",
       "      <td>False</td>\n",
       "      <td>False</td>\n",
       "      <td>False</td>\n",
       "      <td>...</td>\n",
       "      <td>False</td>\n",
       "      <td>False</td>\n",
       "      <td>False</td>\n",
       "      <td>False</td>\n",
       "      <td>False</td>\n",
       "      <td>False</td>\n",
       "      <td>False</td>\n",
       "      <td>False</td>\n",
       "      <td>False</td>\n",
       "      <td>False</td>\n",
       "    </tr>\n",
       "    <tr>\n",
       "      <th>671</th>\n",
       "      <td>False</td>\n",
       "      <td>False</td>\n",
       "      <td>False</td>\n",
       "      <td>False</td>\n",
       "      <td>False</td>\n",
       "      <td>False</td>\n",
       "      <td>False</td>\n",
       "      <td>False</td>\n",
       "      <td>False</td>\n",
       "      <td>False</td>\n",
       "      <td>...</td>\n",
       "      <td>False</td>\n",
       "      <td>False</td>\n",
       "      <td>True</td>\n",
       "      <td>False</td>\n",
       "      <td>False</td>\n",
       "      <td>False</td>\n",
       "      <td>False</td>\n",
       "      <td>False</td>\n",
       "      <td>False</td>\n",
       "      <td>False</td>\n",
       "    </tr>\n",
       "  </tbody>\n",
       "</table>\n",
       "<p>671 rows × 1343 columns</p>\n",
       "</div>"
      ],
      "text/plain": [
       "title   10 Items or Less  10 Things I Hate About You  15 Minutes   1984  \\\n",
       "userId                                                                    \n",
       "1                  False                       False       False  False   \n",
       "2                  False                       False       False  False   \n",
       "3                  False                       False       False  False   \n",
       "4                  False                       False       False  False   \n",
       "5                  False                       False       False  False   \n",
       "...                  ...                         ...         ...    ...   \n",
       "667                False                       False       False  False   \n",
       "668                False                       False       False  False   \n",
       "669                False                       False       False  False   \n",
       "670                False                       False       False  False   \n",
       "671                False                       False       False  False   \n",
       "\n",
       "title   2 Days in Paris  20,000 Leagues Under the Sea  2001: A Space Odyssey  \\\n",
       "userId                                                                         \n",
       "1                 False                         False                  False   \n",
       "2                 False                         False                   True   \n",
       "3                 False                         False                  False   \n",
       "4                 False                          True                  False   \n",
       "5                 False                         False                  False   \n",
       "...                 ...                           ...                    ...   \n",
       "667               False                         False                  False   \n",
       "668               False                         False                  False   \n",
       "669               False                         False                  False   \n",
       "670               False                         False                  False   \n",
       "671               False                         False                  False   \n",
       "\n",
       "title   24 Hour Party People  25th Hour  28 Days Later  ...  Young Adam  \\\n",
       "userId                                                  ...               \n",
       "1                      False      False          False  ...       False   \n",
       "2                      False      False          False  ...       False   \n",
       "3                      False      False          False  ...       False   \n",
       "4                      False      False          False  ...       False   \n",
       "5                      False      False          False  ...       False   \n",
       "...                      ...        ...            ...  ...         ...   \n",
       "667                    False      False          False  ...       False   \n",
       "668                    False      False          False  ...       False   \n",
       "669                    False      False          False  ...       False   \n",
       "670                    False      False          False  ...       False   \n",
       "671                    False      False          False  ...       False   \n",
       "\n",
       "title   Young Frankenstein  Young and Innocent      Z  Zatoichi  \\\n",
       "userId                                                            \n",
       "1                    False               False  False     False   \n",
       "2                    False               False  False     False   \n",
       "3                    False                True  False     False   \n",
       "4                     True               False  False     False   \n",
       "5                    False                True  False     False   \n",
       "...                    ...                 ...    ...       ...   \n",
       "667                  False               False  False     False   \n",
       "668                  False               False  False     False   \n",
       "669                  False               False  False     False   \n",
       "670                  False               False  False     False   \n",
       "671                  False                True  False     False   \n",
       "\n",
       "title   Zazie dans le métro  Zodiac  eXistenZ    xXx  À nos amours  \n",
       "userId                                                              \n",
       "1                     False   False     False  False         False  \n",
       "2                     False   False     False  False         False  \n",
       "3                     False   False     False  False         False  \n",
       "4                     False   False     False  False         False  \n",
       "5                     False   False     False  False         False  \n",
       "...                     ...     ...       ...    ...           ...  \n",
       "667                   False   False     False  False         False  \n",
       "668                   False   False     False  False         False  \n",
       "669                   False   False     False  False         False  \n",
       "670                   False   False     False  False         False  \n",
       "671                   False   False     False  False         False  \n",
       "\n",
       "[671 rows x 1343 columns]"
      ]
     },
     "execution_count": 78,
     "metadata": {},
     "output_type": "execute_result"
    }
   ],
   "source": [
    "#filtering our df\n",
    "filted_df = movies_watched_df[movies_watched_df.index.isin(users_same_movies)]\n",
    "\n",
    "filted_df"
   ]
  },
  {
   "cell_type": "code",
   "execution_count": 79,
   "metadata": {
    "execution": {
     "iopub.execute_input": "2023-11-09T17:29:15.860795Z",
     "iopub.status.busy": "2023-11-09T17:29:15.860415Z",
     "iopub.status.idle": "2023-11-09T17:29:17.546244Z",
     "shell.execute_reply": "2023-11-09T17:29:17.545245Z",
     "shell.execute_reply.started": "2023-11-09T17:29:15.860764Z"
    }
   },
   "outputs": [],
   "source": [
    "#correlation beetwen users\n",
    "corr_df = filted_df.T.corr().unstack().drop_duplicates() "
   ]
  },
  {
   "cell_type": "code",
   "execution_count": 80,
   "metadata": {
    "execution": {
     "iopub.execute_input": "2023-11-09T17:29:58.527118Z",
     "iopub.status.busy": "2023-11-09T17:29:58.526695Z",
     "iopub.status.idle": "2023-11-09T17:29:58.543710Z",
     "shell.execute_reply": "2023-11-09T17:29:58.542241Z",
     "shell.execute_reply.started": "2023-11-09T17:29:58.527088Z"
    }
   },
   "outputs": [
    {
     "data": {
      "text/plain": [
       "userId\n",
       "541    0.246396\n",
       "476    0.146818\n",
       "525    0.132043\n",
       "592    0.110805\n",
       "463    0.104639\n",
       "         ...   \n",
       "391   -0.037857\n",
       "559   -0.040912\n",
       "287   -0.041207\n",
       "396   -0.047080\n",
       "434   -0.049696\n",
       "Length: 359, dtype: float64"
      ]
     },
     "execution_count": 80,
     "metadata": {},
     "output_type": "execute_result"
    }
   ],
   "source": [
    "# users who is correlated with our lucky guy \n",
    "corr_df[lucky_guy].sort_values(ascending=False)"
   ]
  },
  {
   "cell_type": "code",
   "execution_count": 83,
   "metadata": {
    "execution": {
     "iopub.execute_input": "2023-11-09T17:30:30.674860Z",
     "iopub.status.busy": "2023-11-09T17:30:30.674465Z",
     "iopub.status.idle": "2023-11-09T17:30:30.687681Z",
     "shell.execute_reply": "2023-11-09T17:30:30.686515Z",
     "shell.execute_reply.started": "2023-11-09T17:30:30.674829Z"
    }
   },
   "outputs": [
    {
     "data": {
      "text/html": [
       "<div>\n",
       "<style scoped>\n",
       "    .dataframe tbody tr th:only-of-type {\n",
       "        vertical-align: middle;\n",
       "    }\n",
       "\n",
       "    .dataframe tbody tr th {\n",
       "        vertical-align: top;\n",
       "    }\n",
       "\n",
       "    .dataframe thead th {\n",
       "        text-align: right;\n",
       "    }\n",
       "</style>\n",
       "<table border=\"1\" class=\"dataframe\">\n",
       "  <thead>\n",
       "    <tr style=\"text-align: right;\">\n",
       "      <th></th>\n",
       "      <th>corr</th>\n",
       "    </tr>\n",
       "    <tr>\n",
       "      <th>userId</th>\n",
       "      <th></th>\n",
       "    </tr>\n",
       "  </thead>\n",
       "  <tbody>\n",
       "    <tr>\n",
       "      <th>294</th>\n",
       "      <td>0.102905</td>\n",
       "    </tr>\n",
       "    <tr>\n",
       "      <th>463</th>\n",
       "      <td>0.104639</td>\n",
       "    </tr>\n",
       "    <tr>\n",
       "      <th>476</th>\n",
       "      <td>0.146818</td>\n",
       "    </tr>\n",
       "    <tr>\n",
       "      <th>525</th>\n",
       "      <td>0.132043</td>\n",
       "    </tr>\n",
       "    <tr>\n",
       "      <th>541</th>\n",
       "      <td>0.246396</td>\n",
       "    </tr>\n",
       "    <tr>\n",
       "      <th>575</th>\n",
       "      <td>0.101738</td>\n",
       "    </tr>\n",
       "    <tr>\n",
       "      <th>592</th>\n",
       "      <td>0.110805</td>\n",
       "    </tr>\n",
       "  </tbody>\n",
       "</table>\n",
       "</div>"
      ],
      "text/plain": [
       "            corr\n",
       "userId          \n",
       "294     0.102905\n",
       "463     0.104639\n",
       "476     0.146818\n",
       "525     0.132043\n",
       "541     0.246396\n",
       "575     0.101738\n",
       "592     0.110805"
      ]
     },
     "execution_count": 83,
     "metadata": {},
     "output_type": "execute_result"
    }
   ],
   "source": [
    "# correlation higher than 0.10\n",
    "top_users = pd.DataFrame(corr_df[lucky_guy][corr_df[lucky_guy] > 0.10], columns=[\"corr\"])\n",
    "\n",
    "top_users"
   ]
  },
  {
   "cell_type": "code",
   "execution_count": 84,
   "metadata": {
    "execution": {
     "iopub.execute_input": "2023-11-09T17:30:51.194011Z",
     "iopub.status.busy": "2023-11-09T17:30:51.193493Z",
     "iopub.status.idle": "2023-11-09T17:30:51.238718Z",
     "shell.execute_reply": "2023-11-09T17:30:51.236768Z",
     "shell.execute_reply.started": "2023-11-09T17:30:51.193966Z"
    }
   },
   "outputs": [
    {
     "data": {
      "text/html": [
       "<div>\n",
       "<style scoped>\n",
       "    .dataframe tbody tr th:only-of-type {\n",
       "        vertical-align: middle;\n",
       "    }\n",
       "\n",
       "    .dataframe tbody tr th {\n",
       "        vertical-align: top;\n",
       "    }\n",
       "\n",
       "    .dataframe thead th {\n",
       "        text-align: right;\n",
       "    }\n",
       "</style>\n",
       "<table border=\"1\" class=\"dataframe\">\n",
       "  <thead>\n",
       "    <tr style=\"text-align: right;\">\n",
       "      <th></th>\n",
       "      <th>userId</th>\n",
       "      <th>corr</th>\n",
       "      <th>movieId</th>\n",
       "      <th>rating</th>\n",
       "    </tr>\n",
       "  </thead>\n",
       "  <tbody>\n",
       "    <tr>\n",
       "      <th>0</th>\n",
       "      <td>294</td>\n",
       "      <td>0.102905</td>\n",
       "      <td>1</td>\n",
       "      <td>4.0</td>\n",
       "    </tr>\n",
       "    <tr>\n",
       "      <th>1</th>\n",
       "      <td>294</td>\n",
       "      <td>0.102905</td>\n",
       "      <td>5</td>\n",
       "      <td>3.5</td>\n",
       "    </tr>\n",
       "    <tr>\n",
       "      <th>2</th>\n",
       "      <td>294</td>\n",
       "      <td>0.102905</td>\n",
       "      <td>7</td>\n",
       "      <td>5.0</td>\n",
       "    </tr>\n",
       "    <tr>\n",
       "      <th>3</th>\n",
       "      <td>294</td>\n",
       "      <td>0.102905</td>\n",
       "      <td>10</td>\n",
       "      <td>3.5</td>\n",
       "    </tr>\n",
       "    <tr>\n",
       "      <th>4</th>\n",
       "      <td>294</td>\n",
       "      <td>0.102905</td>\n",
       "      <td>11</td>\n",
       "      <td>3.0</td>\n",
       "    </tr>\n",
       "    <tr>\n",
       "      <th>...</th>\n",
       "      <td>...</td>\n",
       "      <td>...</td>\n",
       "      <td>...</td>\n",
       "      <td>...</td>\n",
       "    </tr>\n",
       "    <tr>\n",
       "      <th>2318</th>\n",
       "      <td>592</td>\n",
       "      <td>0.110805</td>\n",
       "      <td>4299</td>\n",
       "      <td>4.0</td>\n",
       "    </tr>\n",
       "    <tr>\n",
       "      <th>2319</th>\n",
       "      <td>592</td>\n",
       "      <td>0.110805</td>\n",
       "      <td>4340</td>\n",
       "      <td>3.0</td>\n",
       "    </tr>\n",
       "    <tr>\n",
       "      <th>2320</th>\n",
       "      <td>592</td>\n",
       "      <td>0.110805</td>\n",
       "      <td>4344</td>\n",
       "      <td>5.0</td>\n",
       "    </tr>\n",
       "    <tr>\n",
       "      <th>2321</th>\n",
       "      <td>592</td>\n",
       "      <td>0.110805</td>\n",
       "      <td>4369</td>\n",
       "      <td>5.0</td>\n",
       "    </tr>\n",
       "    <tr>\n",
       "      <th>2322</th>\n",
       "      <td>592</td>\n",
       "      <td>0.110805</td>\n",
       "      <td>4453</td>\n",
       "      <td>1.0</td>\n",
       "    </tr>\n",
       "  </tbody>\n",
       "</table>\n",
       "<p>2323 rows × 4 columns</p>\n",
       "</div>"
      ],
      "text/plain": [
       "      userId      corr  movieId  rating\n",
       "0        294  0.102905        1     4.0\n",
       "1        294  0.102905        5     3.5\n",
       "2        294  0.102905        7     5.0\n",
       "3        294  0.102905       10     3.5\n",
       "4        294  0.102905       11     3.0\n",
       "...      ...       ...      ...     ...\n",
       "2318     592  0.110805     4299     4.0\n",
       "2319     592  0.110805     4340     3.0\n",
       "2320     592  0.110805     4344     5.0\n",
       "2321     592  0.110805     4369     5.0\n",
       "2322     592  0.110805     4453     1.0\n",
       "\n",
       "[2323 rows x 4 columns]"
      ]
     },
     "execution_count": 84,
     "metadata": {},
     "output_type": "execute_result"
    }
   ],
   "source": [
    "top_users_ratings = pd.merge(top_users, rating[[\"userId\", \"movieId\", \"rating\"]], how='inner', on=\"userId\")\n",
    "\n",
    "top_users_ratings"
   ]
  },
  {
   "cell_type": "code",
   "execution_count": 85,
   "metadata": {
    "execution": {
     "iopub.execute_input": "2023-11-09T17:30:59.322887Z",
     "iopub.status.busy": "2023-11-09T17:30:59.322440Z",
     "iopub.status.idle": "2023-11-09T17:30:59.329999Z",
     "shell.execute_reply": "2023-11-09T17:30:59.328721Z",
     "shell.execute_reply.started": "2023-11-09T17:30:59.322850Z"
    }
   },
   "outputs": [],
   "source": [
    "top_users_ratings['weighted_rating'] = top_users_ratings['corr'] * top_users_ratings['rating']"
   ]
  },
  {
   "cell_type": "code",
   "execution_count": 86,
   "metadata": {
    "execution": {
     "iopub.execute_input": "2023-11-09T17:31:04.660135Z",
     "iopub.status.busy": "2023-11-09T17:31:04.659732Z",
     "iopub.status.idle": "2023-11-09T17:31:04.679071Z",
     "shell.execute_reply": "2023-11-09T17:31:04.678026Z",
     "shell.execute_reply.started": "2023-11-09T17:31:04.660102Z"
    }
   },
   "outputs": [
    {
     "data": {
      "text/html": [
       "<div>\n",
       "<style scoped>\n",
       "    .dataframe tbody tr th:only-of-type {\n",
       "        vertical-align: middle;\n",
       "    }\n",
       "\n",
       "    .dataframe tbody tr th {\n",
       "        vertical-align: top;\n",
       "    }\n",
       "\n",
       "    .dataframe thead th {\n",
       "        text-align: right;\n",
       "    }\n",
       "</style>\n",
       "<table border=\"1\" class=\"dataframe\">\n",
       "  <thead>\n",
       "    <tr style=\"text-align: right;\">\n",
       "      <th></th>\n",
       "      <th>weighted_rating</th>\n",
       "    </tr>\n",
       "    <tr>\n",
       "      <th>movieId</th>\n",
       "      <th></th>\n",
       "    </tr>\n",
       "  </thead>\n",
       "  <tbody>\n",
       "    <tr>\n",
       "      <th>1</th>\n",
       "      <td>0.323708</td>\n",
       "    </tr>\n",
       "    <tr>\n",
       "      <th>2</th>\n",
       "      <td>0.335518</td>\n",
       "    </tr>\n",
       "    <tr>\n",
       "      <th>5</th>\n",
       "      <td>0.360166</td>\n",
       "    </tr>\n",
       "    <tr>\n",
       "      <th>6</th>\n",
       "      <td>0.528171</td>\n",
       "    </tr>\n",
       "    <tr>\n",
       "      <th>7</th>\n",
       "      <td>0.446676</td>\n",
       "    </tr>\n",
       "    <tr>\n",
       "      <th>...</th>\n",
       "      <td>...</td>\n",
       "    </tr>\n",
       "    <tr>\n",
       "      <th>42738</th>\n",
       "      <td>0.411618</td>\n",
       "    </tr>\n",
       "    <tr>\n",
       "      <th>44613</th>\n",
       "      <td>0.360166</td>\n",
       "    </tr>\n",
       "    <tr>\n",
       "      <th>45028</th>\n",
       "      <td>0.411618</td>\n",
       "    </tr>\n",
       "    <tr>\n",
       "      <th>45499</th>\n",
       "      <td>0.411618</td>\n",
       "    </tr>\n",
       "    <tr>\n",
       "      <th>45517</th>\n",
       "      <td>0.411618</td>\n",
       "    </tr>\n",
       "  </tbody>\n",
       "</table>\n",
       "<p>1617 rows × 1 columns</p>\n",
       "</div>"
      ],
      "text/plain": [
       "         weighted_rating\n",
       "movieId                 \n",
       "1               0.323708\n",
       "2               0.335518\n",
       "5               0.360166\n",
       "6               0.528171\n",
       "7               0.446676\n",
       "...                  ...\n",
       "42738           0.411618\n",
       "44613           0.360166\n",
       "45028           0.411618\n",
       "45499           0.411618\n",
       "45517           0.411618\n",
       "\n",
       "[1617 rows x 1 columns]"
      ]
     },
     "execution_count": 86,
     "metadata": {},
     "output_type": "execute_result"
    }
   ],
   "source": [
    "recommendation_df = top_users_ratings.pivot_table(values=\"weighted_rating\", index=\"movieId\", aggfunc=\"mean\")\n",
    "\n",
    "recommendation_df"
   ]
  },
  {
   "cell_type": "code",
   "execution_count": 87,
   "metadata": {
    "execution": {
     "iopub.execute_input": "2023-11-09T17:31:17.738122Z",
     "iopub.status.busy": "2023-11-09T17:31:17.737685Z",
     "iopub.status.idle": "2023-11-09T17:31:17.746042Z",
     "shell.execute_reply": "2023-11-09T17:31:17.744711Z",
     "shell.execute_reply.started": "2023-11-09T17:31:17.738088Z"
    }
   },
   "outputs": [],
   "source": [
    "movies_to_be_recommend = recommendation_df[recommendation_df[\"weighted_rating\"] > 0.7].sort_values(by=\"weighted_rating\", ascending=False).head(10)"
   ]
  },
  {
   "cell_type": "code",
   "execution_count": 88,
   "metadata": {
    "execution": {
     "iopub.execute_input": "2023-11-09T17:31:23.075712Z",
     "iopub.status.busy": "2023-11-09T17:31:23.075303Z",
     "iopub.status.idle": "2023-11-09T17:31:23.086311Z",
     "shell.execute_reply": "2023-11-09T17:31:23.085107Z",
     "shell.execute_reply.started": "2023-11-09T17:31:23.075679Z"
    }
   },
   "outputs": [
    {
     "data": {
      "text/plain": [
       "3786                  Dancer in the Dark\n",
       "7234                    Dawn of the Dead\n",
       "9399              A Very Long Engagement\n",
       "9805             Elevator to the Gallows\n",
       "11922                     License to Wed\n",
       "21863    Frankenstein Conquers the World\n",
       "Name: title, dtype: object"
      ]
     },
     "execution_count": 88,
     "metadata": {},
     "output_type": "execute_result"
    }
   ],
   "source": [
    "movies[\"title\"][movies[\"movieId\"].isin(movies_to_be_recommend.index)]"
   ]
  }
 ],
 "metadata": {
  "kernelspec": {
   "display_name": "Python 3 (ipykernel)",
   "language": "python",
   "name": "python3"
  },
  "language_info": {
   "codemirror_mode": {
    "name": "ipython",
    "version": 3
   },
   "file_extension": ".py",
   "mimetype": "text/x-python",
   "name": "python",
   "nbconvert_exporter": "python",
   "pygments_lexer": "ipython3",
   "version": "3.10.9"
  }
 },
 "nbformat": 4,
 "nbformat_minor": 4
}
