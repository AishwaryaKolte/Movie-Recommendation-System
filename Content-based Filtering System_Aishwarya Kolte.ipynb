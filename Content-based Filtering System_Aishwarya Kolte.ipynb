{
 "cells": [
  {
   "cell_type": "markdown",
   "metadata": {},
   "source": [
    "### Importing the libraries"
   ]
  },
  {
   "cell_type": "code",
   "execution_count": 1,
   "metadata": {
    "execution": {
     "iopub.execute_input": "2023-11-17T11:50:43.837649Z",
     "iopub.status.busy": "2023-11-17T11:50:43.837026Z",
     "iopub.status.idle": "2023-11-17T11:50:45.789446Z",
     "shell.execute_reply": "2023-11-17T11:50:45.788192Z",
     "shell.execute_reply.started": "2023-11-17T11:50:43.837611Z"
    }
   },
   "outputs": [],
   "source": [
    "import pandas as pd\n",
    "from sklearn.feature_extraction.text import TfidfVectorizer\n",
    "from sklearn.metrics.pairwise import cosine_similarity"
   ]
  },
  {
   "cell_type": "code",
   "execution_count": 2,
   "metadata": {
    "execution": {
     "iopub.execute_input": "2023-11-17T11:51:54.166323Z",
     "iopub.status.busy": "2023-11-17T11:51:54.165603Z",
     "iopub.status.idle": "2023-11-17T11:51:55.184006Z",
     "shell.execute_reply": "2023-11-17T11:51:55.182809Z",
     "shell.execute_reply.started": "2023-11-17T11:51:54.166276Z"
    }
   },
   "outputs": [],
   "source": [
    "movies = pd.read_csv(r\"C:\\Users\\DELL\\Downloads\\The Movies Dataset\\movies_metadata.csv\",\n",
    "                    usecols=[\"id\",\"overview\",\"title\",\"vote_average\",\"vote_count\",\"release_date\"],low_memory=False)"
   ]
  },
  {
   "cell_type": "code",
   "execution_count": 3,
   "metadata": {
    "execution": {
     "iopub.execute_input": "2023-11-17T11:52:21.633837Z",
     "iopub.status.busy": "2023-11-17T11:52:21.633022Z",
     "iopub.status.idle": "2023-11-17T11:52:21.664211Z",
     "shell.execute_reply": "2023-11-17T11:52:21.659807Z",
     "shell.execute_reply.started": "2023-11-17T11:52:21.633784Z"
    }
   },
   "outputs": [
    {
     "data": {
      "text/html": [
       "<div>\n",
       "<style scoped>\n",
       "    .dataframe tbody tr th:only-of-type {\n",
       "        vertical-align: middle;\n",
       "    }\n",
       "\n",
       "    .dataframe tbody tr th {\n",
       "        vertical-align: top;\n",
       "    }\n",
       "\n",
       "    .dataframe thead th {\n",
       "        text-align: right;\n",
       "    }\n",
       "</style>\n",
       "<table border=\"1\" class=\"dataframe\">\n",
       "  <thead>\n",
       "    <tr style=\"text-align: right;\">\n",
       "      <th></th>\n",
       "      <th>id</th>\n",
       "      <th>overview</th>\n",
       "      <th>release_date</th>\n",
       "      <th>title</th>\n",
       "      <th>vote_average</th>\n",
       "      <th>vote_count</th>\n",
       "    </tr>\n",
       "  </thead>\n",
       "  <tbody>\n",
       "    <tr>\n",
       "      <th>0</th>\n",
       "      <td>862</td>\n",
       "      <td>Led by Woody, Andy's toys live happily in his ...</td>\n",
       "      <td>1995-10-30</td>\n",
       "      <td>Toy Story</td>\n",
       "      <td>7.7</td>\n",
       "      <td>5415.0</td>\n",
       "    </tr>\n",
       "    <tr>\n",
       "      <th>1</th>\n",
       "      <td>8844</td>\n",
       "      <td>When siblings Judy and Peter discover an encha...</td>\n",
       "      <td>1995-12-15</td>\n",
       "      <td>Jumanji</td>\n",
       "      <td>6.9</td>\n",
       "      <td>2413.0</td>\n",
       "    </tr>\n",
       "    <tr>\n",
       "      <th>2</th>\n",
       "      <td>15602</td>\n",
       "      <td>A family wedding reignites the ancient feud be...</td>\n",
       "      <td>1995-12-22</td>\n",
       "      <td>Grumpier Old Men</td>\n",
       "      <td>6.5</td>\n",
       "      <td>92.0</td>\n",
       "    </tr>\n",
       "    <tr>\n",
       "      <th>3</th>\n",
       "      <td>31357</td>\n",
       "      <td>Cheated on, mistreated and stepped on, the wom...</td>\n",
       "      <td>1995-12-22</td>\n",
       "      <td>Waiting to Exhale</td>\n",
       "      <td>6.1</td>\n",
       "      <td>34.0</td>\n",
       "    </tr>\n",
       "    <tr>\n",
       "      <th>4</th>\n",
       "      <td>11862</td>\n",
       "      <td>Just when George Banks has recovered from his ...</td>\n",
       "      <td>1995-02-10</td>\n",
       "      <td>Father of the Bride Part II</td>\n",
       "      <td>5.7</td>\n",
       "      <td>173.0</td>\n",
       "    </tr>\n",
       "  </tbody>\n",
       "</table>\n",
       "</div>"
      ],
      "text/plain": [
       "      id                                           overview release_date  \\\n",
       "0    862  Led by Woody, Andy's toys live happily in his ...   1995-10-30   \n",
       "1   8844  When siblings Judy and Peter discover an encha...   1995-12-15   \n",
       "2  15602  A family wedding reignites the ancient feud be...   1995-12-22   \n",
       "3  31357  Cheated on, mistreated and stepped on, the wom...   1995-12-22   \n",
       "4  11862  Just when George Banks has recovered from his ...   1995-02-10   \n",
       "\n",
       "                         title  vote_average  vote_count  \n",
       "0                    Toy Story           7.7      5415.0  \n",
       "1                      Jumanji           6.9      2413.0  \n",
       "2             Grumpier Old Men           6.5        92.0  \n",
       "3            Waiting to Exhale           6.1        34.0  \n",
       "4  Father of the Bride Part II           5.7       173.0  "
      ]
     },
     "execution_count": 3,
     "metadata": {},
     "output_type": "execute_result"
    }
   ],
   "source": [
    "movies.head()"
   ]
  },
  {
   "cell_type": "code",
   "execution_count": 4,
   "metadata": {
    "execution": {
     "iopub.execute_input": "2023-11-17T11:52:34.685984Z",
     "iopub.status.busy": "2023-11-17T11:52:34.685522Z",
     "iopub.status.idle": "2023-11-17T11:52:34.844993Z",
     "shell.execute_reply": "2023-11-17T11:52:34.844073Z",
     "shell.execute_reply.started": "2023-11-17T11:52:34.685948Z"
    }
   },
   "outputs": [],
   "source": [
    "movies = movies.reset_index(drop=True)\n",
    "movies = movies.dropna()\n",
    "movies = movies.drop_duplicates()\n",
    "movies = movies.rename(columns={\"id\":\"movieId\"})\n",
    "movies[\"movieId\"] = movies[\"movieId\"].astype(\"int64\")"
   ]
  },
  {
   "cell_type": "code",
   "execution_count": 5,
   "metadata": {
    "execution": {
     "iopub.execute_input": "2023-11-17T11:52:44.613885Z",
     "iopub.status.busy": "2023-11-17T11:52:44.613447Z",
     "iopub.status.idle": "2023-11-17T11:52:44.624960Z",
     "shell.execute_reply": "2023-11-17T11:52:44.623694Z",
     "shell.execute_reply.started": "2023-11-17T11:52:44.613846Z"
    }
   },
   "outputs": [
    {
     "data": {
      "text/plain": [
       "0    Led by Woody, Andy's toys live happily in his ...\n",
       "1    When siblings Judy and Peter discover an encha...\n",
       "2    A family wedding reignites the ancient feud be...\n",
       "3    Cheated on, mistreated and stepped on, the wom...\n",
       "4    Just when George Banks has recovered from his ...\n",
       "Name: overview, dtype: object"
      ]
     },
     "execution_count": 5,
     "metadata": {},
     "output_type": "execute_result"
    }
   ],
   "source": [
    "#We will focus only on the overview from the dataset:\n",
    "movies[\"overview\"].head()"
   ]
  },
  {
   "cell_type": "code",
   "execution_count": 6,
   "metadata": {
    "execution": {
     "iopub.execute_input": "2023-11-17T11:53:01.410626Z",
     "iopub.status.busy": "2023-11-17T11:53:01.410143Z",
     "iopub.status.idle": "2023-11-17T11:53:01.416787Z",
     "shell.execute_reply": "2023-11-17T11:53:01.415739Z",
     "shell.execute_reply.started": "2023-11-17T11:53:01.410584Z"
    }
   },
   "outputs": [],
   "source": [
    "#We are using the TF-IDF method and setting up the model:\n",
    "tfidf = TfidfVectorizer(stop_words=\"english\", min_df = 4)\n",
    "\n",
    "#We removed commonly used words such as 'and', 'the', 'on', 'in', as they do not carry significant values."
   ]
  },
  {
   "cell_type": "code",
   "execution_count": 7,
   "metadata": {
    "execution": {
     "iopub.execute_input": "2023-11-17T11:53:12.569358Z",
     "iopub.status.busy": "2023-11-17T11:53:12.568850Z",
     "iopub.status.idle": "2023-11-17T11:53:12.586485Z",
     "shell.execute_reply": "2023-11-17T11:53:12.585038Z",
     "shell.execute_reply.started": "2023-11-17T11:53:12.569318Z"
    }
   },
   "outputs": [],
   "source": [
    "#We replaced NaN values with blanks as NaNs can cause issues in calculations:\n",
    "movies['overview'] = movies['overview'].fillna('')"
   ]
  },
  {
   "cell_type": "code",
   "execution_count": 8,
   "metadata": {
    "execution": {
     "iopub.execute_input": "2023-11-17T11:53:20.719551Z",
     "iopub.status.busy": "2023-11-17T11:53:20.719094Z",
     "iopub.status.idle": "2023-11-17T11:53:24.039650Z",
     "shell.execute_reply": "2023-11-17T11:53:24.038539Z",
     "shell.execute_reply.started": "2023-11-17T11:53:20.719513Z"
    }
   },
   "outputs": [],
   "source": [
    "#After fitting, we transform the data:\n",
    "tfidf_matrix = tfidf.fit_transform(movies['overview'])"
   ]
  },
  {
   "cell_type": "code",
   "execution_count": 9,
   "metadata": {
    "execution": {
     "iopub.execute_input": "2023-11-17T11:53:29.384442Z",
     "iopub.status.busy": "2023-11-17T11:53:29.384002Z",
     "iopub.status.idle": "2023-11-17T11:53:29.392490Z",
     "shell.execute_reply": "2023-11-17T11:53:29.391253Z",
     "shell.execute_reply.started": "2023-11-17T11:53:29.384406Z"
    }
   },
   "outputs": [
    {
     "data": {
      "text/plain": [
       "(44407, 23834)"
      ]
     },
     "execution_count": 9,
     "metadata": {},
     "output_type": "execute_result"
    }
   ],
   "source": [
    "#There are 45,466 movie reviews and 75,827 words:\n",
    "tfidf_matrix.shape"
   ]
  },
  {
   "cell_type": "markdown",
   "metadata": {},
   "source": [
    "### Cosine Similarity Matrix"
   ]
  },
  {
   "cell_type": "code",
   "execution_count": 10,
   "metadata": {
    "execution": {
     "iopub.execute_input": "2023-11-17T11:54:48.651834Z",
     "iopub.status.busy": "2023-11-17T11:54:48.651450Z",
     "iopub.status.idle": "2023-11-17T11:55:34.304620Z",
     "shell.execute_reply": "2023-11-17T11:55:34.303400Z",
     "shell.execute_reply.started": "2023-11-17T11:54:48.651803Z"
    }
   },
   "outputs": [
    {
     "data": {
      "text/plain": [
       "(44407, 44407)"
      ]
     },
     "execution_count": 10,
     "metadata": {},
     "output_type": "execute_result"
    }
   ],
   "source": [
    "#This is the part where we find which movies are similar to each other, mathematically speaking, using text vectors.\n",
    "cosine_sim = cosine_similarity(tfidf_matrix,\n",
    "                               tfidf_matrix)\n",
    "#The cosine_sim.shape gives us the similarities between documents.\n",
    "cosine_sim.shape"
   ]
  },
  {
   "cell_type": "markdown",
   "metadata": {},
   "source": [
    "### Making Recommendations based on similarities"
   ]
  },
  {
   "cell_type": "code",
   "execution_count": 11,
   "metadata": {
    "execution": {
     "iopub.execute_input": "2023-11-17T11:58:29.449149Z",
     "iopub.status.busy": "2023-11-17T11:58:29.448651Z",
     "iopub.status.idle": "2023-11-17T11:58:29.456521Z",
     "shell.execute_reply": "2023-11-17T11:58:29.455179Z",
     "shell.execute_reply.started": "2023-11-17T11:58:29.449098Z"
    }
   },
   "outputs": [],
   "source": [
    "#To evaluate the calculated scores, we retrieve the names.\n",
    "\n",
    "indices = pd.Series(movies.index, index=movies['title'])"
   ]
  },
  {
   "cell_type": "code",
   "execution_count": 12,
   "metadata": {
    "execution": {
     "iopub.execute_input": "2023-11-17T11:58:40.957515Z",
     "iopub.status.busy": "2023-11-17T11:58:40.957088Z",
     "iopub.status.idle": "2023-11-17T11:58:41.000529Z",
     "shell.execute_reply": "2023-11-17T11:58:40.999326Z",
     "shell.execute_reply.started": "2023-11-17T11:58:40.957479Z"
    }
   },
   "outputs": [
    {
     "data": {
      "text/plain": [
       "title\n",
       "Cinderella              11\n",
       "Hamlet                   9\n",
       "Beauty and the Beast     8\n",
       "Alice in Wonderland      8\n",
       "Les Misérables           8\n",
       "                        ..\n",
       "No Greater Love          1\n",
       "A Woman in Berlin        1\n",
       "Talhotblond              1\n",
       "Tortilla Flat            1\n",
       "Queerama                 1\n",
       "Name: count, Length: 41303, dtype: int64"
      ]
     },
     "execution_count": 12,
     "metadata": {},
     "output_type": "execute_result"
    }
   ],
   "source": [
    "#There are multiple instances of movies.\n",
    "indices.index.value_counts()"
   ]
  },
  {
   "cell_type": "code",
   "execution_count": 13,
   "metadata": {
    "execution": {
     "iopub.execute_input": "2023-11-17T11:59:08.288550Z",
     "iopub.status.busy": "2023-11-17T11:59:08.288135Z",
     "iopub.status.idle": "2023-11-17T11:59:08.305576Z",
     "shell.execute_reply": "2023-11-17T11:59:08.304447Z",
     "shell.execute_reply.started": "2023-11-17T11:59:08.288515Z"
    }
   },
   "outputs": [],
   "source": [
    "#We keep one of the duplicate movies and delete the others. We take the last one for freshness.\n",
    "indices = indices[~indices.index.duplicated(keep='last')]"
   ]
  },
  {
   "cell_type": "code",
   "execution_count": 14,
   "metadata": {
    "execution": {
     "iopub.execute_input": "2023-11-17T11:59:24.384125Z",
     "iopub.status.busy": "2023-11-17T11:59:24.383701Z",
     "iopub.status.idle": "2023-11-17T11:59:24.395183Z",
     "shell.execute_reply": "2023-11-17T11:59:24.393975Z",
     "shell.execute_reply.started": "2023-11-17T11:59:24.384075Z"
    }
   },
   "outputs": [],
   "source": [
    "#We note the index of the movie \"Sherlock Holmes\".\n",
    "movie_index = indices[\"Sherlock Holmes\"]"
   ]
  },
  {
   "cell_type": "code",
   "execution_count": 15,
   "metadata": {
    "execution": {
     "iopub.execute_input": "2023-11-17T11:59:37.959200Z",
     "iopub.status.busy": "2023-11-17T11:59:37.958774Z",
     "iopub.status.idle": "2023-11-17T11:59:37.967443Z",
     "shell.execute_reply": "2023-11-17T11:59:37.966193Z",
     "shell.execute_reply.started": "2023-11-17T11:59:37.959167Z"
    }
   },
   "outputs": [
    {
     "data": {
      "text/plain": [
       "array([0.00630183, 0.00923754, 0.        , ..., 0.        , 0.01089884,\n",
       "       0.        ])"
      ]
     },
     "execution_count": 15,
     "metadata": {},
     "output_type": "execute_result"
    }
   ],
   "source": [
    "#Accessing cosine_sim with the index of Sherlock Holmes.\n",
    "cosine_sim[movie_index]"
   ]
  },
  {
   "cell_type": "code",
   "execution_count": 16,
   "metadata": {
    "execution": {
     "iopub.execute_input": "2023-11-17T11:59:54.019941Z",
     "iopub.status.busy": "2023-11-17T11:59:54.019498Z",
     "iopub.status.idle": "2023-11-17T11:59:54.025601Z",
     "shell.execute_reply": "2023-11-17T11:59:54.024539Z",
     "shell.execute_reply.started": "2023-11-17T11:59:54.019904Z"
    }
   },
   "outputs": [],
   "source": [
    "#We create a dataframe called similarity_scores and retrieve the similar ones, evaluating them as scores.\n",
    "similarity_scores = pd.DataFrame(cosine_sim[movie_index],columns=[\"score\"])"
   ]
  },
  {
   "cell_type": "code",
   "execution_count": 17,
   "metadata": {
    "execution": {
     "iopub.execute_input": "2023-11-17T12:00:14.447231Z",
     "iopub.status.busy": "2023-11-17T12:00:14.446829Z",
     "iopub.status.idle": "2023-11-17T12:00:14.456967Z",
     "shell.execute_reply": "2023-11-17T12:00:14.455884Z",
     "shell.execute_reply.started": "2023-11-17T12:00:14.447184Z"
    }
   },
   "outputs": [],
   "source": [
    "#Fetching the top 10 movies with the highest scores. The first observation includes the movie itself, so we use 1 to 11.\n",
    "movie_indices = similarity_scores.sort_values(\"score\", ascending=False)[1:11].index"
   ]
  },
  {
   "cell_type": "code",
   "execution_count": 18,
   "metadata": {
    "execution": {
     "iopub.execute_input": "2023-11-17T12:00:25.462337Z",
     "iopub.status.busy": "2023-11-17T12:00:25.461891Z",
     "iopub.status.idle": "2023-11-17T12:00:25.471073Z",
     "shell.execute_reply": "2023-11-17T12:00:25.469980Z",
     "shell.execute_reply.started": "2023-11-17T12:00:25.462302Z"
    }
   },
   "outputs": [
    {
     "data": {
      "text/plain": [
       "35745    The Dog of Flanders\n",
       "16735    The Heart Elsewhere\n",
       "31594         We Can Do That\n",
       "30608      Drama of Jealousy\n",
       "25451             Marvellous\n",
       "44609             The Mitten\n",
       "21348      Darling Companion\n",
       "12104        The Dog Problem\n",
       "33454       The Empty Canvas\n",
       "42413         Death by Death\n",
       "Name: title, dtype: object"
      ]
     },
     "execution_count": 18,
     "metadata": {},
     "output_type": "execute_result"
    }
   ],
   "source": [
    "#Retrieving the titles of the movies with index information.\n",
    "movies['title'].iloc[movie_indices]"
   ]
  },
  {
   "cell_type": "markdown",
   "metadata": {},
   "source": [
    "### Building a Recommendation Function"
   ]
  },
  {
   "cell_type": "code",
   "execution_count": 19,
   "metadata": {
    "execution": {
     "iopub.execute_input": "2023-11-17T12:01:00.179461Z",
     "iopub.status.busy": "2023-11-17T12:01:00.179048Z",
     "iopub.status.idle": "2023-11-17T12:01:00.187477Z",
     "shell.execute_reply": "2023-11-17T12:01:00.186315Z",
     "shell.execute_reply.started": "2023-11-17T12:01:00.179428Z"
    }
   },
   "outputs": [],
   "source": [
    "def content_based_recommender(title, cosine_sim, dataframe):\n",
    "    # making index\n",
    "    indices = pd.Series(dataframe.index, index=dataframe['title'])\n",
    "    indices = indices[~indices.index.duplicated(keep='last')]\n",
    "    # catch title's index\n",
    "    movie_index = indices[title]\n",
    "    # calculating similarty score to target\n",
    "    similarity_scores = pd.DataFrame(cosine_sim[movie_index], columns=[\"score\"])\n",
    "    # bring 10 movie\n",
    "    movie_indices = similarity_scores.sort_values(\"score\", ascending=False)[1:11].index\n",
    "    return dataframe['title'].iloc[movie_indices]"
   ]
  },
  {
   "cell_type": "code",
   "execution_count": 21,
   "metadata": {
    "execution": {
     "iopub.execute_input": "2023-11-17T12:01:28.463967Z",
     "iopub.status.busy": "2023-11-17T12:01:28.463596Z",
     "iopub.status.idle": "2023-11-17T12:01:28.496786Z",
     "shell.execute_reply": "2023-11-17T12:01:28.495657Z",
     "shell.execute_reply.started": "2023-11-17T12:01:28.463938Z"
    }
   },
   "outputs": [
    {
     "data": {
      "text/plain": [
       "15348                                     Toy Story 3\n",
       "2997                                      Toy Story 2\n",
       "10301                          The 40 Year Old Virgin\n",
       "24523                                       Small Fry\n",
       "8327                                        The Champ\n",
       "23843                     Andy Hardy's Blonde Trouble\n",
       "43427                Andy Kaufman Plays Carnegie Hall\n",
       "29202                                      Hot Splash\n",
       "38476    Superstar: The Life and Times of Andy Warhol\n",
       "42721    Andy Peters: Exclamation Mark Question Point\n",
       "Name: title, dtype: object"
      ]
     },
     "execution_count": 21,
     "metadata": {},
     "output_type": "execute_result"
    }
   ],
   "source": [
    "content_based_recommender(\"Toy Story\", cosine_sim, movies)"
   ]
  },
  {
   "cell_type": "code",
   "execution_count": 22,
   "metadata": {
    "execution": {
     "iopub.execute_input": "2023-11-17T12:01:39.106026Z",
     "iopub.status.busy": "2023-11-17T12:01:39.105607Z",
     "iopub.status.idle": "2023-11-17T12:01:39.136447Z",
     "shell.execute_reply": "2023-11-17T12:01:39.135459Z",
     "shell.execute_reply.started": "2023-11-17T12:01:39.105989Z"
    }
   },
   "outputs": [
    {
     "data": {
      "text/plain": [
       "27610                So Sweet, So Dead\n",
       "3534                             Lured\n",
       "21                             Copycat\n",
       "2069                            Frenzy\n",
       "20626       The Wandering Soul Murders\n",
       "7583             The Stendhal Syndrome\n",
       "28141               Mark Strikes Again\n",
       "23816    Tables Turned on the Gardener\n",
       "26944            Whistling in Brooklyn\n",
       "28203                Kommissarie Späck\n",
       "Name: title, dtype: object"
      ]
     },
     "execution_count": 22,
     "metadata": {},
     "output_type": "execute_result"
    }
   ],
   "source": [
    "content_based_recommender(\"The Matrix\", cosine_sim, movies)"
   ]
  }
 ],
 "metadata": {
  "kaggle": {
   "accelerator": "none",
   "dataSources": [
    {
     "datasetId": 3405,
     "sourceId": 6663,
     "sourceType": "datasetVersion"
    }
   ],
   "dockerImageVersionId": 30587,
   "isGpuEnabled": false,
   "isInternetEnabled": false,
   "language": "python",
   "sourceType": "notebook"
  },
  "kernelspec": {
   "display_name": "Python 3 (ipykernel)",
   "language": "python",
   "name": "python3"
  },
  "language_info": {
   "codemirror_mode": {
    "name": "ipython",
    "version": 3
   },
   "file_extension": ".py",
   "mimetype": "text/x-python",
   "name": "python",
   "nbconvert_exporter": "python",
   "pygments_lexer": "ipython3",
   "version": "3.10.9"
  }
 },
 "nbformat": 4,
 "nbformat_minor": 4
}
