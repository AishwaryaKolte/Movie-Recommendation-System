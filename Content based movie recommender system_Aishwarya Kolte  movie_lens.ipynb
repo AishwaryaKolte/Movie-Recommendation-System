{
 "cells": [
  {
   "cell_type": "markdown",
   "id": "036c1e64",
   "metadata": {
    "papermill": {
     "duration": 0.010022,
     "end_time": "2022-11-03T16:54:06.470753",
     "exception": false,
     "start_time": "2022-11-03T16:54:06.460731",
     "status": "completed"
    },
    "tags": []
   },
   "source": [
    "# Step 1 : Import required files"
   ]
  },
  {
   "cell_type": "code",
   "execution_count": 2,
   "id": "b5b6b5b8",
   "metadata": {
    "execution": {
     "iopub.execute_input": "2022-11-03T16:54:06.495088Z",
     "iopub.status.busy": "2022-11-03T16:54:06.494403Z",
     "iopub.status.idle": "2022-11-03T16:54:06.555716Z",
     "shell.execute_reply": "2022-11-03T16:54:06.554754Z"
    },
    "papermill": {
     "duration": 0.0773,
     "end_time": "2022-11-03T16:54:06.558328",
     "exception": false,
     "start_time": "2022-11-03T16:54:06.481028",
     "status": "completed"
    },
    "tags": []
   },
   "outputs": [
    {
     "data": {
      "text/html": [
       "<div>\n",
       "<style scoped>\n",
       "    .dataframe tbody tr th:only-of-type {\n",
       "        vertical-align: middle;\n",
       "    }\n",
       "\n",
       "    .dataframe tbody tr th {\n",
       "        vertical-align: top;\n",
       "    }\n",
       "\n",
       "    .dataframe thead th {\n",
       "        text-align: right;\n",
       "    }\n",
       "</style>\n",
       "<table border=\"1\" class=\"dataframe\">\n",
       "  <thead>\n",
       "    <tr style=\"text-align: right;\">\n",
       "      <th></th>\n",
       "      <th>movieId</th>\n",
       "      <th>title</th>\n",
       "      <th>genres</th>\n",
       "    </tr>\n",
       "  </thead>\n",
       "  <tbody>\n",
       "    <tr>\n",
       "      <th>0</th>\n",
       "      <td>1</td>\n",
       "      <td>Toy Story (1995)</td>\n",
       "      <td>Adventure|Animation|Children|Comedy|Fantasy</td>\n",
       "    </tr>\n",
       "    <tr>\n",
       "      <th>1</th>\n",
       "      <td>2</td>\n",
       "      <td>Jumanji (1995)</td>\n",
       "      <td>Adventure|Children|Fantasy</td>\n",
       "    </tr>\n",
       "    <tr>\n",
       "      <th>2</th>\n",
       "      <td>3</td>\n",
       "      <td>Grumpier Old Men (1995)</td>\n",
       "      <td>Comedy|Romance</td>\n",
       "    </tr>\n",
       "    <tr>\n",
       "      <th>3</th>\n",
       "      <td>4</td>\n",
       "      <td>Waiting to Exhale (1995)</td>\n",
       "      <td>Comedy|Drama|Romance</td>\n",
       "    </tr>\n",
       "    <tr>\n",
       "      <th>4</th>\n",
       "      <td>5</td>\n",
       "      <td>Father of the Bride Part II (1995)</td>\n",
       "      <td>Comedy</td>\n",
       "    </tr>\n",
       "    <tr>\n",
       "      <th>...</th>\n",
       "      <td>...</td>\n",
       "      <td>...</td>\n",
       "      <td>...</td>\n",
       "    </tr>\n",
       "    <tr>\n",
       "      <th>9737</th>\n",
       "      <td>193581</td>\n",
       "      <td>Black Butler: Book of the Atlantic (2017)</td>\n",
       "      <td>Action|Animation|Comedy|Fantasy</td>\n",
       "    </tr>\n",
       "    <tr>\n",
       "      <th>9738</th>\n",
       "      <td>193583</td>\n",
       "      <td>No Game No Life: Zero (2017)</td>\n",
       "      <td>Animation|Comedy|Fantasy</td>\n",
       "    </tr>\n",
       "    <tr>\n",
       "      <th>9739</th>\n",
       "      <td>193585</td>\n",
       "      <td>Flint (2017)</td>\n",
       "      <td>Drama</td>\n",
       "    </tr>\n",
       "    <tr>\n",
       "      <th>9740</th>\n",
       "      <td>193587</td>\n",
       "      <td>Bungo Stray Dogs: Dead Apple (2018)</td>\n",
       "      <td>Action|Animation</td>\n",
       "    </tr>\n",
       "    <tr>\n",
       "      <th>9741</th>\n",
       "      <td>193609</td>\n",
       "      <td>Andrew Dice Clay: Dice Rules (1991)</td>\n",
       "      <td>Comedy</td>\n",
       "    </tr>\n",
       "  </tbody>\n",
       "</table>\n",
       "<p>9742 rows × 3 columns</p>\n",
       "</div>"
      ],
      "text/plain": [
       "      movieId                                      title  \\\n",
       "0           1                           Toy Story (1995)   \n",
       "1           2                             Jumanji (1995)   \n",
       "2           3                    Grumpier Old Men (1995)   \n",
       "3           4                   Waiting to Exhale (1995)   \n",
       "4           5         Father of the Bride Part II (1995)   \n",
       "...       ...                                        ...   \n",
       "9737   193581  Black Butler: Book of the Atlantic (2017)   \n",
       "9738   193583               No Game No Life: Zero (2017)   \n",
       "9739   193585                               Flint (2017)   \n",
       "9740   193587        Bungo Stray Dogs: Dead Apple (2018)   \n",
       "9741   193609        Andrew Dice Clay: Dice Rules (1991)   \n",
       "\n",
       "                                           genres  \n",
       "0     Adventure|Animation|Children|Comedy|Fantasy  \n",
       "1                      Adventure|Children|Fantasy  \n",
       "2                                  Comedy|Romance  \n",
       "3                            Comedy|Drama|Romance  \n",
       "4                                          Comedy  \n",
       "...                                           ...  \n",
       "9737              Action|Animation|Comedy|Fantasy  \n",
       "9738                     Animation|Comedy|Fantasy  \n",
       "9739                                        Drama  \n",
       "9740                             Action|Animation  \n",
       "9741                                       Comedy  \n",
       "\n",
       "[9742 rows x 3 columns]"
      ]
     },
     "execution_count": 2,
     "metadata": {},
     "output_type": "execute_result"
    }
   ],
   "source": [
    "# import file\n",
    "movie = pd.read_csv(r'C:\\Users\\DELL\\Downloads\\movies lens\\movies.csv')\n",
    "movie"
   ]
  },
  {
   "cell_type": "markdown",
   "id": "c9064c0d",
   "metadata": {
    "papermill": {
     "duration": 0.010391,
     "end_time": "2022-11-03T16:54:06.579800",
     "exception": false,
     "start_time": "2022-11-03T16:54:06.569409",
     "status": "completed"
    },
    "tags": []
   },
   "source": [
    "# Step 2 : Data Preprocesing and cleaning"
   ]
  },
  {
   "cell_type": "code",
   "execution_count": 3,
   "id": "a0eacd07",
   "metadata": {
    "execution": {
     "iopub.execute_input": "2022-11-03T16:54:06.603941Z",
     "iopub.status.busy": "2022-11-03T16:54:06.603317Z",
     "iopub.status.idle": "2022-11-03T16:54:06.618270Z",
     "shell.execute_reply": "2022-11-03T16:54:06.616989Z"
    },
    "papermill": {
     "duration": 0.030598,
     "end_time": "2022-11-03T16:54:06.621126",
     "exception": false,
     "start_time": "2022-11-03T16:54:06.590528",
     "status": "completed"
    },
    "tags": []
   },
   "outputs": [
    {
     "data": {
      "text/plain": [
       "array(['Toy Story (1995)', 'Jumanji (1995)', 'Grumpier Old Men (1995)',\n",
       "       ..., 'Flint (2017)', 'Bungo Stray Dogs: Dead Apple (2018)',\n",
       "       'Andrew Dice Clay: Dice Rules (1991)'], dtype=object)"
      ]
     },
     "execution_count": 3,
     "metadata": {},
     "output_type": "execute_result"
    }
   ],
   "source": [
    "# Check unique movie title\n",
    "movie[\"title\"].unique()"
   ]
  },
  {
   "cell_type": "code",
   "execution_count": 4,
   "id": "cd0344b8",
   "metadata": {
    "execution": {
     "iopub.execute_input": "2022-11-03T16:54:06.644727Z",
     "iopub.status.busy": "2022-11-03T16:54:06.644300Z",
     "iopub.status.idle": "2022-11-03T16:54:06.672032Z",
     "shell.execute_reply": "2022-11-03T16:54:06.670809Z"
    },
    "papermill": {
     "duration": 0.043735,
     "end_time": "2022-11-03T16:54:06.675682",
     "exception": false,
     "start_time": "2022-11-03T16:54:06.631947",
     "status": "completed"
    },
    "tags": []
   },
   "outputs": [
    {
     "data": {
      "text/plain": [
       "0       (1995)\n",
       "1       (1995)\n",
       "2       (1995)\n",
       "3       (1995)\n",
       "4       (1995)\n",
       "         ...  \n",
       "9737    (2017)\n",
       "9738    (2017)\n",
       "9739    (2017)\n",
       "9740    (2018)\n",
       "9741    (1991)\n",
       "Name: Year, Length: 9742, dtype: object"
      ]
     },
     "execution_count": 4,
     "metadata": {},
     "output_type": "execute_result"
    }
   ],
   "source": [
    "# create new coloumn name as year from title\n",
    "movie[\"Year\"] = movie.title.str.extract(\"(\\(\\d\\d\\d\\d\\))\" ,expand = True)\n",
    "movie[\"Year\"]"
   ]
  },
  {
   "cell_type": "code",
   "execution_count": 5,
   "id": "b7bd74cc",
   "metadata": {
    "execution": {
     "iopub.execute_input": "2022-11-03T16:54:06.702308Z",
     "iopub.status.busy": "2022-11-03T16:54:06.701783Z",
     "iopub.status.idle": "2022-11-03T16:54:06.731586Z",
     "shell.execute_reply": "2022-11-03T16:54:06.730342Z"
    },
    "papermill": {
     "duration": 0.046463,
     "end_time": "2022-11-03T16:54:06.734187",
     "exception": false,
     "start_time": "2022-11-03T16:54:06.687724",
     "status": "completed"
    },
    "tags": []
   },
   "outputs": [
    {
     "data": {
      "text/plain": [
       "0       1995\n",
       "1       1995\n",
       "2       1995\n",
       "3       1995\n",
       "4       1995\n",
       "        ... \n",
       "9737    2017\n",
       "9738    2017\n",
       "9739    2017\n",
       "9740    2018\n",
       "9741    1991\n",
       "Name: Year, Length: 9742, dtype: object"
      ]
     },
     "execution_count": 5,
     "metadata": {},
     "output_type": "execute_result"
    }
   ],
   "source": [
    "# Removing extra brakets \n",
    "movie[\"Year\"] = movie.title.str.extract(\"(\\d\\d\\d\\d)\" ,expand = True)\n",
    "movie[\"Year\"]"
   ]
  },
  {
   "cell_type": "code",
   "execution_count": 6,
   "id": "a9598369",
   "metadata": {
    "execution": {
     "iopub.execute_input": "2022-11-03T16:54:06.759809Z",
     "iopub.status.busy": "2022-11-03T16:54:06.759003Z",
     "iopub.status.idle": "2022-11-03T16:54:06.784560Z",
     "shell.execute_reply": "2022-11-03T16:54:06.783302Z"
    },
    "papermill": {
     "duration": 0.039866,
     "end_time": "2022-11-03T16:54:06.786684",
     "exception": false,
     "start_time": "2022-11-03T16:54:06.746818",
     "status": "completed"
    },
    "tags": []
   },
   "outputs": [
    {
     "name": "stderr",
     "output_type": "stream",
     "text": [
      "/opt/conda/lib/python3.7/site-packages/ipykernel_launcher.py:2: FutureWarning: The default value of regex will change from True to False in a future version.\n",
      "  \n"
     ]
    },
    {
     "data": {
      "text/html": [
       "<div>\n",
       "<style scoped>\n",
       "    .dataframe tbody tr th:only-of-type {\n",
       "        vertical-align: middle;\n",
       "    }\n",
       "\n",
       "    .dataframe tbody tr th {\n",
       "        vertical-align: top;\n",
       "    }\n",
       "\n",
       "    .dataframe thead th {\n",
       "        text-align: right;\n",
       "    }\n",
       "</style>\n",
       "<table border=\"1\" class=\"dataframe\">\n",
       "  <thead>\n",
       "    <tr style=\"text-align: right;\">\n",
       "      <th></th>\n",
       "      <th>movieId</th>\n",
       "      <th>title</th>\n",
       "      <th>genres</th>\n",
       "      <th>Year</th>\n",
       "    </tr>\n",
       "  </thead>\n",
       "  <tbody>\n",
       "    <tr>\n",
       "      <th>0</th>\n",
       "      <td>1</td>\n",
       "      <td>Toy Story</td>\n",
       "      <td>Adventure|Animation|Children|Comedy|Fantasy</td>\n",
       "      <td>1995</td>\n",
       "    </tr>\n",
       "    <tr>\n",
       "      <th>1</th>\n",
       "      <td>2</td>\n",
       "      <td>Jumanji</td>\n",
       "      <td>Adventure|Children|Fantasy</td>\n",
       "      <td>1995</td>\n",
       "    </tr>\n",
       "    <tr>\n",
       "      <th>2</th>\n",
       "      <td>3</td>\n",
       "      <td>Grumpier Old Men</td>\n",
       "      <td>Comedy|Romance</td>\n",
       "      <td>1995</td>\n",
       "    </tr>\n",
       "    <tr>\n",
       "      <th>3</th>\n",
       "      <td>4</td>\n",
       "      <td>Waiting to Exhale</td>\n",
       "      <td>Comedy|Drama|Romance</td>\n",
       "      <td>1995</td>\n",
       "    </tr>\n",
       "    <tr>\n",
       "      <th>4</th>\n",
       "      <td>5</td>\n",
       "      <td>Father of the Bride Part II</td>\n",
       "      <td>Comedy</td>\n",
       "      <td>1995</td>\n",
       "    </tr>\n",
       "    <tr>\n",
       "      <th>...</th>\n",
       "      <td>...</td>\n",
       "      <td>...</td>\n",
       "      <td>...</td>\n",
       "      <td>...</td>\n",
       "    </tr>\n",
       "    <tr>\n",
       "      <th>9737</th>\n",
       "      <td>193581</td>\n",
       "      <td>Black Butler: Book of the Atlantic</td>\n",
       "      <td>Action|Animation|Comedy|Fantasy</td>\n",
       "      <td>2017</td>\n",
       "    </tr>\n",
       "    <tr>\n",
       "      <th>9738</th>\n",
       "      <td>193583</td>\n",
       "      <td>No Game No Life: Zero</td>\n",
       "      <td>Animation|Comedy|Fantasy</td>\n",
       "      <td>2017</td>\n",
       "    </tr>\n",
       "    <tr>\n",
       "      <th>9739</th>\n",
       "      <td>193585</td>\n",
       "      <td>Flint</td>\n",
       "      <td>Drama</td>\n",
       "      <td>2017</td>\n",
       "    </tr>\n",
       "    <tr>\n",
       "      <th>9740</th>\n",
       "      <td>193587</td>\n",
       "      <td>Bungo Stray Dogs: Dead Apple</td>\n",
       "      <td>Action|Animation</td>\n",
       "      <td>2018</td>\n",
       "    </tr>\n",
       "    <tr>\n",
       "      <th>9741</th>\n",
       "      <td>193609</td>\n",
       "      <td>Andrew Dice Clay: Dice Rules</td>\n",
       "      <td>Comedy</td>\n",
       "      <td>1991</td>\n",
       "    </tr>\n",
       "  </tbody>\n",
       "</table>\n",
       "<p>9742 rows × 4 columns</p>\n",
       "</div>"
      ],
      "text/plain": [
       "      movieId                                title  \\\n",
       "0           1                           Toy Story    \n",
       "1           2                             Jumanji    \n",
       "2           3                    Grumpier Old Men    \n",
       "3           4                   Waiting to Exhale    \n",
       "4           5         Father of the Bride Part II    \n",
       "...       ...                                  ...   \n",
       "9737   193581  Black Butler: Book of the Atlantic    \n",
       "9738   193583               No Game No Life: Zero    \n",
       "9739   193585                               Flint    \n",
       "9740   193587        Bungo Stray Dogs: Dead Apple    \n",
       "9741   193609        Andrew Dice Clay: Dice Rules    \n",
       "\n",
       "                                           genres  Year  \n",
       "0     Adventure|Animation|Children|Comedy|Fantasy  1995  \n",
       "1                      Adventure|Children|Fantasy  1995  \n",
       "2                                  Comedy|Romance  1995  \n",
       "3                            Comedy|Drama|Romance  1995  \n",
       "4                                          Comedy  1995  \n",
       "...                                           ...   ...  \n",
       "9737              Action|Animation|Comedy|Fantasy  2017  \n",
       "9738                     Animation|Comedy|Fantasy  2017  \n",
       "9739                                        Drama  2017  \n",
       "9740                             Action|Animation  2018  \n",
       "9741                                       Comedy  1991  \n",
       "\n",
       "[9742 rows x 4 columns]"
      ]
     },
     "execution_count": 6,
     "metadata": {},
     "output_type": "execute_result"
    }
   ],
   "source": [
    "# replace year and add whitespaces\n",
    "movie[\"title\"]= movie.title.str.replace(\"(\\(\\d\\d\\d\\d\\))\",\"\")\n",
    "movie"
   ]
  },
  {
   "cell_type": "code",
   "execution_count": 7,
   "id": "54d67d64",
   "metadata": {
    "execution": {
     "iopub.execute_input": "2022-11-03T16:54:06.811386Z",
     "iopub.status.busy": "2022-11-03T16:54:06.810477Z",
     "iopub.status.idle": "2022-11-03T16:54:06.826374Z",
     "shell.execute_reply": "2022-11-03T16:54:06.825062Z"
    },
    "papermill": {
     "duration": 0.030989,
     "end_time": "2022-11-03T16:54:06.829035",
     "exception": false,
     "start_time": "2022-11-03T16:54:06.798046",
     "status": "completed"
    },
    "tags": []
   },
   "outputs": [
    {
     "data": {
      "text/html": [
       "<div>\n",
       "<style scoped>\n",
       "    .dataframe tbody tr th:only-of-type {\n",
       "        vertical-align: middle;\n",
       "    }\n",
       "\n",
       "    .dataframe tbody tr th {\n",
       "        vertical-align: top;\n",
       "    }\n",
       "\n",
       "    .dataframe thead th {\n",
       "        text-align: right;\n",
       "    }\n",
       "</style>\n",
       "<table border=\"1\" class=\"dataframe\">\n",
       "  <thead>\n",
       "    <tr style=\"text-align: right;\">\n",
       "      <th></th>\n",
       "      <th>movieId</th>\n",
       "      <th>title</th>\n",
       "      <th>genres</th>\n",
       "      <th>Year</th>\n",
       "    </tr>\n",
       "  </thead>\n",
       "  <tbody>\n",
       "    <tr>\n",
       "      <th>0</th>\n",
       "      <td>1</td>\n",
       "      <td>Toy Story</td>\n",
       "      <td>Adventure|Animation|Children|Comedy|Fantasy</td>\n",
       "      <td>1995</td>\n",
       "    </tr>\n",
       "    <tr>\n",
       "      <th>1</th>\n",
       "      <td>2</td>\n",
       "      <td>Jumanji</td>\n",
       "      <td>Adventure|Children|Fantasy</td>\n",
       "      <td>1995</td>\n",
       "    </tr>\n",
       "    <tr>\n",
       "      <th>2</th>\n",
       "      <td>3</td>\n",
       "      <td>Grumpier Old Men</td>\n",
       "      <td>Comedy|Romance</td>\n",
       "      <td>1995</td>\n",
       "    </tr>\n",
       "  </tbody>\n",
       "</table>\n",
       "</div>"
      ],
      "text/plain": [
       "   movieId             title                                       genres  \\\n",
       "0        1         Toy Story  Adventure|Animation|Children|Comedy|Fantasy   \n",
       "1        2           Jumanji                   Adventure|Children|Fantasy   \n",
       "2        3  Grumpier Old Men                               Comedy|Romance   \n",
       "\n",
       "   Year  \n",
       "0  1995  \n",
       "1  1995  \n",
       "2  1995  "
      ]
     },
     "execution_count": 7,
     "metadata": {},
     "output_type": "execute_result"
    }
   ],
   "source": [
    "# Removing extra spaces from begining and ending\n",
    "movie[\"title\"]= movie[\"title\"].apply(lambda x: x.strip())\n",
    "movie.head(3)"
   ]
  },
  {
   "cell_type": "code",
   "execution_count": 8,
   "id": "47989a58",
   "metadata": {
    "execution": {
     "iopub.execute_input": "2022-11-03T16:54:06.854058Z",
     "iopub.status.busy": "2022-11-03T16:54:06.853628Z",
     "iopub.status.idle": "2022-11-03T16:54:06.873299Z",
     "shell.execute_reply": "2022-11-03T16:54:06.872228Z"
    },
    "papermill": {
     "duration": 0.034717,
     "end_time": "2022-11-03T16:54:06.875429",
     "exception": false,
     "start_time": "2022-11-03T16:54:06.840712",
     "status": "completed"
    },
    "tags": []
   },
   "outputs": [
    {
     "data": {
      "text/html": [
       "<div>\n",
       "<style scoped>\n",
       "    .dataframe tbody tr th:only-of-type {\n",
       "        vertical-align: middle;\n",
       "    }\n",
       "\n",
       "    .dataframe tbody tr th {\n",
       "        vertical-align: top;\n",
       "    }\n",
       "\n",
       "    .dataframe thead th {\n",
       "        text-align: right;\n",
       "    }\n",
       "</style>\n",
       "<table border=\"1\" class=\"dataframe\">\n",
       "  <thead>\n",
       "    <tr style=\"text-align: right;\">\n",
       "      <th></th>\n",
       "      <th>movieId</th>\n",
       "      <th>title</th>\n",
       "      <th>genres</th>\n",
       "      <th>Year</th>\n",
       "    </tr>\n",
       "  </thead>\n",
       "  <tbody>\n",
       "    <tr>\n",
       "      <th>0</th>\n",
       "      <td>1</td>\n",
       "      <td>Toy Story</td>\n",
       "      <td>adventure|animation|children|comedy|fantasy</td>\n",
       "      <td>1995</td>\n",
       "    </tr>\n",
       "    <tr>\n",
       "      <th>1</th>\n",
       "      <td>2</td>\n",
       "      <td>Jumanji</td>\n",
       "      <td>adventure|children|fantasy</td>\n",
       "      <td>1995</td>\n",
       "    </tr>\n",
       "    <tr>\n",
       "      <th>2</th>\n",
       "      <td>3</td>\n",
       "      <td>Grumpier Old Men</td>\n",
       "      <td>comedy|romance</td>\n",
       "      <td>1995</td>\n",
       "    </tr>\n",
       "    <tr>\n",
       "      <th>3</th>\n",
       "      <td>4</td>\n",
       "      <td>Waiting to Exhale</td>\n",
       "      <td>comedy|drama|romance</td>\n",
       "      <td>1995</td>\n",
       "    </tr>\n",
       "    <tr>\n",
       "      <th>4</th>\n",
       "      <td>5</td>\n",
       "      <td>Father of the Bride Part II</td>\n",
       "      <td>comedy</td>\n",
       "      <td>1995</td>\n",
       "    </tr>\n",
       "    <tr>\n",
       "      <th>...</th>\n",
       "      <td>...</td>\n",
       "      <td>...</td>\n",
       "      <td>...</td>\n",
       "      <td>...</td>\n",
       "    </tr>\n",
       "    <tr>\n",
       "      <th>9737</th>\n",
       "      <td>193581</td>\n",
       "      <td>Black Butler: Book of the Atlantic</td>\n",
       "      <td>action|animation|comedy|fantasy</td>\n",
       "      <td>2017</td>\n",
       "    </tr>\n",
       "    <tr>\n",
       "      <th>9738</th>\n",
       "      <td>193583</td>\n",
       "      <td>No Game No Life: Zero</td>\n",
       "      <td>animation|comedy|fantasy</td>\n",
       "      <td>2017</td>\n",
       "    </tr>\n",
       "    <tr>\n",
       "      <th>9739</th>\n",
       "      <td>193585</td>\n",
       "      <td>Flint</td>\n",
       "      <td>drama</td>\n",
       "      <td>2017</td>\n",
       "    </tr>\n",
       "    <tr>\n",
       "      <th>9740</th>\n",
       "      <td>193587</td>\n",
       "      <td>Bungo Stray Dogs: Dead Apple</td>\n",
       "      <td>action|animation</td>\n",
       "      <td>2018</td>\n",
       "    </tr>\n",
       "    <tr>\n",
       "      <th>9741</th>\n",
       "      <td>193609</td>\n",
       "      <td>Andrew Dice Clay: Dice Rules</td>\n",
       "      <td>comedy</td>\n",
       "      <td>1991</td>\n",
       "    </tr>\n",
       "  </tbody>\n",
       "</table>\n",
       "<p>9742 rows × 4 columns</p>\n",
       "</div>"
      ],
      "text/plain": [
       "      movieId                               title  \\\n",
       "0           1                           Toy Story   \n",
       "1           2                             Jumanji   \n",
       "2           3                    Grumpier Old Men   \n",
       "3           4                   Waiting to Exhale   \n",
       "4           5         Father of the Bride Part II   \n",
       "...       ...                                 ...   \n",
       "9737   193581  Black Butler: Book of the Atlantic   \n",
       "9738   193583               No Game No Life: Zero   \n",
       "9739   193585                               Flint   \n",
       "9740   193587        Bungo Stray Dogs: Dead Apple   \n",
       "9741   193609        Andrew Dice Clay: Dice Rules   \n",
       "\n",
       "                                           genres  Year  \n",
       "0     adventure|animation|children|comedy|fantasy  1995  \n",
       "1                      adventure|children|fantasy  1995  \n",
       "2                                  comedy|romance  1995  \n",
       "3                            comedy|drama|romance  1995  \n",
       "4                                          comedy  1995  \n",
       "...                                           ...   ...  \n",
       "9737              action|animation|comedy|fantasy  2017  \n",
       "9738                     animation|comedy|fantasy  2017  \n",
       "9739                                        drama  2017  \n",
       "9740                             action|animation  2018  \n",
       "9741                                       comedy  1991  \n",
       "\n",
       "[9742 rows x 4 columns]"
      ]
     },
     "execution_count": 8,
     "metadata": {},
     "output_type": "execute_result"
    }
   ],
   "source": [
    "# apply lower case to the genres\n",
    "movie[\"genres\"] = movie[\"genres\"].apply(lambda x:x.lower())\n",
    "movie"
   ]
  },
  {
   "cell_type": "code",
   "execution_count": 9,
   "id": "0dd4b4c7",
   "metadata": {
    "execution": {
     "iopub.execute_input": "2022-11-03T16:54:06.901344Z",
     "iopub.status.busy": "2022-11-03T16:54:06.900693Z",
     "iopub.status.idle": "2022-11-03T16:54:06.921471Z",
     "shell.execute_reply": "2022-11-03T16:54:06.920525Z"
    },
    "papermill": {
     "duration": 0.036208,
     "end_time": "2022-11-03T16:54:06.923612",
     "exception": false,
     "start_time": "2022-11-03T16:54:06.887404",
     "status": "completed"
    },
    "tags": []
   },
   "outputs": [
    {
     "data": {
      "text/html": [
       "<div>\n",
       "<style scoped>\n",
       "    .dataframe tbody tr th:only-of-type {\n",
       "        vertical-align: middle;\n",
       "    }\n",
       "\n",
       "    .dataframe tbody tr th {\n",
       "        vertical-align: top;\n",
       "    }\n",
       "\n",
       "    .dataframe thead th {\n",
       "        text-align: right;\n",
       "    }\n",
       "</style>\n",
       "<table border=\"1\" class=\"dataframe\">\n",
       "  <thead>\n",
       "    <tr style=\"text-align: right;\">\n",
       "      <th></th>\n",
       "      <th>userId</th>\n",
       "      <th>movieId</th>\n",
       "      <th>tag</th>\n",
       "      <th>timestamp</th>\n",
       "    </tr>\n",
       "  </thead>\n",
       "  <tbody>\n",
       "    <tr>\n",
       "      <th>0</th>\n",
       "      <td>2</td>\n",
       "      <td>60756</td>\n",
       "      <td>funny</td>\n",
       "      <td>1445714994</td>\n",
       "    </tr>\n",
       "    <tr>\n",
       "      <th>1</th>\n",
       "      <td>2</td>\n",
       "      <td>60756</td>\n",
       "      <td>Highly quotable</td>\n",
       "      <td>1445714996</td>\n",
       "    </tr>\n",
       "    <tr>\n",
       "      <th>2</th>\n",
       "      <td>2</td>\n",
       "      <td>60756</td>\n",
       "      <td>will ferrell</td>\n",
       "      <td>1445714992</td>\n",
       "    </tr>\n",
       "  </tbody>\n",
       "</table>\n",
       "</div>"
      ],
      "text/plain": [
       "   userId  movieId              tag   timestamp\n",
       "0       2    60756            funny  1445714994\n",
       "1       2    60756  Highly quotable  1445714996\n",
       "2       2    60756     will ferrell  1445714992"
      ]
     },
     "execution_count": 9,
     "metadata": {},
     "output_type": "execute_result"
    }
   ],
   "source": [
    "# import tags file\n",
    "tag = pd.read_csv(r'C:\\Users\\DELL\\Downloads\\movies lens\\tags.csv')\n",
    "tag.head(3)\n"
   ]
  },
  {
   "cell_type": "code",
   "execution_count": 10,
   "id": "e8577da5",
   "metadata": {
    "execution": {
     "iopub.execute_input": "2022-11-03T16:54:06.949372Z",
     "iopub.status.busy": "2022-11-03T16:54:06.948940Z",
     "iopub.status.idle": "2022-11-03T16:54:06.979102Z",
     "shell.execute_reply": "2022-11-03T16:54:06.978021Z"
    },
    "papermill": {
     "duration": 0.045874,
     "end_time": "2022-11-03T16:54:06.981454",
     "exception": false,
     "start_time": "2022-11-03T16:54:06.935580",
     "status": "completed"
    },
    "tags": []
   },
   "outputs": [
    {
     "data": {
      "text/html": [
       "<div>\n",
       "<style scoped>\n",
       "    .dataframe tbody tr th:only-of-type {\n",
       "        vertical-align: middle;\n",
       "    }\n",
       "\n",
       "    .dataframe tbody tr th {\n",
       "        vertical-align: top;\n",
       "    }\n",
       "\n",
       "    .dataframe thead th {\n",
       "        text-align: right;\n",
       "    }\n",
       "</style>\n",
       "<table border=\"1\" class=\"dataframe\">\n",
       "  <thead>\n",
       "    <tr style=\"text-align: right;\">\n",
       "      <th></th>\n",
       "      <th>movieId</th>\n",
       "      <th>title</th>\n",
       "      <th>genres</th>\n",
       "      <th>Year</th>\n",
       "      <th>userId</th>\n",
       "      <th>tag</th>\n",
       "      <th>timestamp</th>\n",
       "    </tr>\n",
       "  </thead>\n",
       "  <tbody>\n",
       "    <tr>\n",
       "      <th>0</th>\n",
       "      <td>1</td>\n",
       "      <td>Toy Story</td>\n",
       "      <td>adventure|animation|children|comedy|fantasy</td>\n",
       "      <td>1995</td>\n",
       "      <td>336.0</td>\n",
       "      <td>pixar</td>\n",
       "      <td>1.139046e+09</td>\n",
       "    </tr>\n",
       "    <tr>\n",
       "      <th>1</th>\n",
       "      <td>1</td>\n",
       "      <td>Toy Story</td>\n",
       "      <td>adventure|animation|children|comedy|fantasy</td>\n",
       "      <td>1995</td>\n",
       "      <td>474.0</td>\n",
       "      <td>pixar</td>\n",
       "      <td>1.137207e+09</td>\n",
       "    </tr>\n",
       "    <tr>\n",
       "      <th>2</th>\n",
       "      <td>1</td>\n",
       "      <td>Toy Story</td>\n",
       "      <td>adventure|animation|children|comedy|fantasy</td>\n",
       "      <td>1995</td>\n",
       "      <td>567.0</td>\n",
       "      <td>fun</td>\n",
       "      <td>1.525286e+09</td>\n",
       "    </tr>\n",
       "  </tbody>\n",
       "</table>\n",
       "</div>"
      ],
      "text/plain": [
       "   movieId      title                                       genres  Year  \\\n",
       "0        1  Toy Story  adventure|animation|children|comedy|fantasy  1995   \n",
       "1        1  Toy Story  adventure|animation|children|comedy|fantasy  1995   \n",
       "2        1  Toy Story  adventure|animation|children|comedy|fantasy  1995   \n",
       "\n",
       "   userId    tag     timestamp  \n",
       "0   336.0  pixar  1.139046e+09  \n",
       "1   474.0  pixar  1.137207e+09  \n",
       "2   567.0    fun  1.525286e+09  "
      ]
     },
     "execution_count": 10,
     "metadata": {},
     "output_type": "execute_result"
    }
   ],
   "source": [
    "# merge  movie and tag file \n",
    "df = pd.merge(movie,tag,on=\"movieId\",how=\"left\")\n",
    "df.head(3)"
   ]
  },
  {
   "cell_type": "code",
   "execution_count": 11,
   "id": "79473ea2",
   "metadata": {
    "execution": {
     "iopub.execute_input": "2022-11-03T16:54:07.006955Z",
     "iopub.status.busy": "2022-11-03T16:54:07.006501Z",
     "iopub.status.idle": "2022-11-03T16:54:07.195499Z",
     "shell.execute_reply": "2022-11-03T16:54:07.193512Z"
    },
    "papermill": {
     "duration": 0.20531,
     "end_time": "2022-11-03T16:54:07.198647",
     "exception": false,
     "start_time": "2022-11-03T16:54:06.993337",
     "status": "completed"
    },
    "tags": []
   },
   "outputs": [
    {
     "data": {
      "text/html": [
       "<div>\n",
       "<style scoped>\n",
       "    .dataframe tbody tr th:only-of-type {\n",
       "        vertical-align: middle;\n",
       "    }\n",
       "\n",
       "    .dataframe tbody tr th {\n",
       "        vertical-align: top;\n",
       "    }\n",
       "\n",
       "    .dataframe thead th {\n",
       "        text-align: right;\n",
       "    }\n",
       "</style>\n",
       "<table border=\"1\" class=\"dataframe\">\n",
       "  <thead>\n",
       "    <tr style=\"text-align: right;\">\n",
       "      <th></th>\n",
       "      <th>tag</th>\n",
       "    </tr>\n",
       "    <tr>\n",
       "      <th>movieId</th>\n",
       "      <th></th>\n",
       "    </tr>\n",
       "  </thead>\n",
       "  <tbody>\n",
       "    <tr>\n",
       "      <th>1</th>\n",
       "      <td>pixar pixar fun</td>\n",
       "    </tr>\n",
       "    <tr>\n",
       "      <th>2</th>\n",
       "      <td>fantasy magic board game Robin Williams game</td>\n",
       "    </tr>\n",
       "    <tr>\n",
       "      <th>3</th>\n",
       "      <td>moldy old</td>\n",
       "    </tr>\n",
       "    <tr>\n",
       "      <th>4</th>\n",
       "      <td></td>\n",
       "    </tr>\n",
       "    <tr>\n",
       "      <th>5</th>\n",
       "      <td>pregnancy remake</td>\n",
       "    </tr>\n",
       "    <tr>\n",
       "      <th>...</th>\n",
       "      <td>...</td>\n",
       "    </tr>\n",
       "    <tr>\n",
       "      <th>193581</th>\n",
       "      <td></td>\n",
       "    </tr>\n",
       "    <tr>\n",
       "      <th>193583</th>\n",
       "      <td></td>\n",
       "    </tr>\n",
       "    <tr>\n",
       "      <th>193585</th>\n",
       "      <td></td>\n",
       "    </tr>\n",
       "    <tr>\n",
       "      <th>193587</th>\n",
       "      <td></td>\n",
       "    </tr>\n",
       "    <tr>\n",
       "      <th>193609</th>\n",
       "      <td></td>\n",
       "    </tr>\n",
       "  </tbody>\n",
       "</table>\n",
       "<p>9742 rows × 1 columns</p>\n",
       "</div>"
      ],
      "text/plain": [
       "                                                  tag\n",
       "movieId                                              \n",
       "1                                     pixar pixar fun\n",
       "2        fantasy magic board game Robin Williams game\n",
       "3                                           moldy old\n",
       "4                                                    \n",
       "5                                    pregnancy remake\n",
       "...                                               ...\n",
       "193581                                               \n",
       "193583                                               \n",
       "193585                                               \n",
       "193587                                               \n",
       "193609                                               \n",
       "\n",
       "[9742 rows x 1 columns]"
      ]
     },
     "execution_count": 11,
     "metadata": {},
     "output_type": "execute_result"
    }
   ],
   "source": [
    "# create metadata by adding genres and tag\n",
    "df.fillna(\"\", inplace =True)\n",
    "df = pd.DataFrame(df.groupby(\"movieId\")[\"tag\"].apply(lambda x: \"%s\" % \" \".join(x)))\n",
    "df\n"
   ]
  },
  {
   "cell_type": "code",
   "execution_count": 12,
   "id": "6c621dae",
   "metadata": {
    "execution": {
     "iopub.execute_input": "2022-11-03T16:54:07.226049Z",
     "iopub.status.busy": "2022-11-03T16:54:07.224982Z",
     "iopub.status.idle": "2022-11-03T16:54:07.335846Z",
     "shell.execute_reply": "2022-11-03T16:54:07.335011Z"
    },
    "papermill": {
     "duration": 0.126961,
     "end_time": "2022-11-03T16:54:07.338084",
     "exception": false,
     "start_time": "2022-11-03T16:54:07.211123",
     "status": "completed"
    },
    "tags": []
   },
   "outputs": [
    {
     "data": {
      "text/plain": [
       "0       pixar pixar fun adventure|animation|children|c...\n",
       "1       fantasy magic board game Robin Williams game a...\n",
       "2                                moldy old comedy|romance\n",
       "3                                    comedy|drama|romance\n",
       "4                                 pregnancy remake comedy\n",
       "                              ...                        \n",
       "9737                      action|animation|comedy|fantasy\n",
       "9738                             animation|comedy|fantasy\n",
       "9739                                                drama\n",
       "9740                                     action|animation\n",
       "9741                                               comedy\n",
       "Name: metadata, Length: 9742, dtype: object"
      ]
     },
     "execution_count": 12,
     "metadata": {},
     "output_type": "execute_result"
    }
   ],
   "source": [
    "#merge movie and df dataset\n",
    "new_df = pd.merge(movie,df ,on = \"movieId\" ,how=\"left\")\n",
    "new_df[\"metadata\"] = new_df[[\"tag\",\"genres\"]].apply(lambda x: \" \".join(x),axis=1)\n",
    "new_df[\"metadata\"]"
   ]
  },
  {
   "cell_type": "code",
   "execution_count": 13,
   "id": "ca2713ed",
   "metadata": {
    "execution": {
     "iopub.execute_input": "2022-11-03T16:54:07.365220Z",
     "iopub.status.busy": "2022-11-03T16:54:07.364084Z",
     "iopub.status.idle": "2022-11-03T16:54:07.381394Z",
     "shell.execute_reply": "2022-11-03T16:54:07.380140Z"
    },
    "papermill": {
     "duration": 0.033703,
     "end_time": "2022-11-03T16:54:07.384169",
     "exception": false,
     "start_time": "2022-11-03T16:54:07.350466",
     "status": "completed"
    },
    "tags": []
   },
   "outputs": [
    {
     "data": {
      "text/html": [
       "<div>\n",
       "<style scoped>\n",
       "    .dataframe tbody tr th:only-of-type {\n",
       "        vertical-align: middle;\n",
       "    }\n",
       "\n",
       "    .dataframe tbody tr th {\n",
       "        vertical-align: top;\n",
       "    }\n",
       "\n",
       "    .dataframe thead th {\n",
       "        text-align: right;\n",
       "    }\n",
       "</style>\n",
       "<table border=\"1\" class=\"dataframe\">\n",
       "  <thead>\n",
       "    <tr style=\"text-align: right;\">\n",
       "      <th></th>\n",
       "      <th>movieId</th>\n",
       "      <th>title</th>\n",
       "      <th>metadata</th>\n",
       "      <th>Year</th>\n",
       "    </tr>\n",
       "  </thead>\n",
       "  <tbody>\n",
       "    <tr>\n",
       "      <th>0</th>\n",
       "      <td>1</td>\n",
       "      <td>Toy Story</td>\n",
       "      <td>pixar pixar fun adventure|animation|children|c...</td>\n",
       "      <td>1995</td>\n",
       "    </tr>\n",
       "    <tr>\n",
       "      <th>1</th>\n",
       "      <td>2</td>\n",
       "      <td>Jumanji</td>\n",
       "      <td>fantasy magic board game Robin Williams game a...</td>\n",
       "      <td>1995</td>\n",
       "    </tr>\n",
       "    <tr>\n",
       "      <th>2</th>\n",
       "      <td>3</td>\n",
       "      <td>Grumpier Old Men</td>\n",
       "      <td>moldy old comedy|romance</td>\n",
       "      <td>1995</td>\n",
       "    </tr>\n",
       "    <tr>\n",
       "      <th>3</th>\n",
       "      <td>4</td>\n",
       "      <td>Waiting to Exhale</td>\n",
       "      <td>comedy|drama|romance</td>\n",
       "      <td>1995</td>\n",
       "    </tr>\n",
       "    <tr>\n",
       "      <th>4</th>\n",
       "      <td>5</td>\n",
       "      <td>Father of the Bride Part II</td>\n",
       "      <td>pregnancy remake comedy</td>\n",
       "      <td>1995</td>\n",
       "    </tr>\n",
       "    <tr>\n",
       "      <th>...</th>\n",
       "      <td>...</td>\n",
       "      <td>...</td>\n",
       "      <td>...</td>\n",
       "      <td>...</td>\n",
       "    </tr>\n",
       "    <tr>\n",
       "      <th>9737</th>\n",
       "      <td>193581</td>\n",
       "      <td>Black Butler: Book of the Atlantic</td>\n",
       "      <td>action|animation|comedy|fantasy</td>\n",
       "      <td>2017</td>\n",
       "    </tr>\n",
       "    <tr>\n",
       "      <th>9738</th>\n",
       "      <td>193583</td>\n",
       "      <td>No Game No Life: Zero</td>\n",
       "      <td>animation|comedy|fantasy</td>\n",
       "      <td>2017</td>\n",
       "    </tr>\n",
       "    <tr>\n",
       "      <th>9739</th>\n",
       "      <td>193585</td>\n",
       "      <td>Flint</td>\n",
       "      <td>drama</td>\n",
       "      <td>2017</td>\n",
       "    </tr>\n",
       "    <tr>\n",
       "      <th>9740</th>\n",
       "      <td>193587</td>\n",
       "      <td>Bungo Stray Dogs: Dead Apple</td>\n",
       "      <td>action|animation</td>\n",
       "      <td>2018</td>\n",
       "    </tr>\n",
       "    <tr>\n",
       "      <th>9741</th>\n",
       "      <td>193609</td>\n",
       "      <td>Andrew Dice Clay: Dice Rules</td>\n",
       "      <td>comedy</td>\n",
       "      <td>1991</td>\n",
       "    </tr>\n",
       "  </tbody>\n",
       "</table>\n",
       "<p>9742 rows × 4 columns</p>\n",
       "</div>"
      ],
      "text/plain": [
       "      movieId                               title  \\\n",
       "0           1                           Toy Story   \n",
       "1           2                             Jumanji   \n",
       "2           3                    Grumpier Old Men   \n",
       "3           4                   Waiting to Exhale   \n",
       "4           5         Father of the Bride Part II   \n",
       "...       ...                                 ...   \n",
       "9737   193581  Black Butler: Book of the Atlantic   \n",
       "9738   193583               No Game No Life: Zero   \n",
       "9739   193585                               Flint   \n",
       "9740   193587        Bungo Stray Dogs: Dead Apple   \n",
       "9741   193609        Andrew Dice Clay: Dice Rules   \n",
       "\n",
       "                                               metadata  Year  \n",
       "0     pixar pixar fun adventure|animation|children|c...  1995  \n",
       "1     fantasy magic board game Robin Williams game a...  1995  \n",
       "2                              moldy old comedy|romance  1995  \n",
       "3                                  comedy|drama|romance  1995  \n",
       "4                               pregnancy remake comedy  1995  \n",
       "...                                                 ...   ...  \n",
       "9737                    action|animation|comedy|fantasy  2017  \n",
       "9738                           animation|comedy|fantasy  2017  \n",
       "9739                                              drama  2017  \n",
       "9740                                   action|animation  2018  \n",
       "9741                                             comedy  1991  \n",
       "\n",
       "[9742 rows x 4 columns]"
      ]
     },
     "execution_count": 13,
     "metadata": {},
     "output_type": "execute_result"
    }
   ],
   "source": [
    "# store movieId title metadata year in new_df\n",
    "new_df = new_df[[\"movieId\",\"title\",\"metadata\",\"Year\"]]\n",
    "new_df"
   ]
  },
  {
   "cell_type": "code",
   "execution_count": 14,
   "id": "381e35c0",
   "metadata": {
    "execution": {
     "iopub.execute_input": "2022-11-03T16:54:07.411827Z",
     "iopub.status.busy": "2022-11-03T16:54:07.411094Z",
     "iopub.status.idle": "2022-11-03T16:54:07.436530Z",
     "shell.execute_reply": "2022-11-03T16:54:07.435507Z"
    },
    "papermill": {
     "duration": 0.041792,
     "end_time": "2022-11-03T16:54:07.438814",
     "exception": false,
     "start_time": "2022-11-03T16:54:07.397022",
     "status": "completed"
    },
    "tags": []
   },
   "outputs": [
    {
     "data": {
      "text/html": [
       "<div>\n",
       "<style scoped>\n",
       "    .dataframe tbody tr th:only-of-type {\n",
       "        vertical-align: middle;\n",
       "    }\n",
       "\n",
       "    .dataframe tbody tr th {\n",
       "        vertical-align: top;\n",
       "    }\n",
       "\n",
       "    .dataframe thead th {\n",
       "        text-align: right;\n",
       "    }\n",
       "</style>\n",
       "<table border=\"1\" class=\"dataframe\">\n",
       "  <thead>\n",
       "    <tr style=\"text-align: right;\">\n",
       "      <th></th>\n",
       "      <th>movieId</th>\n",
       "      <th>title</th>\n",
       "      <th>metadata</th>\n",
       "      <th>Year</th>\n",
       "    </tr>\n",
       "  </thead>\n",
       "  <tbody>\n",
       "    <tr>\n",
       "      <th>0</th>\n",
       "      <td>1</td>\n",
       "      <td>Toy Story</td>\n",
       "      <td>[pixar pixar fun adventure, animation, childre...</td>\n",
       "      <td>1995</td>\n",
       "    </tr>\n",
       "    <tr>\n",
       "      <th>1</th>\n",
       "      <td>2</td>\n",
       "      <td>Jumanji</td>\n",
       "      <td>[fantasy magic board game Robin Williams game ...</td>\n",
       "      <td>1995</td>\n",
       "    </tr>\n",
       "    <tr>\n",
       "      <th>2</th>\n",
       "      <td>3</td>\n",
       "      <td>Grumpier Old Men</td>\n",
       "      <td>[moldy old comedy, romance]</td>\n",
       "      <td>1995</td>\n",
       "    </tr>\n",
       "    <tr>\n",
       "      <th>3</th>\n",
       "      <td>4</td>\n",
       "      <td>Waiting to Exhale</td>\n",
       "      <td>[ comedy, drama, romance]</td>\n",
       "      <td>1995</td>\n",
       "    </tr>\n",
       "    <tr>\n",
       "      <th>4</th>\n",
       "      <td>5</td>\n",
       "      <td>Father of the Bride Part II</td>\n",
       "      <td>[pregnancy remake comedy]</td>\n",
       "      <td>1995</td>\n",
       "    </tr>\n",
       "    <tr>\n",
       "      <th>...</th>\n",
       "      <td>...</td>\n",
       "      <td>...</td>\n",
       "      <td>...</td>\n",
       "      <td>...</td>\n",
       "    </tr>\n",
       "    <tr>\n",
       "      <th>9737</th>\n",
       "      <td>193581</td>\n",
       "      <td>Black Butler: Book of the Atlantic</td>\n",
       "      <td>[ action, animation, comedy, fantasy]</td>\n",
       "      <td>2017</td>\n",
       "    </tr>\n",
       "    <tr>\n",
       "      <th>9738</th>\n",
       "      <td>193583</td>\n",
       "      <td>No Game No Life: Zero</td>\n",
       "      <td>[ animation, comedy, fantasy]</td>\n",
       "      <td>2017</td>\n",
       "    </tr>\n",
       "    <tr>\n",
       "      <th>9739</th>\n",
       "      <td>193585</td>\n",
       "      <td>Flint</td>\n",
       "      <td>[ drama]</td>\n",
       "      <td>2017</td>\n",
       "    </tr>\n",
       "    <tr>\n",
       "      <th>9740</th>\n",
       "      <td>193587</td>\n",
       "      <td>Bungo Stray Dogs: Dead Apple</td>\n",
       "      <td>[ action, animation]</td>\n",
       "      <td>2018</td>\n",
       "    </tr>\n",
       "    <tr>\n",
       "      <th>9741</th>\n",
       "      <td>193609</td>\n",
       "      <td>Andrew Dice Clay: Dice Rules</td>\n",
       "      <td>[ comedy]</td>\n",
       "      <td>1991</td>\n",
       "    </tr>\n",
       "  </tbody>\n",
       "</table>\n",
       "<p>9742 rows × 4 columns</p>\n",
       "</div>"
      ],
      "text/plain": [
       "      movieId                               title  \\\n",
       "0           1                           Toy Story   \n",
       "1           2                             Jumanji   \n",
       "2           3                    Grumpier Old Men   \n",
       "3           4                   Waiting to Exhale   \n",
       "4           5         Father of the Bride Part II   \n",
       "...       ...                                 ...   \n",
       "9737   193581  Black Butler: Book of the Atlantic   \n",
       "9738   193583               No Game No Life: Zero   \n",
       "9739   193585                               Flint   \n",
       "9740   193587        Bungo Stray Dogs: Dead Apple   \n",
       "9741   193609        Andrew Dice Clay: Dice Rules   \n",
       "\n",
       "                                               metadata  Year  \n",
       "0     [pixar pixar fun adventure, animation, childre...  1995  \n",
       "1     [fantasy magic board game Robin Williams game ...  1995  \n",
       "2                           [moldy old comedy, romance]  1995  \n",
       "3                             [ comedy, drama, romance]  1995  \n",
       "4                             [pregnancy remake comedy]  1995  \n",
       "...                                                 ...   ...  \n",
       "9737              [ action, animation, comedy, fantasy]  2017  \n",
       "9738                      [ animation, comedy, fantasy]  2017  \n",
       "9739                                           [ drama]  2017  \n",
       "9740                               [ action, animation]  2018  \n",
       "9741                                          [ comedy]  1991  \n",
       "\n",
       "[9742 rows x 4 columns]"
      ]
     },
     "execution_count": 14,
     "metadata": {},
     "output_type": "execute_result"
    }
   ],
   "source": [
    "# split |  from metadata \n",
    "new_df[\"metadata\"]=new_df.metadata.str.split(\"|\")\n",
    "new_df"
   ]
  },
  {
   "cell_type": "code",
   "execution_count": 15,
   "id": "2efb3090",
   "metadata": {
    "execution": {
     "iopub.execute_input": "2022-11-03T16:54:07.466695Z",
     "iopub.status.busy": "2022-11-03T16:54:07.466290Z",
     "iopub.status.idle": "2022-11-03T16:54:07.472040Z",
     "shell.execute_reply": "2022-11-03T16:54:07.471221Z"
    },
    "papermill": {
     "duration": 0.022396,
     "end_time": "2022-11-03T16:54:07.474424",
     "exception": false,
     "start_time": "2022-11-03T16:54:07.452028",
     "status": "completed"
    },
    "tags": []
   },
   "outputs": [
    {
     "data": {
      "text/plain": [
       "(9742, 4)"
      ]
     },
     "execution_count": 15,
     "metadata": {},
     "output_type": "execute_result"
    }
   ],
   "source": [
    "# find shape of final dataset\n",
    "new_df.shape"
   ]
  },
  {
   "cell_type": "code",
   "execution_count": 16,
   "id": "ca0d18af",
   "metadata": {
    "execution": {
     "iopub.execute_input": "2022-11-03T16:54:07.504047Z",
     "iopub.status.busy": "2022-11-03T16:54:07.503419Z",
     "iopub.status.idle": "2022-11-03T16:54:07.645120Z",
     "shell.execute_reply": "2022-11-03T16:54:07.643932Z"
    },
    "papermill": {
     "duration": 0.15967,
     "end_time": "2022-11-03T16:54:07.647551",
     "exception": false,
     "start_time": "2022-11-03T16:54:07.487881",
     "status": "completed"
    },
    "tags": []
   },
   "outputs": [
    {
     "data": {
      "text/html": [
       "<div>\n",
       "<style scoped>\n",
       "    .dataframe tbody tr th:only-of-type {\n",
       "        vertical-align: middle;\n",
       "    }\n",
       "\n",
       "    .dataframe tbody tr th {\n",
       "        vertical-align: top;\n",
       "    }\n",
       "\n",
       "    .dataframe thead th {\n",
       "        text-align: right;\n",
       "    }\n",
       "</style>\n",
       "<table border=\"1\" class=\"dataframe\">\n",
       "  <thead>\n",
       "    <tr style=\"text-align: right;\">\n",
       "      <th></th>\n",
       "      <th>movieId</th>\n",
       "      <th>title</th>\n",
       "      <th>metadata</th>\n",
       "      <th>Year</th>\n",
       "    </tr>\n",
       "  </thead>\n",
       "  <tbody>\n",
       "    <tr>\n",
       "      <th>0</th>\n",
       "      <td>1</td>\n",
       "      <td>Toy Story</td>\n",
       "      <td>[pixarpixarfunadventure, animation, children, ...</td>\n",
       "      <td>1995</td>\n",
       "    </tr>\n",
       "    <tr>\n",
       "      <th>1</th>\n",
       "      <td>2</td>\n",
       "      <td>Jumanji</td>\n",
       "      <td>[fantasymagicboardgameRobinWilliamsgameadventu...</td>\n",
       "      <td>1995</td>\n",
       "    </tr>\n",
       "    <tr>\n",
       "      <th>2</th>\n",
       "      <td>3</td>\n",
       "      <td>Grumpier Old Men</td>\n",
       "      <td>[moldyoldcomedy, romance]</td>\n",
       "      <td>1995</td>\n",
       "    </tr>\n",
       "    <tr>\n",
       "      <th>3</th>\n",
       "      <td>4</td>\n",
       "      <td>Waiting to Exhale</td>\n",
       "      <td>[comedy, drama, romance]</td>\n",
       "      <td>1995</td>\n",
       "    </tr>\n",
       "    <tr>\n",
       "      <th>4</th>\n",
       "      <td>5</td>\n",
       "      <td>Father of the Bride Part II</td>\n",
       "      <td>[pregnancyremakecomedy]</td>\n",
       "      <td>1995</td>\n",
       "    </tr>\n",
       "    <tr>\n",
       "      <th>...</th>\n",
       "      <td>...</td>\n",
       "      <td>...</td>\n",
       "      <td>...</td>\n",
       "      <td>...</td>\n",
       "    </tr>\n",
       "    <tr>\n",
       "      <th>9737</th>\n",
       "      <td>193581</td>\n",
       "      <td>Black Butler: Book of the Atlantic</td>\n",
       "      <td>[action, animation, comedy, fantasy]</td>\n",
       "      <td>2017</td>\n",
       "    </tr>\n",
       "    <tr>\n",
       "      <th>9738</th>\n",
       "      <td>193583</td>\n",
       "      <td>No Game No Life: Zero</td>\n",
       "      <td>[animation, comedy, fantasy]</td>\n",
       "      <td>2017</td>\n",
       "    </tr>\n",
       "    <tr>\n",
       "      <th>9739</th>\n",
       "      <td>193585</td>\n",
       "      <td>Flint</td>\n",
       "      <td>[drama]</td>\n",
       "      <td>2017</td>\n",
       "    </tr>\n",
       "    <tr>\n",
       "      <th>9740</th>\n",
       "      <td>193587</td>\n",
       "      <td>Bungo Stray Dogs: Dead Apple</td>\n",
       "      <td>[action, animation]</td>\n",
       "      <td>2018</td>\n",
       "    </tr>\n",
       "    <tr>\n",
       "      <th>9741</th>\n",
       "      <td>193609</td>\n",
       "      <td>Andrew Dice Clay: Dice Rules</td>\n",
       "      <td>[comedy]</td>\n",
       "      <td>1991</td>\n",
       "    </tr>\n",
       "  </tbody>\n",
       "</table>\n",
       "<p>9742 rows × 4 columns</p>\n",
       "</div>"
      ],
      "text/plain": [
       "      movieId                               title  \\\n",
       "0           1                           Toy Story   \n",
       "1           2                             Jumanji   \n",
       "2           3                    Grumpier Old Men   \n",
       "3           4                   Waiting to Exhale   \n",
       "4           5         Father of the Bride Part II   \n",
       "...       ...                                 ...   \n",
       "9737   193581  Black Butler: Book of the Atlantic   \n",
       "9738   193583               No Game No Life: Zero   \n",
       "9739   193585                               Flint   \n",
       "9740   193587        Bungo Stray Dogs: Dead Apple   \n",
       "9741   193609        Andrew Dice Clay: Dice Rules   \n",
       "\n",
       "                                               metadata  Year  \n",
       "0     [pixarpixarfunadventure, animation, children, ...  1995  \n",
       "1     [fantasymagicboardgameRobinWilliamsgameadventu...  1995  \n",
       "2                             [moldyoldcomedy, romance]  1995  \n",
       "3                              [comedy, drama, romance]  1995  \n",
       "4                               [pregnancyremakecomedy]  1995  \n",
       "...                                                 ...   ...  \n",
       "9737               [action, animation, comedy, fantasy]  2017  \n",
       "9738                       [animation, comedy, fantasy]  2017  \n",
       "9739                                            [drama]  2017  \n",
       "9740                                [action, animation]  2018  \n",
       "9741                                           [comedy]  1991  \n",
       "\n",
       "[9742 rows x 4 columns]"
      ]
     },
     "execution_count": 16,
     "metadata": {},
     "output_type": "execute_result"
    }
   ],
   "source": [
    "# Remove all extra spaces from metadata column\n",
    "new_df['metadata']=new_df['metadata'].apply(lambda x:[i.replace(\" \",\"\") for i in x])\n",
    "new_df"
   ]
  },
  {
   "cell_type": "code",
   "execution_count": 17,
   "id": "328c12e7",
   "metadata": {
    "execution": {
     "iopub.execute_input": "2022-11-03T16:54:07.677539Z",
     "iopub.status.busy": "2022-11-03T16:54:07.677105Z",
     "iopub.status.idle": "2022-11-03T16:54:07.698253Z",
     "shell.execute_reply": "2022-11-03T16:54:07.697086Z"
    },
    "papermill": {
     "duration": 0.039754,
     "end_time": "2022-11-03T16:54:07.700662",
     "exception": false,
     "start_time": "2022-11-03T16:54:07.660908",
     "status": "completed"
    },
    "tags": []
   },
   "outputs": [
    {
     "data": {
      "text/html": [
       "<div>\n",
       "<style scoped>\n",
       "    .dataframe tbody tr th:only-of-type {\n",
       "        vertical-align: middle;\n",
       "    }\n",
       "\n",
       "    .dataframe tbody tr th {\n",
       "        vertical-align: top;\n",
       "    }\n",
       "\n",
       "    .dataframe thead th {\n",
       "        text-align: right;\n",
       "    }\n",
       "</style>\n",
       "<table border=\"1\" class=\"dataframe\">\n",
       "  <thead>\n",
       "    <tr style=\"text-align: right;\">\n",
       "      <th></th>\n",
       "      <th>movieId</th>\n",
       "      <th>title</th>\n",
       "      <th>metadata</th>\n",
       "      <th>Year</th>\n",
       "    </tr>\n",
       "  </thead>\n",
       "  <tbody>\n",
       "    <tr>\n",
       "      <th>0</th>\n",
       "      <td>1</td>\n",
       "      <td>Toy Story</td>\n",
       "      <td>pixarpixarfunadventure animation children come...</td>\n",
       "      <td>1995</td>\n",
       "    </tr>\n",
       "    <tr>\n",
       "      <th>1</th>\n",
       "      <td>2</td>\n",
       "      <td>Jumanji</td>\n",
       "      <td>fantasymagicboardgameRobinWilliamsgameadventur...</td>\n",
       "      <td>1995</td>\n",
       "    </tr>\n",
       "    <tr>\n",
       "      <th>2</th>\n",
       "      <td>3</td>\n",
       "      <td>Grumpier Old Men</td>\n",
       "      <td>moldyoldcomedy romance</td>\n",
       "      <td>1995</td>\n",
       "    </tr>\n",
       "    <tr>\n",
       "      <th>3</th>\n",
       "      <td>4</td>\n",
       "      <td>Waiting to Exhale</td>\n",
       "      <td>comedy drama romance</td>\n",
       "      <td>1995</td>\n",
       "    </tr>\n",
       "    <tr>\n",
       "      <th>4</th>\n",
       "      <td>5</td>\n",
       "      <td>Father of the Bride Part II</td>\n",
       "      <td>pregnancyremakecomedy</td>\n",
       "      <td>1995</td>\n",
       "    </tr>\n",
       "    <tr>\n",
       "      <th>...</th>\n",
       "      <td>...</td>\n",
       "      <td>...</td>\n",
       "      <td>...</td>\n",
       "      <td>...</td>\n",
       "    </tr>\n",
       "    <tr>\n",
       "      <th>9737</th>\n",
       "      <td>193581</td>\n",
       "      <td>Black Butler: Book of the Atlantic</td>\n",
       "      <td>action animation comedy fantasy</td>\n",
       "      <td>2017</td>\n",
       "    </tr>\n",
       "    <tr>\n",
       "      <th>9738</th>\n",
       "      <td>193583</td>\n",
       "      <td>No Game No Life: Zero</td>\n",
       "      <td>animation comedy fantasy</td>\n",
       "      <td>2017</td>\n",
       "    </tr>\n",
       "    <tr>\n",
       "      <th>9739</th>\n",
       "      <td>193585</td>\n",
       "      <td>Flint</td>\n",
       "      <td>drama</td>\n",
       "      <td>2017</td>\n",
       "    </tr>\n",
       "    <tr>\n",
       "      <th>9740</th>\n",
       "      <td>193587</td>\n",
       "      <td>Bungo Stray Dogs: Dead Apple</td>\n",
       "      <td>action animation</td>\n",
       "      <td>2018</td>\n",
       "    </tr>\n",
       "    <tr>\n",
       "      <th>9741</th>\n",
       "      <td>193609</td>\n",
       "      <td>Andrew Dice Clay: Dice Rules</td>\n",
       "      <td>comedy</td>\n",
       "      <td>1991</td>\n",
       "    </tr>\n",
       "  </tbody>\n",
       "</table>\n",
       "<p>9742 rows × 4 columns</p>\n",
       "</div>"
      ],
      "text/plain": [
       "      movieId                               title  \\\n",
       "0           1                           Toy Story   \n",
       "1           2                             Jumanji   \n",
       "2           3                    Grumpier Old Men   \n",
       "3           4                   Waiting to Exhale   \n",
       "4           5         Father of the Bride Part II   \n",
       "...       ...                                 ...   \n",
       "9737   193581  Black Butler: Book of the Atlantic   \n",
       "9738   193583               No Game No Life: Zero   \n",
       "9739   193585                               Flint   \n",
       "9740   193587        Bungo Stray Dogs: Dead Apple   \n",
       "9741   193609        Andrew Dice Clay: Dice Rules   \n",
       "\n",
       "                                               metadata  Year  \n",
       "0     pixarpixarfunadventure animation children come...  1995  \n",
       "1     fantasymagicboardgameRobinWilliamsgameadventur...  1995  \n",
       "2                                moldyoldcomedy romance  1995  \n",
       "3                                  comedy drama romance  1995  \n",
       "4                                 pregnancyremakecomedy  1995  \n",
       "...                                                 ...   ...  \n",
       "9737                    action animation comedy fantasy  2017  \n",
       "9738                           animation comedy fantasy  2017  \n",
       "9739                                              drama  2017  \n",
       "9740                                   action animation  2018  \n",
       "9741                                             comedy  1991  \n",
       "\n",
       "[9742 rows x 4 columns]"
      ]
     },
     "execution_count": 17,
     "metadata": {},
     "output_type": "execute_result"
    }
   ],
   "source": [
    "# join metadata spaces\n",
    "new_df['metadata']=new_df['metadata'].apply(lambda x:\" \".join(x))\n",
    "new_df"
   ]
  },
  {
   "cell_type": "code",
   "execution_count": 18,
   "id": "be0e9d02",
   "metadata": {
    "execution": {
     "iopub.execute_input": "2022-11-03T16:54:07.730494Z",
     "iopub.status.busy": "2022-11-03T16:54:07.729320Z",
     "iopub.status.idle": "2022-11-03T16:54:07.743213Z",
     "shell.execute_reply": "2022-11-03T16:54:07.742371Z"
    },
    "papermill": {
     "duration": 0.030834,
     "end_time": "2022-11-03T16:54:07.745315",
     "exception": false,
     "start_time": "2022-11-03T16:54:07.714481",
     "status": "completed"
    },
    "tags": []
   },
   "outputs": [
    {
     "data": {
      "text/html": [
       "<div>\n",
       "<style scoped>\n",
       "    .dataframe tbody tr th:only-of-type {\n",
       "        vertical-align: middle;\n",
       "    }\n",
       "\n",
       "    .dataframe tbody tr th {\n",
       "        vertical-align: top;\n",
       "    }\n",
       "\n",
       "    .dataframe thead th {\n",
       "        text-align: right;\n",
       "    }\n",
       "</style>\n",
       "<table border=\"1\" class=\"dataframe\">\n",
       "  <thead>\n",
       "    <tr style=\"text-align: right;\">\n",
       "      <th></th>\n",
       "      <th>movieId</th>\n",
       "      <th>title</th>\n",
       "      <th>metadata</th>\n",
       "      <th>Year</th>\n",
       "    </tr>\n",
       "  </thead>\n",
       "  <tbody>\n",
       "    <tr>\n",
       "      <th>0</th>\n",
       "      <td>1</td>\n",
       "      <td>Toy Story</td>\n",
       "      <td>pixarpixarfunadventure animation children come...</td>\n",
       "      <td>1995</td>\n",
       "    </tr>\n",
       "    <tr>\n",
       "      <th>1</th>\n",
       "      <td>2</td>\n",
       "      <td>Jumanji</td>\n",
       "      <td>fantasymagicboardgameRobinWilliamsgameadventur...</td>\n",
       "      <td>1995</td>\n",
       "    </tr>\n",
       "    <tr>\n",
       "      <th>2</th>\n",
       "      <td>3</td>\n",
       "      <td>Grumpier Old Men</td>\n",
       "      <td>moldyoldcomedy romance</td>\n",
       "      <td>1995</td>\n",
       "    </tr>\n",
       "    <tr>\n",
       "      <th>3</th>\n",
       "      <td>4</td>\n",
       "      <td>Waiting to Exhale</td>\n",
       "      <td>comedy drama romance</td>\n",
       "      <td>1995</td>\n",
       "    </tr>\n",
       "    <tr>\n",
       "      <th>4</th>\n",
       "      <td>5</td>\n",
       "      <td>Father of the Bride Part II</td>\n",
       "      <td>pregnancyremakecomedy</td>\n",
       "      <td>1995</td>\n",
       "    </tr>\n",
       "    <tr>\n",
       "      <th>...</th>\n",
       "      <td>...</td>\n",
       "      <td>...</td>\n",
       "      <td>...</td>\n",
       "      <td>...</td>\n",
       "    </tr>\n",
       "    <tr>\n",
       "      <th>9737</th>\n",
       "      <td>193581</td>\n",
       "      <td>Black Butler: Book of the Atlantic</td>\n",
       "      <td>action animation comedy fantasy</td>\n",
       "      <td>2017</td>\n",
       "    </tr>\n",
       "    <tr>\n",
       "      <th>9738</th>\n",
       "      <td>193583</td>\n",
       "      <td>No Game No Life: Zero</td>\n",
       "      <td>animation comedy fantasy</td>\n",
       "      <td>2017</td>\n",
       "    </tr>\n",
       "    <tr>\n",
       "      <th>9739</th>\n",
       "      <td>193585</td>\n",
       "      <td>Flint</td>\n",
       "      <td>drama</td>\n",
       "      <td>2017</td>\n",
       "    </tr>\n",
       "    <tr>\n",
       "      <th>9740</th>\n",
       "      <td>193587</td>\n",
       "      <td>Bungo Stray Dogs: Dead Apple</td>\n",
       "      <td>action animation</td>\n",
       "      <td>2018</td>\n",
       "    </tr>\n",
       "    <tr>\n",
       "      <th>9741</th>\n",
       "      <td>193609</td>\n",
       "      <td>Andrew Dice Clay: Dice Rules</td>\n",
       "      <td>comedy</td>\n",
       "      <td>1991</td>\n",
       "    </tr>\n",
       "  </tbody>\n",
       "</table>\n",
       "<p>9742 rows × 4 columns</p>\n",
       "</div>"
      ],
      "text/plain": [
       "      movieId                               title  \\\n",
       "0           1                           Toy Story   \n",
       "1           2                             Jumanji   \n",
       "2           3                    Grumpier Old Men   \n",
       "3           4                   Waiting to Exhale   \n",
       "4           5         Father of the Bride Part II   \n",
       "...       ...                                 ...   \n",
       "9737   193581  Black Butler: Book of the Atlantic   \n",
       "9738   193583               No Game No Life: Zero   \n",
       "9739   193585                               Flint   \n",
       "9740   193587        Bungo Stray Dogs: Dead Apple   \n",
       "9741   193609        Andrew Dice Clay: Dice Rules   \n",
       "\n",
       "                                               metadata  Year  \n",
       "0     pixarpixarfunadventure animation children come...  1995  \n",
       "1     fantasymagicboardgameRobinWilliamsgameadventur...  1995  \n",
       "2                                moldyoldcomedy romance  1995  \n",
       "3                                  comedy drama romance  1995  \n",
       "4                                 pregnancyremakecomedy  1995  \n",
       "...                                                 ...   ...  \n",
       "9737                    action animation comedy fantasy  2017  \n",
       "9738                           animation comedy fantasy  2017  \n",
       "9739                                              drama  2017  \n",
       "9740                                   action animation  2018  \n",
       "9741                                             comedy  1991  \n",
       "\n",
       "[9742 rows x 4 columns]"
      ]
     },
     "execution_count": 18,
     "metadata": {},
     "output_type": "execute_result"
    }
   ],
   "source": [
    "# check new_df \n",
    "new_df"
   ]
  },
  {
   "cell_type": "code",
   "execution_count": 19,
   "id": "575631b1",
   "metadata": {
    "execution": {
     "iopub.execute_input": "2022-11-03T16:54:07.775709Z",
     "iopub.status.busy": "2022-11-03T16:54:07.774676Z",
     "iopub.status.idle": "2022-11-03T16:54:07.785652Z",
     "shell.execute_reply": "2022-11-03T16:54:07.782732Z"
    },
    "papermill": {
     "duration": 0.028485,
     "end_time": "2022-11-03T16:54:07.788003",
     "exception": false,
     "start_time": "2022-11-03T16:54:07.759518",
     "status": "completed"
    },
    "tags": []
   },
   "outputs": [
    {
     "data": {
      "text/plain": [
       "Int64Index([1], dtype='int64')"
      ]
     },
     "execution_count": 19,
     "metadata": {},
     "output_type": "execute_result"
    }
   ],
   "source": [
    "# Find indexing position\n",
    "x = new_df[new_df[\"title\"]==\"Jumanji\"].index\n",
    "x"
   ]
  },
  {
   "cell_type": "code",
   "execution_count": 20,
   "id": "129adea9",
   "metadata": {
    "execution": {
     "iopub.execute_input": "2022-11-03T16:54:07.818185Z",
     "iopub.status.busy": "2022-11-03T16:54:07.817711Z",
     "iopub.status.idle": "2022-11-03T16:54:07.826425Z",
     "shell.execute_reply": "2022-11-03T16:54:07.825357Z"
    },
    "papermill": {
     "duration": 0.026378,
     "end_time": "2022-11-03T16:54:07.828700",
     "exception": false,
     "start_time": "2022-11-03T16:54:07.802322",
     "status": "completed"
    },
    "tags": []
   },
   "outputs": [
    {
     "data": {
      "text/plain": [
       "'pixarpixarfunadventure animation children comedy fantasy'"
      ]
     },
     "execution_count": 20,
     "metadata": {},
     "output_type": "execute_result"
    }
   ],
   "source": [
    "# check 0th location of new_df\n",
    "new_df['metadata'][0]"
   ]
  },
  {
   "cell_type": "code",
   "execution_count": 21,
   "id": "709f76a5",
   "metadata": {
    "execution": {
     "iopub.execute_input": "2022-11-03T16:54:07.858502Z",
     "iopub.status.busy": "2022-11-03T16:54:07.858069Z",
     "iopub.status.idle": "2022-11-03T16:54:07.866307Z",
     "shell.execute_reply": "2022-11-03T16:54:07.865235Z"
    },
    "papermill": {
     "duration": 0.025671,
     "end_time": "2022-11-03T16:54:07.868490",
     "exception": false,
     "start_time": "2022-11-03T16:54:07.842819",
     "status": "completed"
    },
    "tags": []
   },
   "outputs": [
    {
     "data": {
      "text/plain": [
       "array([[1, 'Toy Story',\n",
       "        'pixarpixarfunadventure animation children comedy fantasy',\n",
       "        '1995'],\n",
       "       [2, 'Jumanji',\n",
       "        'fantasymagicboardgameRobinWilliamsgameadventure children fantasy',\n",
       "        '1995'],\n",
       "       [3, 'Grumpier Old Men', 'moldyoldcomedy romance', '1995'],\n",
       "       ...,\n",
       "       [193585, 'Flint', 'drama', '2017'],\n",
       "       [193587, 'Bungo Stray Dogs: Dead Apple', 'action animation',\n",
       "        '2018'],\n",
       "       [193609, 'Andrew Dice Clay: Dice Rules', 'comedy', '1991']],\n",
       "      dtype=object)"
      ]
     },
     "execution_count": 21,
     "metadata": {},
     "output_type": "execute_result"
    }
   ],
   "source": [
    "# check values of new_df\n",
    "new_df.values"
   ]
  },
  {
   "cell_type": "code",
   "execution_count": 22,
   "id": "ac23df73",
   "metadata": {
    "execution": {
     "iopub.execute_input": "2022-11-03T16:54:07.898723Z",
     "iopub.status.busy": "2022-11-03T16:54:07.898304Z",
     "iopub.status.idle": "2022-11-03T16:54:07.904863Z",
     "shell.execute_reply": "2022-11-03T16:54:07.903799Z"
    },
    "papermill": {
     "duration": 0.024333,
     "end_time": "2022-11-03T16:54:07.907079",
     "exception": false,
     "start_time": "2022-11-03T16:54:07.882746",
     "status": "completed"
    },
    "tags": []
   },
   "outputs": [
    {
     "data": {
      "text/plain": [
       "pandas.core.frame.DataFrame"
      ]
     },
     "execution_count": 22,
     "metadata": {},
     "output_type": "execute_result"
    }
   ],
   "source": [
    "# check type of new_df\n",
    "type(new_df)"
   ]
  },
  {
   "cell_type": "code",
   "execution_count": 23,
   "id": "89d1e1b9",
   "metadata": {
    "execution": {
     "iopub.execute_input": "2022-11-03T16:54:07.937340Z",
     "iopub.status.busy": "2022-11-03T16:54:07.936892Z",
     "iopub.status.idle": "2022-11-03T16:54:07.943676Z",
     "shell.execute_reply": "2022-11-03T16:54:07.942515Z"
    },
    "papermill": {
     "duration": 0.024553,
     "end_time": "2022-11-03T16:54:07.945903",
     "exception": false,
     "start_time": "2022-11-03T16:54:07.921350",
     "status": "completed"
    },
    "tags": []
   },
   "outputs": [
    {
     "data": {
      "text/plain": [
       "(9742, 4)"
      ]
     },
     "execution_count": 23,
     "metadata": {},
     "output_type": "execute_result"
    }
   ],
   "source": [
    "# check shape of dataframe\n",
    "new_df.shape"
   ]
  },
  {
   "cell_type": "markdown",
   "id": "66476a80",
   "metadata": {
    "papermill": {
     "duration": 0.014432,
     "end_time": "2022-11-03T16:54:07.974785",
     "exception": false,
     "start_time": "2022-11-03T16:54:07.960353",
     "status": "completed"
    },
    "tags": []
   },
   "source": [
    "# Step 3 : Convert Dataframe into sparse matrix"
   ]
  },
  {
   "cell_type": "code",
   "execution_count": 24,
   "id": "47f22b44",
   "metadata": {
    "execution": {
     "iopub.execute_input": "2022-11-03T16:54:08.005249Z",
     "iopub.status.busy": "2022-11-03T16:54:08.004843Z",
     "iopub.status.idle": "2022-11-03T16:54:08.955859Z",
     "shell.execute_reply": "2022-11-03T16:54:08.954880Z"
    },
    "papermill": {
     "duration": 0.969355,
     "end_time": "2022-11-03T16:54:08.958492",
     "exception": false,
     "start_time": "2022-11-03T16:54:07.989137",
     "status": "completed"
    },
    "tags": []
   },
   "outputs": [],
   "source": [
    "# for create vector using TfidfVectorizer library\n",
    "from sklearn.feature_extraction.text import TfidfVectorizer \n",
    "tfid = TfidfVectorizer(stop_words='english')\n",
    "new_df['metadata'] = new_df['metadata'].fillna('')"
   ]
  },
  {
   "cell_type": "code",
   "execution_count": 25,
   "id": "06e405aa",
   "metadata": {
    "execution": {
     "iopub.execute_input": "2022-11-03T16:54:08.989963Z",
     "iopub.status.busy": "2022-11-03T16:54:08.988925Z",
     "iopub.status.idle": "2022-11-03T16:54:09.062089Z",
     "shell.execute_reply": "2022-11-03T16:54:09.060958Z"
    },
    "papermill": {
     "duration": 0.091746,
     "end_time": "2022-11-03T16:54:09.064680",
     "exception": false,
     "start_time": "2022-11-03T16:54:08.972934",
     "status": "completed"
    },
    "tags": []
   },
   "outputs": [
    {
     "data": {
      "text/plain": [
       "<9742x1360 sparse matrix of type '<class 'numpy.float64'>'\n",
       "\twith 23318 stored elements in Compressed Sparse Row format>"
      ]
     },
     "execution_count": 25,
     "metadata": {},
     "output_type": "execute_result"
    }
   ],
   "source": [
    "tfv_matrix = tfid.fit_transform(new_df['metadata'])\n",
    "tfv_matrix"
   ]
  },
  {
   "cell_type": "code",
   "execution_count": 26,
   "id": "81f83a1b",
   "metadata": {
    "execution": {
     "iopub.execute_input": "2022-11-03T16:54:09.096606Z",
     "iopub.status.busy": "2022-11-03T16:54:09.096194Z",
     "iopub.status.idle": "2022-11-03T16:54:09.102649Z",
     "shell.execute_reply": "2022-11-03T16:54:09.101581Z"
    },
    "papermill": {
     "duration": 0.024862,
     "end_time": "2022-11-03T16:54:09.104714",
     "exception": false,
     "start_time": "2022-11-03T16:54:09.079852",
     "status": "completed"
    },
    "tags": []
   },
   "outputs": [
    {
     "data": {
      "text/plain": [
       "(9742, 1360)"
      ]
     },
     "execution_count": 26,
     "metadata": {},
     "output_type": "execute_result"
    }
   ],
   "source": [
    "# check shape of matrix\n",
    "tfv_matrix.shape"
   ]
  },
  {
   "cell_type": "code",
   "execution_count": 27,
   "id": "b398b9cc",
   "metadata": {
    "execution": {
     "iopub.execute_input": "2022-11-03T16:54:09.135765Z",
     "iopub.status.busy": "2022-11-03T16:54:09.134979Z",
     "iopub.status.idle": "2022-11-03T16:54:11.091646Z",
     "shell.execute_reply": "2022-11-03T16:54:11.090361Z"
    },
    "papermill": {
     "duration": 1.975437,
     "end_time": "2022-11-03T16:54:11.094498",
     "exception": false,
     "start_time": "2022-11-03T16:54:09.119061",
     "status": "completed"
    },
    "tags": []
   },
   "outputs": [],
   "source": [
    "# import linear_kernel from sklearn\n",
    "from sklearn.metrics.pairwise import linear_kernel\n",
    "### compute the sigmoid kernel\n",
    "sig = linear_kernel(tfv_matrix, tfv_matrix)"
   ]
  },
  {
   "cell_type": "code",
   "execution_count": 28,
   "id": "c2bcd559",
   "metadata": {
    "execution": {
     "iopub.execute_input": "2022-11-03T16:54:11.126148Z",
     "iopub.status.busy": "2022-11-03T16:54:11.125523Z",
     "iopub.status.idle": "2022-11-03T16:54:11.130560Z",
     "shell.execute_reply": "2022-11-03T16:54:11.129604Z"
    },
    "papermill": {
     "duration": 0.022948,
     "end_time": "2022-11-03T16:54:11.132671",
     "exception": false,
     "start_time": "2022-11-03T16:54:11.109723",
     "status": "completed"
    },
    "tags": []
   },
   "outputs": [],
   "source": [
    "# store index of title \n",
    "indices = pd.Series(new_df.index, index=new_df[\"title\"])"
   ]
  },
  {
   "cell_type": "code",
   "execution_count": 29,
   "id": "21f5f4b7",
   "metadata": {
    "execution": {
     "iopub.execute_input": "2022-11-03T16:54:11.163942Z",
     "iopub.status.busy": "2022-11-03T16:54:11.163241Z",
     "iopub.status.idle": "2022-11-03T16:54:11.172909Z",
     "shell.execute_reply": "2022-11-03T16:54:11.171757Z"
    },
    "papermill": {
     "duration": 0.028109,
     "end_time": "2022-11-03T16:54:11.175254",
     "exception": false,
     "start_time": "2022-11-03T16:54:11.147145",
     "status": "completed"
    },
    "tags": []
   },
   "outputs": [
    {
     "data": {
      "text/plain": [
       "title\n",
       "Toy Story                                0\n",
       "Jumanji                                  1\n",
       "Grumpier Old Men                         2\n",
       "Waiting to Exhale                        3\n",
       "Father of the Bride Part II              4\n",
       "                                      ... \n",
       "Black Butler: Book of the Atlantic    9737\n",
       "No Game No Life: Zero                 9738\n",
       "Flint                                 9739\n",
       "Bungo Stray Dogs: Dead Apple          9740\n",
       "Andrew Dice Clay: Dice Rules          9741\n",
       "Length: 9742, dtype: int64"
      ]
     },
     "execution_count": 29,
     "metadata": {},
     "output_type": "execute_result"
    }
   ],
   "source": [
    "indices"
   ]
  },
  {
   "cell_type": "code",
   "execution_count": 30,
   "id": "237def54",
   "metadata": {
    "execution": {
     "iopub.execute_input": "2022-11-03T16:54:11.206379Z",
     "iopub.status.busy": "2022-11-03T16:54:11.205893Z",
     "iopub.status.idle": "2022-11-03T16:54:11.212877Z",
     "shell.execute_reply": "2022-11-03T16:54:11.211933Z"
    },
    "papermill": {
     "duration": 0.025041,
     "end_time": "2022-11-03T16:54:11.214928",
     "exception": false,
     "start_time": "2022-11-03T16:54:11.189887",
     "status": "completed"
    },
    "tags": []
   },
   "outputs": [
    {
     "data": {
      "text/plain": [
       "0"
      ]
     },
     "execution_count": 30,
     "metadata": {},
     "output_type": "execute_result"
    }
   ],
   "source": [
    "indices[\"Toy Story\"]"
   ]
  },
  {
   "cell_type": "markdown",
   "id": "d19912f8",
   "metadata": {
    "papermill": {
     "duration": 0.014318,
     "end_time": "2022-11-03T16:54:11.244032",
     "exception": false,
     "start_time": "2022-11-03T16:54:11.229714",
     "status": "completed"
    },
    "tags": []
   },
   "source": [
    "# Step 4 : Create a function for movie recomendation"
   ]
  },
  {
   "cell_type": "code",
   "execution_count": 31,
   "id": "77f43ae1",
   "metadata": {
    "execution": {
     "iopub.execute_input": "2022-11-03T16:54:11.275562Z",
     "iopub.status.busy": "2022-11-03T16:54:11.274896Z",
     "iopub.status.idle": "2022-11-03T16:54:11.281169Z",
     "shell.execute_reply": "2022-11-03T16:54:11.280268Z"
    },
    "papermill": {
     "duration": 0.024619,
     "end_time": "2022-11-03T16:54:11.283373",
     "exception": false,
     "start_time": "2022-11-03T16:54:11.258754",
     "status": "completed"
    },
    "tags": []
   },
   "outputs": [],
   "source": [
    "def recomend_movie(title,cosine_sin=sig):\n",
    "    idx = indices[title]\n",
    "    sim_scores = enumerate(cosine_sin[idx])\n",
    "    sim_scores = sorted(sim_scores, key=lambda x : x[1], reverse=True)\n",
    "    # how many movies will recomend is set here\n",
    "    sim_scores = sim_scores[1:10]            \n",
    "    movies_indices = [i[0] for i in sim_scores]\n",
    "    movie_rec = new_df['title'].iloc[movies_indices].reset_index\n",
    "    print(movie_rec)"
   ]
  },
  {
   "cell_type": "markdown",
   "id": "9de564a9",
   "metadata": {
    "papermill": {
     "duration": 0.014431,
     "end_time": "2022-11-03T16:54:11.312419",
     "exception": false,
     "start_time": "2022-11-03T16:54:11.297988",
     "status": "completed"
    },
    "tags": []
   },
   "source": [
    "#  Step 5 : Function Call"
   ]
  },
  {
   "cell_type": "code",
   "execution_count": 32,
   "id": "ffbc3aac",
   "metadata": {
    "execution": {
     "iopub.execute_input": "2022-11-03T16:54:11.343877Z",
     "iopub.status.busy": "2022-11-03T16:54:11.343238Z",
     "iopub.status.idle": "2022-11-03T16:54:11.355805Z",
     "shell.execute_reply": "2022-11-03T16:54:11.354697Z"
    },
    "papermill": {
     "duration": 0.031354,
     "end_time": "2022-11-03T16:54:11.358498",
     "exception": false,
     "start_time": "2022-11-03T16:54:11.327144",
     "status": "completed"
    },
    "tags": []
   },
   "outputs": [
    {
     "name": "stdout",
     "output_type": "stream",
     "text": [
      "<bound method Series.reset_index of 7184                          Partly Cloudy\n",
      "7917                                 Presto\n",
      "8273    Cloudy with a Chance of Meatballs 2\n",
      "8674      Stuart Little 3: Call of the Wild\n",
      "9536           Last Year's Snow Was Falling\n",
      "9560                   Wow! A Talking Fish!\n",
      "1584                  All Dogs Go to Heaven\n",
      "2160                             Thumbelina\n",
      "3937                  Care Bears Movie, The\n",
      "Name: title, dtype: object>\n"
     ]
    }
   ],
   "source": [
    "recomend_movie(\"Toy Story\")"
   ]
  },
  {
   "cell_type": "code",
   "execution_count": 33,
   "id": "fba61d6a",
   "metadata": {
    "execution": {
     "iopub.execute_input": "2022-11-03T16:54:11.390550Z",
     "iopub.status.busy": "2022-11-03T16:54:11.389970Z",
     "iopub.status.idle": "2022-11-03T16:54:11.402765Z",
     "shell.execute_reply": "2022-11-03T16:54:11.401231Z"
    },
    "papermill": {
     "duration": 0.031457,
     "end_time": "2022-11-03T16:54:11.405277",
     "exception": false,
     "start_time": "2022-11-03T16:54:11.373820",
     "status": "completed"
    },
    "tags": []
   },
   "outputs": [
    {
     "name": "stdout",
     "output_type": "stream",
     "text": [
      "<bound method Series.reset_index of 864                         Hustler White\n",
      "1128           Kama Sutra: A Tale of Love\n",
      "1130                           Love Jones\n",
      "1140          Love and Other Catastrophes\n",
      "1151            Temptress Moon (Feng Yue)\n",
      "1182                                 Fall\n",
      "1745                       Meet Joe Black\n",
      "1879                  Message in a Bottle\n",
      "2033    Autumn Tale, An (Conte d'automne)\n",
      "Name: title, dtype: object>\n"
     ]
    }
   ],
   "source": [
    "recomend_movie(\"Grumpier Old Men\")"
   ]
  }
 ],
 "metadata": {
  "kernelspec": {
   "display_name": "Python 3 (ipykernel)",
   "language": "python",
   "name": "python3"
  },
  "language_info": {
   "codemirror_mode": {
    "name": "ipython",
    "version": 3
   },
   "file_extension": ".py",
   "mimetype": "text/x-python",
   "name": "python",
   "nbconvert_exporter": "python",
   "pygments_lexer": "ipython3",
   "version": "3.10.9"
  },
  "papermill": {
   "default_parameters": {},
   "duration": 14.692116,
   "end_time": "2022-11-03T16:54:12.434978",
   "environment_variables": {},
   "exception": null,
   "input_path": "__notebook__.ipynb",
   "output_path": "__notebook__.ipynb",
   "parameters": {},
   "start_time": "2022-11-03T16:53:57.742862",
   "version": "2.3.4"
  }
 },
 "nbformat": 4,
 "nbformat_minor": 5
}
